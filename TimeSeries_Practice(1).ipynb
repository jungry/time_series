{
 "cells": [
  {
   "cell_type": "code",
   "execution_count": 1,
   "metadata": {
    "colab": {
     "base_uri": "https://localhost:8080/"
    },
    "id": "Oa6qAhqZyIl_",
    "outputId": "5dab0e7b-2380-4484-ec95-f53b555a6c65"
   },
   "outputs": [
    {
     "ename": "ModuleNotFoundError",
     "evalue": "No module named 'google.colab'",
     "output_type": "error",
     "traceback": [
      "\u001b[0;31m---------------------------------------------------------------------------\u001b[0m",
      "\u001b[0;31mModuleNotFoundError\u001b[0m                       Traceback (most recent call last)",
      "Cell \u001b[0;32mIn[1], line 2\u001b[0m\n\u001b[1;32m      1\u001b[0m \u001b[38;5;66;03m# Google Mount\u001b[39;00m\n\u001b[0;32m----> 2\u001b[0m \u001b[38;5;28;01mfrom\u001b[39;00m \u001b[38;5;21;01mgoogle\u001b[39;00m\u001b[38;5;21;01m.\u001b[39;00m\u001b[38;5;21;01mcolab\u001b[39;00m \u001b[38;5;28;01mimport\u001b[39;00m drive\n\u001b[1;32m      3\u001b[0m drive\u001b[38;5;241m.\u001b[39mmount(\u001b[38;5;124m'\u001b[39m\u001b[38;5;124m/content/drive\u001b[39m\u001b[38;5;124m'\u001b[39m)\n",
      "\u001b[0;31mModuleNotFoundError\u001b[0m: No module named 'google.colab'"
     ]
    }
   ],
   "source": [
    "# Google Mount\n",
    "from google.colab import drive\n",
    "drive.mount('/content/drive')"
   ]
  },
  {
   "cell_type": "markdown",
   "metadata": {
    "id": "JY4F2ZiHpXbd"
   },
   "source": [
    "# Basic Python for Linear Algebra"
   ]
  },
  {
   "cell_type": "code",
   "execution_count": null,
   "metadata": {
    "colab": {
     "base_uri": "https://localhost:8080/"
    },
    "id": "NewpVGgzpfbZ",
    "outputId": "23638520-6aa5-4304-d5c6-9dab31fea1a0"
   },
   "outputs": [],
   "source": [
    "import numpy as np\n",
    "\n",
    "# Creating a vector\n",
    "vector = np.array([1, 2, 3])\n",
    "vector"
   ]
  },
  {
   "cell_type": "code",
   "execution_count": null,
   "metadata": {
    "colab": {
     "base_uri": "https://localhost:8080/"
    },
    "id": "70-s7oc9dqGy",
    "outputId": "35c1dd41-9b84-4387-c521-0d9fa102c6b4"
   },
   "outputs": [],
   "source": [
    "# Creating a matrix\n",
    "matrix = np.array([[1, 2, 3], [4, 5, 6], [7, 8, 9]])\n",
    "matrix"
   ]
  },
  {
   "cell_type": "markdown",
   "metadata": {
    "id": "R6l6jhPnhkMU"
   },
   "source": [
    "### Vector Addition and Subtraction\n",
    "Vector addition involves adding corresponding elements of two vectors to produce a new vector. Similarly, vector subtraction involves subtracting corresponding elements.\n",
    "\n",
    "**Example:**\n",
    "\n",
    "a = \\begin{bmatrix} a_1 \\\\ a_2 \\\\ a_3 \\end{bmatrix}\n",
    "b = \\begin{bmatrix} b_1 \\\\ b_2 \\\\ b_3 \\end{bmatrix}\n",
    "\n",
    "a + b = \\begin{bmatrix} a_1 + b_1 \\\\ a_2 + b_2 \\\\ a_3 + b_3 \\end{bmatrix}\n",
    "\n",
    "a - b = \\begin{bmatrix} a_1 - b_1 \\\\ a_2 - b_2 \\\\ a_3 - b_3 \\end{bmatrix}"
   ]
  },
  {
   "cell_type": "code",
   "execution_count": null,
   "metadata": {
    "colab": {
     "base_uri": "https://localhost:8080/"
    },
    "id": "qTSS0m-5pXMg",
    "outputId": "63795d84-9d13-443d-a135-8dacae8dbbed"
   },
   "outputs": [],
   "source": [
    "a = np.array([1, 2, 3])\n",
    "b = np.array([4, 5, 6])\n",
    "\n",
    "# Vector addition\n",
    "vector_sum = a + b\n",
    "print(\"Vector Addition:\", vector_sum)\n",
    "\n",
    "# Vector subtraction\n",
    "vector_diff = a - b\n",
    "print(\"Vector Subtraction:\", vector_diff)"
   ]
  },
  {
   "cell_type": "markdown",
   "metadata": {
    "id": "K_fsaeCEjR_w"
   },
   "source": [
    "### Matrix Addition and Subtraction\n",
    "\n",
    "Matrix addition and subtraction are similar to vector operations but applied element-wise to matrices of the same dimension.\n",
    "\n",
    "**Example:**\n",
    "\n",
    "A = \\begin{bmatrix} a_{11} & a_{12} \\\\ a_{21} & a_{22} \\end{bmatrix}\n",
    "B = \\begin{bmatrix} b_{11} & b_{12} \\\\ b_{21} & b_{22} \\end{bmatrix}\n",
    "\n",
    "A + B = \\begin{bmatrix} a_{11} + b_{11} & a_{12} + b_{12} \\\\ a_{21} + b_{21} & a_{22} + b_{22} \\end{bmatrix}\n",
    "\n",
    "A - B = \\begin{bmatrix} a_{11} - b_{11} & a_{12} - b_{12} \\\\ a_{21} - b_{21} & a_{22} - b_{22} \\end{bmatrix}"
   ]
  },
  {
   "cell_type": "code",
   "execution_count": null,
   "metadata": {
    "colab": {
     "base_uri": "https://localhost:8080/"
    },
    "id": "Hwn-npSvfV_v",
    "outputId": "57302dbc-69a8-40de-a723-7ee429963a76"
   },
   "outputs": [],
   "source": [
    "A = np.array([[1, 2], [3, 4]])\n",
    "B = np.array([[5, 6], [7, 8]])\n",
    "\n",
    "# Matrix addition\n",
    "matrix_sum = A + B\n",
    "print(\"Matrix Addition:\\n\", matrix_sum)\n",
    "\n",
    "# Matrix subtraction\n",
    "matrix_diff = A - B\n",
    "print(\"Matrix Subtraction:\\n\", matrix_diff)"
   ]
  },
  {
   "cell_type": "markdown",
   "metadata": {
    "id": "N_FZE573phN9"
   },
   "source": [
    "### Scalar Multiplication\n",
    "\n",
    "Scalar multiplication involves multiplying each element of a vector or matrix by a scalar (a single number).\n",
    "\n",
    "**Example:**\n",
    "\n",
    "For a vector:\n",
    "\n",
    "\n",
    "k ⋅ a =\n",
    "k ⋅ \\begin{bmatrix} a_1 \\\\ a_2 \\\\ a_3 \\end{bmatrix} = \\begin{bmatrix} k \\cdot a_1 \\\\ k \\cdot a_2 \\\\ k \\cdot a_3 \\end{bmatrix}\n",
    "\n",
    "\n",
    "For a matrix:\n",
    "\n",
    "k ⋅ A = k ⋅ \\begin{bmatrix} a_{11} & a_{12} \\\\ a_{21} & a_{22} \\end{bmatrix} = \\begin{bmatrix} k \\cdot a_{11} & k \\cdot a_{12} \\\\ k \\cdot a_{21} & k \\cdot a_{22} \\end{bmatrix}"
   ]
  },
  {
   "cell_type": "code",
   "execution_count": null,
   "metadata": {
    "colab": {
     "base_uri": "https://localhost:8080/"
    },
    "id": "SmhKtxLtfnUd",
    "outputId": "9f568613-b6a1-4fe0-ccf6-58a49b1f32df"
   },
   "outputs": [],
   "source": [
    "# Define a scalar\n",
    "k = 2\n",
    "\n",
    "# Scalar multiplication with vector\n",
    "scalar_vector_product = k * a\n",
    "print(\"Scalar Multiplication with Vector:\", scalar_vector_product)\n",
    "\n",
    "# Scalar multiplication with matrix\n",
    "scalar_matrix_product = k * A\n",
    "print(\"Scalar Multiplication with Matrix:\\n\", scalar_matrix_product)\n"
   ]
  },
  {
   "cell_type": "markdown",
   "metadata": {
    "id": "wnNQyjX_t5V2"
   },
   "source": [
    "### Dot Product\n",
    "\n",
    "The dot product of two vectors is the sum of the products of their corresponding elements. It is also known as the scalar product.\n",
    "\n",
    "**Example:**\n",
    "\n",
    "a = \\begin{bmatrix} a_1 \\\\ a_2 \\\\ a_3 \\end{bmatrix}\n",
    "b = \\begin{bmatrix} b_1 \\\\ b_2 \\\\ b_3 \\end{bmatrix}\n",
    "\n",
    "a **⋅** b = a<sub>1</sub> **⋅** b<sub>1</sub> + a<sub>2</sub> **⋅** b<sub>2</sub> + a<sub>3</sub> **⋅** b<sub>3</sub>\n",
    "\n",
    "### Matrix Multiplication\n",
    "\n",
    "Matrix multiplication involves multiplying rows of the first matrix by columns of the second matrix and summing the results to form a new matrix.\n",
    "\n",
    "**Example:**\n",
    "\n",
    "A = \\begin{bmatrix} a_{11} & a_{12} \\\\ a_{21} & a_{22} \\end{bmatrix}\n",
    "B = \\begin{bmatrix} b_{11} & b_{12} \\\\ b_{21} & b_{22} \\end{bmatrix}\n",
    "\n",
    "\n",
    "C = A **⋅** B = \\begin{bmatrix} a_{11} \\cdot b_{11} + a_{12} \\cdot b_{21} & a_{11} \\cdot b_{12} + a_{12} \\cdot b_{22} \\\\ a_{21} \\cdot b_{11} + a_{22} \\cdot b_{21} & a_{21} \\cdot b_{12} + a_{22} \\cdot b_{22} \\end{bmatrix}"
   ]
  },
  {
   "cell_type": "code",
   "execution_count": null,
   "metadata": {
    "colab": {
     "base_uri": "https://localhost:8080/"
    },
    "id": "JPiUkM1Ggm_x",
    "outputId": "9a7a759d-4abf-4803-b313-ebf2ca66bcd1"
   },
   "outputs": [],
   "source": [
    "# Dot product of vectors\n",
    "dot_product = np.dot(a, b)\n",
    "print(\"Dot Product of Vectors:\", dot_product)\n",
    "\n",
    "# Matrix multiplication\n",
    "matrix_product = np.dot(A, B)\n",
    "print(\"Matrix Multiplication:\\n\", matrix_product)"
   ]
  },
  {
   "cell_type": "markdown",
   "metadata": {
    "id": "Eoqmn1QYqLG6"
   },
   "source": [
    "# Basic Python for statistics"
   ]
  },
  {
   "cell_type": "markdown",
   "metadata": {
    "id": "0VDQ8eS13X5I"
   },
   "source": [
    "## Descriptive Statistics\n",
    "Descriptive statistics summarize and describe the features of a dataset.\n",
    "\n",
    "**Mean**\n",
    "<br>\n",
    "The mean is the average of all data points.\n",
    "\n"
   ]
  },
  {
   "cell_type": "code",
   "execution_count": null,
   "metadata": {
    "colab": {
     "base_uri": "https://localhost:8080/"
    },
    "id": "Q_iV1XuE2-LK",
    "outputId": "ced1cef4-684d-4050-b57c-0f23f5f8ef39"
   },
   "outputs": [],
   "source": [
    "data = [1, 2, 2, 4, 4, 4, 6, 8, 9, 10]\n",
    "mean = np.mean(data)\n",
    "print(\"Mean:\", mean)"
   ]
  },
  {
   "cell_type": "markdown",
   "metadata": {
    "id": "P5SCQaiT3wAV"
   },
   "source": [
    "**Median**\n",
    "<br>\n",
    "The median is the middle value in a sorted dataset.\n",
    "\n"
   ]
  },
  {
   "cell_type": "code",
   "execution_count": null,
   "metadata": {
    "colab": {
     "base_uri": "https://localhost:8080/"
    },
    "id": "0WeuRCOL3KN3",
    "outputId": "5ca8138f-c42e-4516-ba2e-faf7d0981293"
   },
   "outputs": [],
   "source": [
    "median = np.median(data)\n",
    "print(\"Median:\", median)"
   ]
  },
  {
   "cell_type": "markdown",
   "metadata": {
    "id": "PCVXtgJG4eFd"
   },
   "source": [
    "**Standard Deviation**\n",
    "<br>\n",
    "The standard deviation measures the dispersion of data points from the mean."
   ]
  },
  {
   "cell_type": "code",
   "execution_count": null,
   "metadata": {
    "colab": {
     "base_uri": "https://localhost:8080/"
    },
    "id": "-Zc9tZ684qVv",
    "outputId": "c0e98389-081d-4e17-fd60-4a1fb043f1b2"
   },
   "outputs": [],
   "source": [
    "std_dev = np.std(data)\n",
    "print(\"Standard Deviation:\", std_dev)"
   ]
  },
  {
   "cell_type": "markdown",
   "metadata": {
    "id": "G_TB8uAp4vMj"
   },
   "source": [
    "**Variance**\n",
    "<br>\n",
    "The variance is the square of the standard deviation."
   ]
  },
  {
   "cell_type": "code",
   "execution_count": null,
   "metadata": {
    "colab": {
     "base_uri": "https://localhost:8080/"
    },
    "id": "pQdpgXlY44BL",
    "outputId": "54f70de3-0c9c-46db-f891-23eea96736e2"
   },
   "outputs": [],
   "source": [
    "variance = np.var(data)\n",
    "print(\"Variance:\", variance)"
   ]
  },
  {
   "cell_type": "markdown",
   "metadata": {
    "id": "QGyy1YwT497y"
   },
   "source": [
    "**Range**\n",
    "<br>\n",
    "The range is the difference between the maximum and minimum values in a dataset."
   ]
  },
  {
   "cell_type": "code",
   "execution_count": null,
   "metadata": {
    "colab": {
     "base_uri": "https://localhost:8080/"
    },
    "id": "geAkAgYv5ELM",
    "outputId": "e114c0fb-6922-48dd-cf0c-877bfca7c280"
   },
   "outputs": [],
   "source": [
    "data_range = np.ptp(data)\n",
    "print(\"Range:\", data_range)"
   ]
  },
  {
   "cell_type": "markdown",
   "metadata": {
    "id": "QKQOJkOo5a4O"
   },
   "source": [
    "**Percentiles**\n",
    "<br>\n",
    "Percentiles indicate the relative standing of a value in a dataset."
   ]
  },
  {
   "cell_type": "code",
   "execution_count": null,
   "metadata": {
    "colab": {
     "base_uri": "https://localhost:8080/"
    },
    "id": "io8aEAr_5Uhn",
    "outputId": "55599d11-daa2-4c3f-881c-79a4eb8287a1"
   },
   "outputs": [],
   "source": [
    "#백분위수는 데이터셋에서 특정 값의 상대적인 위치를 나타낸다.\n",
    "#오름차순으로정렬된 데이터셋에서 하위25%에 해당하는 값\n",
    "percentile_25 = np.percentile(data, 25)\n",
    "#하위 75%에 해당하는 값\n",
    "percentile_75 = np.percentile(data, 75)\n",
    "\n",
    "print(\"25th Percentile:\", percentile_25)\n",
    "print(\"75th Percentile:\", percentile_75)"
   ]
  },
  {
   "cell_type": "markdown",
   "metadata": {
    "id": "8Sgnd1PT53ik"
   },
   "source": [
    "## Data Visualization\n",
    "Visualizing data helps in understanding its distribution and identifying patterns.\n",
    "\n",
    "**Histograms**\n",
    "<br>\n",
    "A histogram represents the frequency distribution of a dataset."
   ]
  },
  {
   "cell_type": "code",
   "execution_count": null,
   "metadata": {
    "colab": {
     "base_uri": "https://localhost:8080/",
     "height": 472
    },
    "id": "aIxnsI7y6hqE",
    "outputId": "62ca1bf0-4eb3-4cc9-c0c2-f3c9e99d247c"
   },
   "outputs": [],
   "source": [
    "import matplotlib.pyplot as plt\n",
    "\n",
    "plt.hist(data, bins=5, edgecolor='black')\n",
    "plt.title('Histogram')\n",
    "plt.xlabel('Value')\n",
    "plt.ylabel('Frequency')\n",
    "plt.show()\n"
   ]
  },
  {
   "cell_type": "markdown",
   "metadata": {
    "id": "KOFv76l468Zy"
   },
   "source": [
    "**Box Plots**\n",
    "<br>\n",
    "A box plot displays the distribution of data based on a five-number summary: minimum, first quartile, median, third quartile, and maximum."
   ]
  },
  {
   "cell_type": "code",
   "execution_count": null,
   "metadata": {
    "colab": {
     "base_uri": "https://localhost:8080/",
     "height": 452
    },
    "id": "w9rt0alG66Gh",
    "outputId": "bd9ede51-804e-4718-d713-46dbd8c9dde2"
   },
   "outputs": [],
   "source": [
    "plt.boxplot(data)\n",
    "plt.title('Box Plot')\n",
    "plt.ylabel('Value')\n",
    "plt.show()"
   ]
  },
  {
   "cell_type": "markdown",
   "metadata": {
    "id": "1ny84mub8Awt"
   },
   "source": [
    "### Probability Distributions\n",
    "**Normal Distribution**\n",
    "<br>\n",
    "A normal distribution is a bell-shaped curve where most of the data points are centered around the mean."
   ]
  },
  {
   "cell_type": "code",
   "execution_count": null,
   "metadata": {
    "colab": {
     "base_uri": "https://localhost:8080/",
     "height": 472
    },
    "id": "f1VSEApA8HcR",
    "outputId": "6d862a9a-77d6-43fc-94b7-5407d397a1a4"
   },
   "outputs": [],
   "source": [
    "#정규 분포는 종 모양의 곡선으로,\n",
    "#대부분의 데이터 포인트가 평균 값을 중심으로 집중되는 분포를 의미\n",
    "\n",
    "#정규 분포의 평균을 0으로 설정\n",
    "mean = 0\n",
    "#정규 분포의 표준 편차를 1로 설정\n",
    "std_dev = 1\n",
    "normal_dist = np.random.normal(mean, std_dev, 1000)\n",
    "#평균이 0이고 표준 편차가 1인 정규 분포에서 1000개의 샘플을 생성하여 normal_dist에 저장\n",
    "\n",
    "plt.hist(normal_dist, bins=30, edgecolor='black', density=True)\n",
    "plt.title('Normal Distribution')\n",
    "plt.xlabel('Value')\n",
    "plt.ylabel('Frequency')\n",
    "plt.show()\n",
    "\n",
    "'''plt.hist(): normal_dist 데이터의 히스토그램을 그림.\n",
    "bins=30: 히스토그램의 막대를 30개로 나누어 표시함.\n",
    "edgecolor='black': 막대의 테두리를 검은색으로 설정.\n",
    "density=True: 히스토그램을 확률 밀도 함수로 변환하여 y축에 빈도 대신 확률 밀도를 표시함.'''\n"
   ]
  },
  {
   "cell_type": "markdown",
   "metadata": {
    "id": "L2cN289i8iXS"
   },
   "source": [
    "**Binomial Distribution**\n",
    "<br>\n",
    "A binomial distribution describes the number of successes in a fixed number of trials."
   ]
  },
  {
   "cell_type": "code",
   "execution_count": null,
   "metadata": {
    "colab": {
     "base_uri": "https://localhost:8080/",
     "height": 472
    },
    "id": "cJwZZeBp8lu2",
    "outputId": "89f4a902-8e25-49c1-a46d-7456653bb7f4"
   },
   "outputs": [],
   "source": [
    "'''이항 분포는 일정한 횟수의 시험에서 성공의 횟수를 설명하는 확률 분포입니다.\n",
    "여기서 \"성공\"과 \"실패\"라는 두 가지 가능한 결과가 있으며,\n",
    "각 시험에서 성공할 확률이 일정하고 독립적입니다.'''\n",
    "\n",
    "#각 실험에서 시험의 총 횟수(예: 동전을 10번 던지는 것)를 설정\n",
    "n = 10  # number of trials\n",
    "#각 시험에서 성공할 확률을 0.5 (50%)로 설정\n",
    "p = 0.5  # probability of success\n",
    "binom_dist = np.random.binomial(n, p, 1000)\n",
    "\n",
    "plt.hist(binom_dist, bins=10, edgecolor='black', density=True)\n",
    "plt.title('Binomial Distribution')\n",
    "plt.xlabel('Number of Successes')\n",
    "plt.ylabel('Frequency')\n",
    "plt.show()"
   ]
  },
  {
   "cell_type": "markdown",
   "metadata": {
    "id": "IetuGlI69SXW"
   },
   "source": [
    "### Inferential Statistics\n",
    "**Hypothesis Testing**\n",
    "<br>\n",
    "Hypothesis testing is used to determine if there is enough evidence to reject a null hypothesis.\n",
    "\n",
    "**t-tests**\n",
    "<br>\n",
    "A t-test compares the means of two groups."
   ]
  },
  {
   "cell_type": "code",
   "execution_count": null,
   "metadata": {
    "colab": {
     "base_uri": "https://localhost:8080/"
    },
    "id": "5PckwPio9bFv",
    "outputId": "ab811152-4ab9-499a-ed21-52273330a4fd"
   },
   "outputs": [],
   "source": [
    "'''\n",
    "추론 통계 (Inferential Statistics)\n",
    "\n",
    "가설 검정 (Hypothesis Testing) 가설 검정은 귀무가설(null hypothesis:두 변수 간에 차이나 관계가 없다는 가정)을 기각할 수 있는 충분한 증거가 있는지 판단하는 방법입니다.\n",
    "일반적으로 두 가지 가설을 설정하고, 데이터를 분석하여 어느 쪽이 더 적합한지를 결정합니다.\n",
    "\n",
    "t-검정 (t-tests)은 두 그룹의 평균을 비교하는 통계적 방법입니다.\n",
    "이 검정을 통해 두 그룹 간의 평균 차이가 통계적으로 유의미한지를 확인할 수 있습니다.\n",
    "\n",
    "t-검정은 두 그룹 간의 평균 차이가 통계적으로 유의미한지 확인하는 데 사용됩니다.\n",
    "즉, 두 샘플이 우연에 의해 차이가 나는 것인지, 실제로 차이가 있는지를 평가합니다.\n",
    "'''\n",
    "\n",
    "import scipy.stats as stats\n",
    "\n",
    "# Generate two random samples\n",
    "sample1 = np.random.normal(0, 1, 100)\n",
    "sample2 = np.random.normal(0.5, 1, 100)\n",
    "\n",
    "# Perform a t-test\n",
    "t_stat, p_value = stats.ttest_ind(sample1, sample2)\n",
    "#t_stat: t-통계량으로, 두 샘플의 평균 차이와 분산을 고려하여 계산됨\n",
    "#p_value: t-검정의 p-값으로, 두 샘플 간의 평균 차이가 우연에 의해 발생할 확률을 나타냄\n",
    "print(\"t-statistic:\", t_stat)\n",
    "print(\"p-value:\", p_value)\n",
    "\n",
    "'''만약 p_value가 0.05보다 작다면, 두 샘플 간의 평균 차이가 우연에 의한 것이 아니라는 결론을 내릴 수 있습니다.\n",
    "이는 두 샘플 간의 차이가 통계적으로 유의미하다고 볼 수 있음을 의미합니다.\n",
    "\n",
    "0.05보다 크다면, 두 샘플간의 평균차이는 우연일 확률이 높고, 통계적으로 유의미하다고 보기 힘듦.\n",
    "'''\n"
   ]
  },
  {
   "cell_type": "markdown",
   "metadata": {
    "id": "zSMHYmynqtZ2"
   },
   "source": [
    "# Numpy and Pandas functions related to time series"
   ]
  },
  {
   "cell_type": "markdown",
   "metadata": {
    "id": "o0-qCj6fsgK9"
   },
   "source": [
    "## python, numpy, pandas Date Types Comparison and Summary\n",
    "\n",
    "|Library|Date, Time Classes| Timedelta Classes|\n",
    "|-------|-------------|-------------|\n",
    "|datetime|datetime, date, time|timedelta|\n",
    "|numpy|datetime64|timedelta64|\n",
    "|pandas|Timestamp|Timedelta|\n",
    "\n",
    "- datetime is a built-in library in Python, with different classes depending on whether you want to use date, time, or a combination of both.\n",
    "For example, to represent 2021-3-16, you would use the date class, and to represent 2021-3-16 12:34:2, you would use the datetime class.\n",
    "\n",
    "- datetime64 and Timestamp are newly defined datetime classes in the numpy and pandas libraries, respectively.\n",
    "Both of these classes can be used to define dates, times, and datetimes within a single class."
   ]
  },
  {
   "cell_type": "markdown",
   "metadata": {
    "id": "noY_GD2MsuOL"
   },
   "source": [
    "### Handling Timestamps in Pandas"
   ]
  },
  {
   "cell_type": "code",
   "execution_count": null,
   "metadata": {
    "colab": {
     "base_uri": "https://localhost:8080/"
    },
    "id": "QG-Xw55JszV4",
    "outputId": "2d5dc673-d345-46d8-9769-0fcdfb3eea07"
   },
   "outputs": [],
   "source": [
    "\n",
    "'''\n",
    "datetime: Python의 기본 라이브러리로, 날짜와 시간 모두를 지원하는 다양한 클래스를 제공합니다.\n",
    "numpy.datetime64: 빠르고 효율적인 날짜 및 시간 처리를 위해 numpy에서 제공하는 클래스입니다.\n",
    "pandas.Timestamp: pandas의 데이터 분석 및 조작에 특화된 날짜 및 시간 클래스로, datetime과 유사하지만 추가 기능을 제공합니다.\n",
    "pandas.Timedelta: 날짜 또는 시간 간의 차이를 다루는 클래스입니다.\n",
    "'''\n",
    "\n",
    "import pandas as pd\n",
    "\n",
    "df = pd.read_excel(\"/content/drive/Shareddrives/timeseries-datasets/Sample - Superstore.xls\")\n",
    "df.columns"
   ]
  },
  {
   "cell_type": "code",
   "execution_count": null,
   "metadata": {
    "colab": {
     "base_uri": "https://localhost:8080/",
     "height": 618
    },
    "id": "Lglr6jk3tIST",
    "outputId": "2b77f1e5-ba38-458c-b146-853252cc68a3"
   },
   "outputs": [],
   "source": [
    "df.head(10)"
   ]
  },
  {
   "cell_type": "code",
   "execution_count": null,
   "metadata": {
    "colab": {
     "base_uri": "https://localhost:8080/"
    },
    "id": "SstKY7kLtFMN",
    "outputId": "bb53d509-a0e2-479e-86d0-781f78743cd5"
   },
   "outputs": [],
   "source": [
    "df.info()"
   ]
  },
  {
   "cell_type": "markdown",
   "metadata": {
    "id": "k7kb5xqLs9BH"
   },
   "source": [
    "###  Simplifying Time Series Data\n",
    "\n",
    "- Simplify the data by focusing only on the necessary information (order date and total sales by category) among multiple columns.\n",
    "\n",
    "- If you do not reset the index, Pandas will set the group variables as the index.\n",
    "\n",
    "The following code is an example of grouping a DataFrame 'df' by 'Order Date' and 'Category' to calculate the sum. After grouping the data by 'Order Date' and 'Category' columns, it computes the sum for each group, and then displays the top 5 rows of the grouped DataFrame using grouped_df.head()."
   ]
  },
  {
   "cell_type": "code",
   "execution_count": null,
   "metadata": {
    "colab": {
     "base_uri": "https://localhost:8080/",
     "height": 238
    },
    "id": "gPy0AYCis-Eh",
    "outputId": "7098acd8-55a6-4a0f-cadb-84828b28216e"
   },
   "outputs": [],
   "source": [
    "'''\n",
    "데이터 단순화: 필요한 열만 남기고 불필요한 열을 제거합니다.\n",
    "그룹화: 특정 열('Order Date'와 'Category')을 기준으로 데이터를 그룹화합니다.\n",
    "집계: 그룹화된 데이터에 대해 'Total Sales'의 합계를 계산합니다.\n",
    "결과 확인: 상위 5개 행을 출력하여 결과를 미리 확인합니다.\n",
    "\n",
    "'''\n",
    "\n",
    "group_variables =  ['Order Date', 'Category']\n",
    "\n",
    "#데이터프레임 df를 'Order Date'와 'Category' 열을 기준으로 그룹화. 같은 'Order Date'와 'Category' 값을 가진 행들이 그룹으로 묶임.\n",
    "grouped_df = df.groupby(group_variables).sum(numeric_only=True)\n",
    "\n",
    "#.sum(numeric_only=True): 그룹화된 각 그룹에 대해 모든 숫자형 열의 합계를 계산\n",
    "#numeric_only=True는 숫자형 열에 대해서만 합계를 계산하도록 지정\n",
    "\n",
    "grouped_df.head()\n",
    "\n",
    "# grouped_df.index()하면 데이터타입이 어떻게 나올까?"
   ]
  },
  {
   "cell_type": "code",
   "execution_count": null,
   "metadata": {
    "colab": {
     "base_uri": "https://localhost:8080/"
    },
    "id": "HL02sIZ1DOqc",
    "outputId": "d1e85828-f2e6-492c-e4b8-ec417c42610b"
   },
   "outputs": [],
   "source": [
    "print(\"Columns of the grouped DataFrame:\", grouped_df.columns)\n",
    "print(\"Index of the grouped DataFrame:\", grouped_df.index)"
   ]
  },
  {
   "cell_type": "markdown",
   "metadata": {
    "id": "-XwGxAbxtPPS"
   },
   "source": [
    "The following code is an example of grouping the DataFrame 'df' by 'Order Date' and 'Category' and then calculating the sum of the 'Sales' column after resetting the index."
   ]
  },
  {
   "cell_type": "code",
   "execution_count": null,
   "metadata": {
    "colab": {
     "base_uri": "https://localhost:8080/",
     "height": 206
    },
    "id": "DChFnKZYs43x",
    "outputId": "69c5db07-d527-4a90-b861-8bab2cdf1edf"
   },
   "outputs": [],
   "source": [
    "sales = df.groupby(group_variables)['Sales'].sum().reset_index()\n",
    "sales.head()\n",
    "\n",
    "grouped_df.head()\n",
    "'''\n",
    "['Sales']: 그룹화된 데이터 중 'Sales' 열만 선택\n",
    ".sum(): 각 그룹에 대해 'Sales' 열의 합계를 계산\n",
    ".reset_index(): 그룹화 후 자동으로 설정된 인덱스를 기본 인덱스로 되돌리고, 'Order Date'와 'Category' 열을 일반 열로 변환.\n",
    "그룹화된 변수들이 인덱스에 있으면 불편할 수 있으므로 이를 다시 일반 열로 설정.\n",
    "'''"
   ]
  },
  {
   "cell_type": "code",
   "execution_count": null,
   "metadata": {
    "colab": {
     "base_uri": "https://localhost:8080/"
    },
    "id": "gyGmOn0KtUtA",
    "outputId": "46123a53-14e2-4fd5-8e91-b7001eab571b"
   },
   "outputs": [],
   "source": [
    "print(\"Columns of the sales DataFrame:\", sales.columns)\n",
    "print(\"Index of the sales DataFrame:\", sales.index)"
   ]
  },
  {
   "cell_type": "markdown",
   "metadata": {
    "id": "vrDPuKziuHh4"
   },
   "source": [
    "### Numpy datetime64 Format\n",
    "\n",
    "NumPy date arrays are datetime64 objects in nanosecond (ns) units.\n",
    "\n",
    "The internal storage unit is automatically chosen from the string format and can be a date unit or a time unit. Date units include year ('Y'), month ('M'), week ('W'), day ('D'), and time units include hour ('h'), minute ('m'), second ('s'), millisecond ('ms')."
   ]
  },
  {
   "cell_type": "code",
   "execution_count": null,
   "metadata": {
    "colab": {
     "base_uri": "https://localhost:8080/"
    },
    "id": "hFroK_FquKoM",
    "outputId": "77741759-2708-48b7-d1db-5e1c862c0a69"
   },
   "outputs": [],
   "source": [
    "\n",
    "#datetime64 객체는 날짜와 시간을 나노초 단위로 저장하며, 문자열 형식에 따라 자동으로 적절한 단위가 선택되어 저장됩니다.\n",
    "'''\n",
    "sales['Order Date']: 데이터프레임 sales에서 'Order Date' 열을 선택합니다.\n",
    ".values: Pandas 시리즈(열) 데이터를 NumPy 배열로 변환합니다. 이 작업은 Pandas 객체를 NumPy 배열로 변환하는 역할을 합니다.\n",
    "'''\n",
    "order_date = sales['Order Date'].values\n",
    "order_date"
   ]
  },
  {
   "cell_type": "markdown",
   "metadata": {
    "id": "R7dAeomguNl2"
   },
   "source": [
    "The following code converts the 'order_date' array to the 'datetime64[D]' type to store the dates in day units."
   ]
  },
  {
   "cell_type": "code",
   "execution_count": null,
   "metadata": {
    "colab": {
     "base_uri": "https://localhost:8080/"
    },
    "id": "1c8Kq-ncuRUK",
    "outputId": "11d3ca2a-5700-43a5-f7c4-ba6b5c36bdb5"
   },
   "outputs": [],
   "source": [
    "order_date_daily = np.array(order_date, dtype='datetime64[D]')\n",
    "order_date_daily"
   ]
  },
  {
   "cell_type": "markdown",
   "metadata": {
    "id": "dU1T2KUYuUC2"
   },
   "source": [
    "The following code converts the 'order_date' array to the 'datetime64[M]' type to store the dates in month units."
   ]
  },
  {
   "cell_type": "code",
   "execution_count": null,
   "metadata": {
    "colab": {
     "base_uri": "https://localhost:8080/"
    },
    "id": "9g4rwUiUuXW7",
    "outputId": "3ac05be9-3d5e-4375-ad0c-af2b9612b808"
   },
   "outputs": [],
   "source": [
    "order_date_monthly = np.array(order_date, dtype='datetime64[M]')\n",
    "order_date_monthly"
   ]
  },
  {
   "cell_type": "markdown",
   "metadata": {
    "id": "iOR0XyRNuaLF"
   },
   "source": [
    "The following code extracts unique month units from the 'order_date_monthly' array."
   ]
  },
  {
   "cell_type": "code",
   "execution_count": null,
   "metadata": {
    "colab": {
     "base_uri": "https://localhost:8080/"
    },
    "id": "r-b0vEbnucIE",
    "outputId": "15364791-b7ee-4b94-de04-072cfbd2ebee"
   },
   "outputs": [],
   "source": [
    "np.unique(order_date_monthly)"
   ]
  },
  {
   "cell_type": "markdown",
   "metadata": {
    "id": "57NlNJJfufhh"
   },
   "source": [
    "The following code converts the 'order_date' array to the 'datetime64[Y]' type to store the dates in year units and then extracts the unique years."
   ]
  },
  {
   "cell_type": "code",
   "execution_count": null,
   "metadata": {
    "colab": {
     "base_uri": "https://localhost:8080/"
    },
    "id": "hJTRcgSNukQt",
    "outputId": "8f166bab-8ad2-40be-e6b7-11d61898b0f0"
   },
   "outputs": [],
   "source": [
    "np.unique(np.array(order_date, dtype='datetime64[Y]'))"
   ]
  },
  {
   "cell_type": "markdown",
   "metadata": {
    "id": "eFV6paRsuuIY"
   },
   "source": [
    "## Creating and Handling Time Series Data with Pandas DateTimeIndex\n",
    "\n",
    "- Data indexed by Timestamp is called TimeSeries data, meaning data indexed by DatetimeIndex.\n",
    "\n",
    "- Time series related classes and creation methods:\n",
    "\n",
    "| class         |           Description          |                               Creation Method |Pandas Class|\n",
    "|---------------|:-----------------------:|---------------------------------------:|------------:|\n",
    "| Timestamp     |     One timestamp    |                 to_datetime, Timestamp |pandas.Timestamp|\n",
    "| DatetimeIndex | Index of timestamp type | to_datetime, date_range, DatetimeIndex |pandas.DatetimeIndex|\n",
    "| Period        |       time period       |                                 Period |pandas.Period|"
   ]
  },
  {
   "cell_type": "markdown",
   "metadata": {
    "id": "Y13Em7mrxTN-"
   },
   "source": [
    "The following code creates a DataFrame with a random array of size (12, 4) following a standard normal distribution and names the columns 'n1', 'n2', 'n3', 'n4'."
   ]
  },
  {
   "cell_type": "code",
   "execution_count": null,
   "metadata": {
    "colab": {
     "base_uri": "https://localhost:8080/",
     "height": 206
    },
    "id": "hl2zE0YWuieu",
    "outputId": "df015216-4388-4929-8873-bcb884dbf9d8"
   },
   "outputs": [],
   "source": [
    "#표준 정규 분포(평균 0, 표준편차 1)를 따르는 12행 4열의 배열을 생성합니다. 이 배열은 무작위로 생성된 실수 값들로 채워집니다.\n",
    "a = np.random.standard_normal((12, 4))\n",
    "\n",
    "#NumPy 배열 a를 Pandas의 **데이터프레임(DataFrame)**으로 변환합니다. 열 이름을 ['n1', 'n2', 'n3', 'n4']로 지정하여 각 열에 이름을 부여합니다.\n",
    "df = pd.DataFrame(a, columns=['n1', 'n2', 'n3', 'n4'])\n",
    "df.head()"
   ]
  },
  {
   "cell_type": "markdown",
   "metadata": {
    "id": "ZTrHQNYhxYBc"
   },
   "source": [
    "## to_datetime()\n",
    "\n",
    "The following code takes a list 'date_str' containing dates in various string formats. It then uses the pd.to_datetime() function to convert these strings into datetime data type and create a DatetimeIndex."
   ]
  },
  {
   "cell_type": "code",
   "execution_count": null,
   "metadata": {
    "colab": {
     "base_uri": "https://localhost:8080/"
    },
    "id": "RG0xG1gvxXtE",
    "outputId": "3d0f21fe-c5e8-4ba5-e2eb-c4e3f6c3ed07"
   },
   "outputs": [],
   "source": [
    "'''\n",
    "여러 가지 형식으로 주어진 날짜 문자열을 Pandas의 to_datetime 함수를 사용하여 표준 날짜 형식으로 변환하는 작업을 수행함.\n",
    "'''\n",
    "date_str = ['2010-01-01', '2015, 7, 1', 'May, 1 2016',\n",
    "            'Dec, 25, 2019', 'DEC 1 2020', 'dec 20 2021', '2020 12 31']\n",
    "\n",
    "for dt in date_str:\n",
    "    print(pd.to_datetime(dt))\n",
    "\n",
    "#pd.to_datetime(dt): 각 날짜 문자열 dt를 Pandas의 to_datetime 함수를 사용하여 표준 날짜 형식으로 변환함\n",
    "#이 함수는 다양한 날짜 형식을 인식하고, 일관된 datetime64 객체로 변환함"
   ]
  },
  {
   "cell_type": "markdown",
   "metadata": {
    "id": "kF-zU2KAxjJN"
   },
   "source": [
    "## date_range\n",
    "```python\n",
    "pd.date_range(start, end, periods, freq)\n",
    "```\n",
    "\n",
    "- Without needing to input all dates/times, generate an index within a range by providing **start and end dates** or **start date and period**.\n",
    "\n",
    "- freq\n",
    "    - S: second  \n",
    "    - T: minute  \n",
    "    - H: hour  \n",
    "    - D: day  \n",
    "    - B: Business Day (not weekend)\n",
    "    - W: week (Sunday)\n",
    "    - M: end of month  \n",
    "    - MS: start of month  "
   ]
  },
  {
   "cell_type": "markdown",
   "metadata": {
    "id": "6Mu7P4jBxwMg"
   },
   "source": [
    "This code sets the start date to '2016-9-1' and generates a date range for 10 days from that start date. By default, the date interval is set to one day. As a result, a date range from the start date to the consecutive 10 days is created and stored in a DatetimeIndex object."
   ]
  },
  {
   "cell_type": "code",
   "execution_count": null,
   "metadata": {
    "colab": {
     "base_uri": "https://localhost:8080/"
    },
    "id": "6EI3cy_gxzPx",
    "outputId": "955241e0-0e96-4ee5-bc64-3f84ea0662b6"
   },
   "outputs": [],
   "source": [
    "# start ~ 10 days\n",
    "pd.date_range(start='2016-9-1', periods=10)"
   ]
  },
  {
   "cell_type": "markdown",
   "metadata": {
    "id": "JClgANgix1K8"
   },
   "source": [
    "This code sets the start date to '2019-5-1' and the end date to '2019-5-10'. It then sets the 'freq' parameter to 'B' to generate a range of business days (weekdays)."
   ]
  },
  {
   "cell_type": "code",
   "execution_count": null,
   "metadata": {
    "colab": {
     "base_uri": "https://localhost:8080/"
    },
    "id": "Btl72xlDx3Mx",
    "outputId": "c620fd06-f67c-47be-ae6f-f8706910d36c"
   },
   "outputs": [],
   "source": [
    "# Business days between start and end\n",
    "pd.date_range('2019-5-1', '2019-5-10', freq='B')"
   ]
  },
  {
   "cell_type": "markdown",
   "metadata": {
    "id": "nUG3a3fdx6fm"
   },
   "source": [
    "This code sets the start date to '2019-01-01' and generates a range of 12 monthly dates from that start date. It sets the 'freq' parameter to 'M' to generate the range based on the last date of each month."
   ]
  },
  {
   "cell_type": "code",
   "execution_count": null,
   "metadata": {
    "colab": {
     "base_uri": "https://localhost:8080/"
    },
    "id": "JoW3h-9Fx8uE",
    "outputId": "0b800a27-b541-4e25-d001-2a41edfa4223"
   },
   "outputs": [],
   "source": [
    "# Start date to 12 months\n",
    "dates = pd.date_range('2019-01-01', periods=12, freq='M')\n",
    "dates"
   ]
  },
  {
   "cell_type": "code",
   "execution_count": null,
   "metadata": {
    "colab": {
     "base_uri": "https://localhost:8080/",
     "height": 206
    },
    "id": "Qx1s11r_x-4y",
    "outputId": "7ed0056e-1a2f-4084-fc5f-16ca6ab480f6"
   },
   "outputs": [],
   "source": [
    "# Change the index of a DataFrame to datetime\n",
    "df.index = dates\n",
    "df.head()"
   ]
  },
  {
   "cell_type": "code",
   "execution_count": null,
   "metadata": {
    "colab": {
     "base_uri": "https://localhost:8080/"
    },
    "id": "CCjk6g1gyBCq",
    "outputId": "52939668-de76-46d1-f84b-d706b661b849"
   },
   "outputs": [],
   "source": [
    "df.index"
   ]
  },
  {
   "cell_type": "markdown",
   "metadata": {
    "id": "8Pencqh-yCQy"
   },
   "source": [
    "## Operations using Pandas DatetimeIndex"
   ]
  },
  {
   "cell_type": "code",
   "execution_count": null,
   "metadata": {
    "colab": {
     "base_uri": "https://localhost:8080/",
     "height": 238
    },
    "id": "H6LQW1ppyIhq",
    "outputId": "f97ae555-8057-46f1-ac3e-750610beeaef"
   },
   "outputs": [],
   "source": [
    "# Set index using an existing numpy datetime64 format variable\n",
    "sales.set_index('Order Date', inplace=True)\n",
    "\n",
    "'''\n",
    "'Order Date': 인덱스로 설정할 열의 이름입니다. 이 열이 현재 numpy datetime64 형식으로 되어 있어야 합니다.\n",
    "inplace=True: 이 매개변수는 원본 데이터프레임을 직접 수정하여, 새로운 데이터프레임을 반환하지 않고 기존 데이터프레임 sales를 업데이트합니다.\n",
    "즉, 데이터프레임의 Order Date 열이 인덱스로 설정된 상태로 변경됩니다.\n",
    "\n",
    "인덱스 변경: 'Order Date' 열이 이제 데이터프레임의 인덱스가 되었습니다. 기존의 인덱스는 사라지고 'Order Date'가 새로운 인덱스로 설정됩니다.\n",
    "inplace=True: 데이터프레임 sales는 이제 변경된 상태로 유지되며, 이 데이터프레임을 출력할 때 인덱스가 'Order Date'로 설정된 것을 확인할 수 있습니다.\n",
    "'''\n",
    "\n",
    "sales.head()"
   ]
  },
  {
   "cell_type": "code",
   "execution_count": null,
   "metadata": {
    "colab": {
     "base_uri": "https://localhost:8080/"
    },
    "id": "JtYutG-6yKrW",
    "outputId": "b94de323-cdec-4cd5-e214-2bf5cf888e4c"
   },
   "outputs": [],
   "source": [
    "sales.index"
   ]
  },
  {
   "cell_type": "markdown",
   "metadata": {
    "id": "RWb-DE3pyMp8"
   },
   "source": [
    "### Subsetting data\n",
    "\n",
    "You can now select subsets of data using the DatetimeIndex. The following code selects data from the 'sales' DataFrame where the index corresponds to the year '2011'."
   ]
  },
  {
   "cell_type": "code",
   "execution_count": null,
   "metadata": {
    "colab": {
     "base_uri": "https://localhost:8080/",
     "height": 238
    },
    "id": "_0hM6mymyPBn",
    "outputId": "46e5d168-41a0-4e46-af48-520c1aeff8ae"
   },
   "outputs": [],
   "source": [
    "sales.loc['2011'].head()"
   ]
  },
  {
   "cell_type": "markdown",
   "metadata": {
    "id": "6DqghUPeyQwL"
   },
   "source": [
    "The following code selects data from the 'sales' DataFrame where the 'Category' is 'Office Supplies' and the dates range from January to February 2012."
   ]
  },
  {
   "cell_type": "code",
   "execution_count": null,
   "metadata": {
    "colab": {
     "base_uri": "https://localhost:8080/",
     "height": 238
    },
    "id": "QTGKogD8yTRt",
    "outputId": "dba8c3e8-ad5d-4d0e-df80-93cb80cb1eee"
   },
   "outputs": [],
   "source": [
    "sales[sales['Category'] == 'Office Supplies']['2012-01':'2012-02'].head()\n",
    "#인덱스가 datetime 형식이어야만 동작"
   ]
  },
  {
   "cell_type": "markdown",
   "metadata": {
    "id": "gHt0fHdvyU_E"
   },
   "source": [
    "### Datetime Components\n",
    "\n",
    "Pandas Datetime variables have several useful components. You can extract elements such as month, year, day of the week, quarter, etc., using DatetimeIndex."
   ]
  },
  {
   "cell_type": "markdown",
   "metadata": {
    "id": "-JrCUvOAyXRZ"
   },
   "source": [
    "The following code extracts the day information from the index of the 'sales' DataFrame."
   ]
  },
  {
   "cell_type": "code",
   "execution_count": null,
   "metadata": {
    "colab": {
     "base_uri": "https://localhost:8080/"
    },
    "id": "eGQOi6GwyZyc",
    "outputId": "138e54dc-8a03-4366-8423-ebb4926e6681"
   },
   "outputs": [],
   "source": [
    "sales.index.day"
   ]
  },
  {
   "cell_type": "markdown",
   "metadata": {
    "id": "ad6Asxffybn8"
   },
   "source": [
    "The following code is an example of getting the day of the week information from the index of the 'sales' DataFrame."
   ]
  },
  {
   "cell_type": "code",
   "execution_count": null,
   "metadata": {
    "colab": {
     "base_uri": "https://localhost:8080/"
    },
    "id": "HDSHxJpTyfKK",
    "outputId": "352a56a3-efd6-47f7-9adc-85237e8b157b"
   },
   "outputs": [],
   "source": [
    "sales.index.dayofweek   # Day of Week: Monday=0, Sunday=6"
   ]
  },
  {
   "cell_type": "markdown",
   "metadata": {
    "id": "AosnnXvsyph8"
   },
   "source": [
    "This code adds a new column 'DayofWeek' to the 'sales' DataFrame, assigning each row's index date's day of the week information to this column."
   ]
  },
  {
   "cell_type": "code",
   "execution_count": null,
   "metadata": {
    "colab": {
     "base_uri": "https://localhost:8080/",
     "height": 238
    },
    "id": "KTlyVcTOyrbK",
    "outputId": "02b4fd54-7ace-44b1-e32f-4fbe4a52c19a"
   },
   "outputs": [],
   "source": [
    "sales['DayofWeek'] = sales.index.day_name()\n",
    "sales.head()"
   ]
  },
  {
   "cell_type": "markdown",
   "metadata": {
    "id": "eGJz2c_Oyugt"
   },
   "source": [
    "## Resample\n",
    "\n",
    "- Adjust the time interval.\n",
    "- Since the original data is grouped, you need to compute a representative value for each group."
   ]
  },
  {
   "cell_type": "markdown",
   "metadata": {
    "id": "XctbpMjlywO-"
   },
   "source": [
    "This code generates a random series of length 100 using NumPy's randn() function, converts it to a pandas Series, and sets the index using the pd.date_range() function for a period of 100 months starting from January 1, 2018. The frequency is set to \"M\" to specify monthly intervals.\n",
    "\n",
    "A time series of 100 random values from January 1, 2018, at monthly intervals is created, allowing the use of various pandas functions and methods for handling time series data."
   ]
  },
  {
   "cell_type": "code",
   "execution_count": null,
   "metadata": {
    "colab": {
     "base_uri": "https://localhost:8080/",
     "height": 259
    },
    "id": "b2I4Gj5Xy7SE",
    "outputId": "71b17915-6521-487b-cb2a-9a006c59000e"
   },
   "outputs": [],
   "source": [
    "tms = pd.Series(np.random.randn(100),\n",
    "               index=pd.date_range(\"2018-1-1\", periods=100, freq=\"M\"))\n",
    "\n",
    "print(tms.shape)\n",
    "tms.head()"
   ]
  },
  {
   "cell_type": "code",
   "execution_count": null,
   "metadata": {
    "colab": {
     "base_uri": "https://localhost:8080/",
     "height": 241
    },
    "id": "a4QASd9MzHUv",
    "outputId": "8ead4ceb-a01b-4bbf-d6dc-ead2d8af8838"
   },
   "outputs": [],
   "source": [
    "tms.tail()"
   ]
  },
  {
   "cell_type": "markdown",
   "metadata": {
    "id": "WCX7RviczJhd"
   },
   "source": [
    "The following code demonstrates down-sampling a pandas Series to a weekly interval."
   ]
  },
  {
   "cell_type": "code",
   "execution_count": null,
   "metadata": {
    "colab": {
     "base_uri": "https://localhost:8080/",
     "height": 458
    },
    "id": "NVva2DHtzLxL",
    "outputId": "9486008b-8b88-4ae5-ceaf-3d0ffc86e798"
   },
   "outputs": [],
   "source": [
    "# Down-sampling to weekly\n",
    "new_tms = tms.resample('W').max()\n",
    "new_tms"
   ]
  },
  {
   "cell_type": "markdown",
   "metadata": {
    "id": "PtDOfzoxzcd5"
   },
   "source": [
    "The following code calculates the average of a pandas Series at weekly and monthly intervals."
   ]
  },
  {
   "cell_type": "code",
   "execution_count": null,
   "metadata": {
    "colab": {
     "base_uri": "https://localhost:8080/",
     "height": 259
    },
    "id": "lYpyZC7nPXNk",
    "outputId": "5679b427-5f8e-47e1-fe7f-0a65f45814b8"
   },
   "outputs": [],
   "source": [
    "tws = pd.Series(np.random.randn(100),\n",
    "               index=pd.date_range(\"2018-1-1\", periods=100, freq=\"W\"))\n",
    "\n",
    "print(tws.shape)\n",
    "tws.head()"
   ]
  },
  {
   "cell_type": "code",
   "execution_count": null,
   "metadata": {
    "colab": {
     "base_uri": "https://localhost:8080/",
     "height": 837
    },
    "id": "x4kwNZl0zgiO",
    "outputId": "30629349-d5a9-44da-f6f2-38690afb30ba"
   },
   "outputs": [],
   "source": [
    "new_tws = tws.resample('M').mean() # Monthly Average\n",
    "new_tws"
   ]
  }
 ],
 "metadata": {
  "colab": {
   "collapsed_sections": [
    "JY4F2ZiHpXbd",
    "Eoqmn1QYqLG6"
   ],
   "provenance": []
  },
  "kernelspec": {
   "display_name": "Python 3 (ipykernel)",
   "language": "python",
   "name": "python3"
  },
  "language_info": {
   "codemirror_mode": {
    "name": "ipython",
    "version": 3
   },
   "file_extension": ".py",
   "mimetype": "text/x-python",
   "name": "python",
   "nbconvert_exporter": "python",
   "pygments_lexer": "ipython3",
   "version": "3.11.7"
  }
 },
 "nbformat": 4,
 "nbformat_minor": 4
}
