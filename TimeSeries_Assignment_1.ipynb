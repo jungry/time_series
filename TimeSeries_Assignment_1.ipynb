{
  "cells": [
    {
      "cell_type": "markdown",
      "metadata": {
        "id": "view-in-github",
        "colab_type": "text"
      },
      "source": [
        "<a href=\"https://colab.research.google.com/github/jungry/time_series/blob/main/TimeSeries_Assignment_1.ipynb\" target=\"_parent\"><img src=\"https://colab.research.google.com/assets/colab-badge.svg\" alt=\"Open In Colab\"/></a>"
      ]
    },
    {
      "cell_type": "markdown",
      "metadata": {
        "id": "xqoYSGaa7Xqt"
      },
      "source": [
        "# Time Series Week 2 - Assignment"
      ]
    },
    {
      "cell_type": "markdown",
      "metadata": {
        "id": "QLbDCLLY7lXJ"
      },
      "source": [
        "## 1. Basic Python for Linear Algebra"
      ]
    },
    {
      "cell_type": "markdown",
      "metadata": {
        "id": "NaXslNSD7wuu"
      },
      "source": [
        "### 1.1. Vector Addition and Subtraction\n",
        "**Task:** Write a Python function that takes two vectors (as lists or Numpy arrays) and returns their sum and difference.\n",
        "\n"
      ]
    },
    {
      "cell_type": "code",
      "execution_count": 1,
      "metadata": {
        "colab": {
          "base_uri": "https://localhost:8080/"
        },
        "id": "8q_c8ZTh8zAk",
        "outputId": "435883c2-e388-4a31-a413-9e82dcb971ff"
      },
      "outputs": [
        {
          "output_type": "stream",
          "name": "stdout",
          "text": [
            "vector Addition : [ 3  7 11]\n",
            "Vector Subtraction : [1 1 1]\n"
          ]
        }
      ],
      "source": [
        "# Create two vectors: vector_a = [2, 4, 6] and vector_b = [1, 3, 5]\n",
        "\n",
        "# Implement the function vector_addition(vector_a, vector_b) to return their sum\n",
        "\n",
        "# Implement the function vector_subtraction(vector_a, vector_b) to return their difference\n",
        "\n",
        "import numpy as np\n",
        "vector_a = np.array ([2, 4, 6])\n",
        "vector_b = np.array ([1, 3, 5])\n",
        "\n",
        "def vector_addition(vector_a, vector_b):\n",
        "  return vector_a + vector_b\n",
        "\n",
        "\n",
        "def vector_subtraction(vector_a, vector_b):\n",
        "  return vector_a - vector_b\n",
        "\n",
        "print (\"vector Addition :\",vector_addition(vector_a, vector_b))\n",
        "print (\"Vector Subtraction :\" ,vector_subtraction(vector_a, vector_b))\n"
      ]
    },
    {
      "cell_type": "markdown",
      "metadata": {
        "id": "_pyr6cDZ72aI"
      },
      "source": [
        "### 1.2. Matrix Addition and Subtraction\n",
        "**Task:** Write a Python function that takes two matrices and returns their sum and difference."
      ]
    },
    {
      "cell_type": "code",
      "execution_count": 2,
      "metadata": {
        "colab": {
          "base_uri": "https://localhost:8080/"
        },
        "id": "lICjAyow89OF",
        "outputId": "a018acf8-f0c6-41e6-ab68-f98dfea2490f"
      },
      "outputs": [
        {
          "output_type": "stream",
          "name": "stdout",
          "text": [
            "Matrix Addition : [[ 6  8]\n",
            " [10 12]]\n",
            "Matrix Subtraction : [[-4 -4]\n",
            " [-4 -4]]\n"
          ]
        }
      ],
      "source": [
        "# Create two matrices: matrix_a = [[1, 2], [3, 4]] and matrix_b = [[5, 6], [7, 8]]\n",
        "\n",
        "# Implement the function matrix_addition(matrix_a, matrix_b) to return their sum\n",
        "\n",
        "# Implement the function matrix_subtraction(matrix_a, matrix_b) to return their difference\n",
        "\n",
        "matrix_a = np.array([[1, 2], [3, 4]])\n",
        "matrix_b = np.array([[5, 6], [7, 8]])\n",
        "\n",
        "def matrix_addition(matrix_a, matrix_b):\n",
        "  return matrix_a + matrix_b\n",
        "\n",
        "def matrix_subtraction(matrix_a, matrix_b):\n",
        "  return matrix_a - matrix_b\n",
        "\n",
        "print (\"Matrix Addition :\",matrix_addition(matrix_a, matrix_b))\n",
        "print (\"Matrix Subtraction :\",matrix_subtraction(matrix_a, matrix_b))"
      ]
    },
    {
      "cell_type": "markdown",
      "metadata": {
        "id": "SunCZ7Pn8guJ"
      },
      "source": [
        "### 1.3. Scalar Multiplication\n",
        "**Task:** Write a Python function that multiplies a vector and a matrix by a scalar.\n"
      ]
    },
    {
      "cell_type": "code",
      "execution_count": 3,
      "metadata": {
        "colab": {
          "base_uri": "https://localhost:8080/"
        },
        "id": "5POsGdbb9LCE",
        "outputId": "62b6a80d-66a6-498f-8f33-0aacb39d5a3d"
      },
      "outputs": [
        {
          "output_type": "stream",
          "name": "stdout",
          "text": [
            "Scalar Multiplication on vector c:  [ 6 12 18]\n",
            "Scalar Multiplication on matrix c: \n",
            " [[ 4  8]\n",
            " [12 16]]\n"
          ]
        }
      ],
      "source": [
        "# Create a vector vector_c = [3, 6, 9] and a matrix matrix_c = [[2, 4], [6, 8]]\n",
        "\n",
        "# Implement the function scalar_multiplication(scalar, vector_c) and scalar_multiplication(scalar, matrix_c) where scalar = 2\n",
        "\n",
        "# Return the scaled vector and matrix\n",
        "\n",
        "vector_c = np.array ([3, 6, 9])\n",
        "matrix_c = np.array ([[2, 4,], [6, 8]])\n",
        "\n",
        "def scalar_multiplication ( scalar, vector_c):\n",
        "  return scalar * vector_c\n",
        "\n",
        "def scalar_multiplication ( scalar, matrix_c):\n",
        "  return scalar * matrix_c\n",
        "\n",
        "print(\"Scalar Multiplication on vector c: \" ,scalar_multiplication(2,vector_c))\n",
        "print(\"Scalar Multiplication on matrix c: \\n\" ,scalar_multiplication (2, matrix_c))"
      ]
    },
    {
      "cell_type": "markdown",
      "metadata": {
        "id": "ojhaIjLR9Sq1"
      },
      "source": [
        "### 1.4 Dot Product\n",
        "**Task:** Write a Python function to calculate the dot product of two vectors."
      ]
    },
    {
      "cell_type": "code",
      "execution_count": 4,
      "metadata": {
        "colab": {
          "base_uri": "https://localhost:8080/"
        },
        "id": "10s9IdY49bYG",
        "outputId": "700e5be2-4098-4ba4-fc80-fd0ae0ea0a57"
      },
      "outputs": [
        {
          "output_type": "stream",
          "name": "stdout",
          "text": [
            "Dot Product :  44\n"
          ]
        }
      ],
      "source": [
        "# Use the vectors vector_a = [1, 2, 3] and vector_b = [4, 5, 6]\n",
        "\n",
        "# Implement the function dot_product(vector_a, vector_b) to compute and return the dot product\n",
        "\n",
        "#벡터끼리, 행렬끼리 곱할때는 내적 이용 (np.dot)\n",
        "def dot_product(vector_a, vector_b):\n",
        "  return np.dot(vector_a, vector_b)\n",
        "\n",
        "\n",
        "print (\"Dot Product : \", dot_product(vector_a, vector_b))"
      ]
    },
    {
      "cell_type": "markdown",
      "metadata": {
        "id": "q6PJ9oqP9pSd"
      },
      "source": [
        "\n",
        "### 1.5. Matrix Multiplication\n",
        "**Task:** Write a Python function to perform matrix multiplication."
      ]
    },
    {
      "cell_type": "code",
      "execution_count": 5,
      "metadata": {
        "colab": {
          "base_uri": "https://localhost:8080/"
        },
        "id": "JUAcXeUi92Wj",
        "outputId": "2c8a6756-cac5-4a48-d43d-7482a9c7e752"
      },
      "outputs": [
        {
          "output_type": "stream",
          "name": "stdout",
          "text": [
            "Matrix Product:  [[19 22]\n",
            " [43 50]]\n"
          ]
        }
      ],
      "source": [
        "# Use the matrices matrix_a = [[1, 2], [3, 4]] and matrix_b = [[5, 6], [7, 8]]\n",
        "\n",
        "# Implement the function matrix_multiplication(matrix_a, matrix_b) to compute and return the product matrix\n",
        "\n",
        "def matrix_multiplication(matrix_a, matrix_b):\n",
        "  return np.dot(matrix_a, matrix_b)\n",
        "\n",
        "print (\"Matrix Product: \",matrix_multiplication(matrix_a, matrix_b))\n"
      ]
    },
    {
      "cell_type": "markdown",
      "metadata": {
        "id": "C9L4OGLJ-IbE"
      },
      "source": [
        "## 2. Basic Python for Statistics"
      ]
    },
    {
      "cell_type": "markdown",
      "metadata": {
        "id": "P2tbcrFV-SaZ"
      },
      "source": [
        "### 2.1. Descriptive Statistics\n",
        "**Task:** Write Python code to compute descriptive statistics (mean, median, mode, standard deviation) for a given dataset."
      ]
    },
    {
      "cell_type": "code",
      "execution_count": 6,
      "metadata": {
        "colab": {
          "base_uri": "https://localhost:8080/"
        },
        "id": "4oVeIUO_-ouJ",
        "outputId": "d842a49b-3b06-43c8-a42f-300d5071ec71"
      },
      "outputs": [
        {
          "output_type": "stream",
          "name": "stdout",
          "text": [
            "Mean: 14.818181818181818\n",
            "Median: 14.0\n",
            "Standard Deviation: 2.4796693994519736\n"
          ]
        }
      ],
      "source": [
        "# Create a dataset: data = [12, 15, 12, 18, 16, 14, 19, 12, 13, 18, 14]\n",
        "data = np.array([12, 15, 12, 18, 16, 14, 19, 12, 13, 18, 14])\n",
        "\n",
        "# Use Python's statistics library or implement your own functions to calculate:\n",
        "from scipy import stats\n",
        "# Mean\n",
        "mean = np.mean(data)\n",
        "print(\"Mean:\" , mean)\n",
        "\n",
        "# Median\n",
        "median = np.median(data)\n",
        "print(\"Median:\", median)\n",
        "\n",
        "# Standard Deviation(표준편차: 데이터포인트들이 평균으로부터 얼마나 퍼져있는지를 측정함)\n",
        "std_dev = np.std(data)\n",
        "print(\"Standard Deviation:\", std_dev)\n",
        "\n"
      ]
    },
    {
      "cell_type": "markdown",
      "metadata": {
        "id": "QF2Nmns_MfJ3"
      },
      "source": [
        "### 2.2. Data Visualization\n",
        "**Task:** Create basic visualizations (histogram, boxplot, and line plot) using Matplotlib or Seaborn."
      ]
    },
    {
      "cell_type": "code",
      "execution_count": 7,
      "metadata": {
        "colab": {
          "base_uri": "https://localhost:8080/",
          "height": 472
        },
        "id": "VRDNLKjAMoJI",
        "outputId": "3703dc5e-2099-4858-b03c-838ebb9d915d"
      },
      "outputs": [
        {
          "output_type": "display_data",
          "data": {
            "text/plain": [
              "<Figure size 640x480 with 1 Axes>"
            ],
            "image/png": "[encoded data removed]"
          },
          "metadata": {}
        }
      ],
      "source": [
        "# Use the same dataset from the previous task (data = [12, 15, 12, 18, 16, 14, 19, 12, 13, 18, 14])\n",
        "# Plot the plots by adding titles, labels, and adjusting styles (bins=5)\n",
        "# Histogram\n",
        "import matplotlib.pyplot as plt\n",
        "plt.hist(data, bins=5)\n",
        "plt.title('Histogram')\n",
        "plt.xlabel('Value')\n",
        "plt.ylabel('Frequency')\n",
        "plt.show()\n"
      ]
    },
    {
      "cell_type": "code",
      "execution_count": 8,
      "metadata": {
        "colab": {
          "base_uri": "https://localhost:8080/",
          "height": 452
        },
        "id": "Kf6UCWAgNHIN",
        "outputId": "53679c77-5601-415e-d275-4650cf48e82d"
      },
      "outputs": [
        {
          "output_type": "display_data",
          "data": {
            "text/plain": [
              "<Figure size 640x480 with 1 Axes>"
            ],
            "image/png": "[encoded data removed]"
          },
          "metadata": {}
        }
      ],
      "source": [
        "# Boxplot\n",
        "plt.boxplot(data)\n",
        "plt.title('Box Plot of Data')\n",
        "plt.ylabel('Value')\n",
        "plt.show()\n",
        "\n",
        "#중앙값(Median): 상자 내부의 가로선\n"
      ]
    },
    {
      "cell_type": "code",
      "execution_count": 9,
      "metadata": {
        "colab": {
          "base_uri": "https://localhost:8080/",
          "height": 472
        },
        "id": "1AvG-2i3NLaI",
        "outputId": "e84845bc-3534-499f-9383-758f38857704"
      },
      "outputs": [
        {
          "output_type": "display_data",
          "data": {
            "text/plain": [
              "<Figure size 640x480 with 1 Axes>"
            ],
            "image/png": "[encoded data removed]"
          },
          "metadata": {}
        }
      ],
      "source": [
        "# Lineplot\n",
        "plt.plot(data)\n",
        "plt.title('Line Plot of Data')\n",
        "plt.xlabel('Index')\n",
        "plt.ylabel('Value')\n",
        "\n",
        "plt.show()\n"
      ]
    },
    {
      "cell_type": "markdown",
      "metadata": {
        "id": "RH7SrFD0NU_s"
      },
      "source": [
        "## 3. Numpy and Pandas Functions Related to Time Series"
      ]
    },
    {
      "cell_type": "markdown",
      "metadata": {
        "id": "3DuqYCVZNa0p"
      },
      "source": [
        "### 3.1. Numpy datetime64 Format\n",
        "**Task:** Convert a list of date strings into Numpy datetime64 format."
      ]
    },
    {
      "cell_type": "code",
      "execution_count": 10,
      "metadata": {
        "colab": {
          "base_uri": "https://localhost:8080/"
        },
        "id": "wnqhmvwNNiku",
        "outputId": "c3a27a30-b893-4062-dc67-db36ea8fbd0a"
      },
      "outputs": [
        {
          "output_type": "execute_result",
          "data": {
            "text/plain": [
              "array(['2024-01-01', '2024-01-08', '2024-01-12', '2024-01-26',\n",
              "       '2024-01-31', '2024-02-04', '2024-02-09', '2024-02-17',\n",
              "       '2024-02-21', '2024-03-10', '2024-03-12', '2024-03-29',\n",
              "       '2024-03-30', '2024-03-31', '2024-04-01', '2024-04-04',\n",
              "       '2024-04-07', '2024-04-17'], dtype='datetime64[D]')"
            ]
          },
          "metadata": {},
          "execution_count": 10
        }
      ],
      "source": [
        "# Create a list of date strings: dates = [\"2024-01-01\", \"2024-01-08\", \"2024-01-12\", \"2024-01-26\", \"2024-01-31\", \"2024-02-04\", \"2024-02-09\", \"2024-02-17\", \"2024-02-21\", \"2024-03-10\", \"2024-03-12\", \"2024-03-29\", \"2024-03-30\", \"2024-03-31\", \"2024-04-01\", \"2024-04-04\", \"2024-04-07\", \"2024-04-17\"].\n",
        "\n",
        "# Convert this list into a Numpy array with datetime64 format\n",
        "\n",
        "# Print the resulting Numpy array\n",
        "\n",
        "dates =[\"2024-01-01\", \"2024-01-08\", \"2024-01-12\", \"2024-01-26\", \"2024-01-31\", \"2024-02-04\", \"2024-02-09\", \"2024-02-17\", \"2024-02-21\", \"2024-03-10\", \"2024-03-12\", \"2024-03-29\", \"2024-03-30\", \"2024-03-31\", \"2024-04-01\", \"2024-04-04\", \"2024-04-07\", \"2024-04-17\"]\n",
        "\n",
        "dates_array = np.array(dates, dtype='datetime64[D]')\n",
        "dates_array"
      ]
    },
    {
      "cell_type": "markdown",
      "metadata": {
        "id": "8VEfFI6nNtst"
      },
      "source": [
        "### 3.2. Creating and Handling Time Series with Pandas DatetimeIndex\n",
        "**Task:** Create a Pandas DataFrame with a DatetimeIndex and perform basic operations."
      ]
    },
    {
      "cell_type": "code",
      "execution_count": 11,
      "metadata": {
        "colab": {
          "base_uri": "https://localhost:8080/",
          "height": 206
        },
        "id": "jtJSkEO6OJZO",
        "outputId": "2f6cde8c-87e5-4e70-923e-274cfbfa8bc7"
      },
      "outputs": [
        {
          "output_type": "execute_result",
          "data": {
            "text/plain": [
              "            Temperature\n",
              "2024-01-01           30\n",
              "2024-01-08           32\n",
              "2024-01-12           28\n",
              "2024-01-26           31\n",
              "2024-01-31           29"
            ],
            "text/html": [
              "\n",
              "  <div id=\"df-1c11b6ba-240c-4048-9580-72aeb735a57a\" class=\"colab-df-container\">\n",
              "    <div>\n",
              "<style scoped>\n",
              "    .dataframe tbody tr th:only-of-type {\n",
              "        vertical-align: middle;\n",
              "    }\n",
              "\n",
              "    .dataframe tbody tr th {\n",
              "        vertical-align: top;\n",
              "    }\n",
              "\n",
              "    .dataframe thead th {\n",
              "        text-align: right;\n",
              "    }\n",
              "</style>\n",
              "<table border=\"1\" class=\"dataframe\">\n",
              "  <thead>\n",
              "    <tr style=\"text-align: right;\">\n",
              "      <th></th>\n",
              "      <th>Temperature</th>\n",
              "    </tr>\n",
              "  </thead>\n",
              "  <tbody>\n",
              "    <tr>\n",
              "      <th>2024-01-01</th>\n",
              "      <td>30</td>\n",
              "    </tr>\n",
              "    <tr>\n",
              "      <th>2024-01-08</th>\n",
              "      <td>32</td>\n",
              "    </tr>\n",
              "    <tr>\n",
              "      <th>2024-01-12</th>\n",
              "      <td>28</td>\n",
              "    </tr>\n",
              "    <tr>\n",
              "      <th>2024-01-26</th>\n",
              "      <td>31</td>\n",
              "    </tr>\n",
              "    <tr>\n",
              "      <th>2024-01-31</th>\n",
              "      <td>29</td>\n",
              "    </tr>\n",
              "  </tbody>\n",
              "</table>\n",
              "</div>\n",
              "    <div class=\"colab-df-buttons\">\n",
              "\n",
              "  <div class=\"colab-df-container\">\n",
              "    <button class=\"colab-df-convert\" onclick=\"convertToInteractive('df-1c11b6ba-240c-4048-9580-72aeb735a57a')\"\n",
              "            title=\"Convert this dataframe to an interactive table.\"\n",
              "            style=\"display:none;\">\n",
              "\n",
              "  <svg xmlns=\"http://www.w3.org/2000/svg\" height=\"24px\" viewBox=\"0 -960 960 960\">\n",
              "    <path d=\"M120-120v-720h720v720H120Zm60-500h600v-160H180v160Zm220 220h160v-160H400v160Zm0 220h160v-160H400v160ZM180-400h160v-160H180v160Zm440 0h160v-160H620v160ZM180-180h160v-160H180v160Zm440 0h160v-160H620v160Z\"/>\n",
              "  </svg>\n",
              "    </button>\n",
              "\n",
              "  <style>\n",
              "    .colab-df-container {\n",
              "      display:flex;\n",
              "      gap: 12px;\n",
              "    }\n",
              "\n",
              "    .colab-df-convert {\n",
              "      background-color: #E8F0FE;\n",
              "      border: none;\n",
              "      border-radius: 50%;\n",
              "      cursor: pointer;\n",
              "      display: none;\n",
              "      fill: #1967D2;\n",
              "      height: 32px;\n",
              "      padding: 0 0 0 0;\n",
              "      width: 32px;\n",
              "    }\n",
              "\n",
              "    .colab-df-convert:hover {\n",
              "      background-color: #E2EBFA;\n",
              "      box-shadow: 0px 1px 2px rgba(60, 64, 67, 0.3), 0px 1px 3px 1px rgba(60, 64, 67, 0.15);\n",
              "      fill: #174EA6;\n",
              "    }\n",
              "\n",
              "    .colab-df-buttons div {\n",
              "      margin-bottom: 4px;\n",
              "    }\n",
              "\n",
              "    [theme=dark] .colab-df-convert {\n",
              "      background-color: #3B4455;\n",
              "      fill: #D2E3FC;\n",
              "    }\n",
              "\n",
              "    [theme=dark] .colab-df-convert:hover {\n",
              "      background-color: #434B5C;\n",
              "      box-shadow: 0px 1px 3px 1px rgba(0, 0, 0, 0.15);\n",
              "      filter: drop-shadow(0px 1px 2px rgba(0, 0, 0, 0.3));\n",
              "      fill: #FFFFFF;\n",
              "    }\n",
              "  </style>\n",
              "\n",
              "    <script>\n",
              "      const buttonEl =\n",
              "        document.querySelector('#df-1c11b6ba-240c-4048-9580-72aeb735a57a button.colab-df-convert');\n",
              "      buttonEl.style.display =\n",
              "        google.colab.kernel.accessAllowed ? 'block' : 'none';\n",
              "\n",
              "      async function convertToInteractive(key) {\n",
              "        const element = document.querySelector('#df-1c11b6ba-240c-4048-9580-72aeb735a57a');\n",
              "        const dataTable =\n",
              "          await google.colab.kernel.invokeFunction('convertToInteractive',\n",
              "                                                    [key], {});\n",
              "        if (!dataTable) return;\n",
              "\n",
              "        const docLinkHtml = 'Like what you see? Visit the ' +\n",
              "          '<a target=\"_blank\" href=https://colab.research.google.com/notebooks/data_table.ipynb>data table notebook</a>'\n",
              "          + ' to learn more about interactive tables.';\n",
              "        element.innerHTML = '';\n",
              "        dataTable['output_type'] = 'display_data';\n",
              "        await google.colab.output.renderOutput(dataTable, element);\n",
              "        const docLink = document.createElement('div');\n",
              "        docLink.innerHTML = docLinkHtml;\n",
              "        element.appendChild(docLink);\n",
              "      }\n",
              "    </script>\n",
              "  </div>\n",
              "\n",
              "\n",
              "<div id=\"df-8bc04a34-b82e-4a23-a4f9-8327ab3692ae\">\n",
              "  <button class=\"colab-df-quickchart\" onclick=\"quickchart('df-8bc04a34-b82e-4a23-a4f9-8327ab3692ae')\"\n",
              "            title=\"Suggest charts\"\n",
              "            style=\"display:none;\">\n",
              "\n",
              "<svg xmlns=\"http://www.w3.org/2000/svg\" height=\"24px\"viewBox=\"0 0 24 24\"\n",
              "     width=\"24px\">\n",
              "    <g>\n",
              "        <path d=\"M19 3H5c-1.1 0-2 .9-2 2v14c0 1.1.9 2 2 2h14c1.1 0 2-.9 2-2V5c0-1.1-.9-2-2-2zM9 17H7v-7h2v7zm4 0h-2V7h2v10zm4 0h-2v-4h2v4z\"/>\n",
              "    </g>\n",
              "</svg>\n",
              "  </button>\n",
              "\n",
              "<style>\n",
              "  .colab-df-quickchart {\n",
              "      --bg-color: #E8F0FE;\n",
              "      --fill-color: #1967D2;\n",
              "      --hover-bg-color: #E2EBFA;\n",
              "      --hover-fill-color: #174EA6;\n",
              "      --disabled-fill-color: #AAA;\n",
              "      --disabled-bg-color: #DDD;\n",
              "  }\n",
              "\n",
              "  [theme=dark] .colab-df-quickchart {\n",
              "      --bg-color: #3B4455;\n",
              "      --fill-color: #D2E3FC;\n",
              "      --hover-bg-color: #434B5C;\n",
              "      --hover-fill-color: #FFFFFF;\n",
              "      --disabled-bg-color: #3B4455;\n",
              "      --disabled-fill-color: #666;\n",
              "  }\n",
              "\n",
              "  .colab-df-quickchart {\n",
              "    background-color: var(--bg-color);\n",
              "    border: none;\n",
              "    border-radius: 50%;\n",
              "    cursor: pointer;\n",
              "    display: none;\n",
              "    fill: var(--fill-color);\n",
              "    height: 32px;\n",
              "    padding: 0;\n",
              "    width: 32px;\n",
              "  }\n",
              "\n",
              "  .colab-df-quickchart:hover {\n",
              "    background-color: var(--hover-bg-color);\n",
              "    box-shadow: 0 1px 2px rgba(60, 64, 67, 0.3), 0 1px 3px 1px rgba(60, 64, 67, 0.15);\n",
              "    fill: var(--button-hover-fill-color);\n",
              "  }\n",
              "\n",
              "  .colab-df-quickchart-complete:disabled,\n",
              "  .colab-df-quickchart-complete:disabled:hover {\n",
              "    background-color: var(--disabled-bg-color);\n",
              "    fill: var(--disabled-fill-color);\n",
              "    box-shadow: none;\n",
              "  }\n",
              "\n",
              "  .colab-df-spinner {\n",
              "    border: 2px solid var(--fill-color);\n",
              "    border-color: transparent;\n",
              "    border-bottom-color: var(--fill-color);\n",
              "    animation:\n",
              "      spin 1s steps(1) infinite;\n",
              "  }\n",
              "\n",
              "  @keyframes spin {\n",
              "    0% {\n",
              "      border-color: transparent;\n",
              "      border-bottom-color: var(--fill-color);\n",
              "      border-left-color: var(--fill-color);\n",
              "    }\n",
              "    20% {\n",
              "      border-color: transparent;\n",
              "      border-left-color: var(--fill-color);\n",
              "      border-top-color: var(--fill-color);\n",
              "    }\n",
              "    30% {\n",
              "      border-color: transparent;\n",
              "      border-left-color: var(--fill-color);\n",
              "      border-top-color: var(--fill-color);\n",
              "      border-right-color: var(--fill-color);\n",
              "    }\n",
              "    40% {\n",
              "      border-color: transparent;\n",
              "      border-right-color: var(--fill-color);\n",
              "      border-top-color: var(--fill-color);\n",
              "    }\n",
              "    60% {\n",
              "      border-color: transparent;\n",
              "      border-right-color: var(--fill-color);\n",
              "    }\n",
              "    80% {\n",
              "      border-color: transparent;\n",
              "      border-right-color: var(--fill-color);\n",
              "      border-bottom-color: var(--fill-color);\n",
              "    }\n",
              "    90% {\n",
              "      border-color: transparent;\n",
              "      border-bottom-color: var(--fill-color);\n",
              "    }\n",
              "  }\n",
              "</style>\n",
              "\n",
              "  <script>\n",
              "    async function quickchart(key) {\n",
              "      const quickchartButtonEl =\n",
              "        document.querySelector('#' + key + ' button');\n",
              "      quickchartButtonEl.disabled = true;  // To prevent multiple clicks.\n",
              "      quickchartButtonEl.classList.add('colab-df-spinner');\n",
              "      try {\n",
              "        const charts = await google.colab.kernel.invokeFunction(\n",
              "            'suggestCharts', [key], {});\n",
              "      } catch (error) {\n",
              "        console.error('Error during call to suggestCharts:', error);\n",
              "      }\n",
              "      quickchartButtonEl.classList.remove('colab-df-spinner');\n",
              "      quickchartButtonEl.classList.add('colab-df-quickchart-complete');\n",
              "    }\n",
              "    (() => {\n",
              "      let quickchartButtonEl =\n",
              "        document.querySelector('#df-8bc04a34-b82e-4a23-a4f9-8327ab3692ae button');\n",
              "      quickchartButtonEl.style.display =\n",
              "        google.colab.kernel.accessAllowed ? 'block' : 'none';\n",
              "    })();\n",
              "  </script>\n",
              "</div>\n",
              "\n",
              "  <div id=\"id_eddc0b3d-11d3-4d30-8f89-dfcd12776e85\">\n",
              "    <style>\n",
              "      .colab-df-generate {\n",
              "        background-color: #E8F0FE;\n",
              "        border: none;\n",
              "        border-radius: 50%;\n",
              "        cursor: pointer;\n",
              "        display: none;\n",
              "        fill: #1967D2;\n",
              "        height: 32px;\n",
              "        padding: 0 0 0 0;\n",
              "        width: 32px;\n",
              "      }\n",
              "\n",
              "      .colab-df-generate:hover {\n",
              "        background-color: #E2EBFA;\n",
              "        box-shadow: 0px 1px 2px rgba(60, 64, 67, 0.3), 0px 1px 3px 1px rgba(60, 64, 67, 0.15);\n",
              "        fill: #174EA6;\n",
              "      }\n",
              "\n",
              "      [theme=dark] .colab-df-generate {\n",
              "        background-color: #3B4455;\n",
              "        fill: #D2E3FC;\n",
              "      }\n",
              "\n",
              "      [theme=dark] .colab-df-generate:hover {\n",
              "        background-color: #434B5C;\n",
              "        box-shadow: 0px 1px 3px 1px rgba(0, 0, 0, 0.15);\n",
              "        filter: drop-shadow(0px 1px 2px rgba(0, 0, 0, 0.3));\n",
              "        fill: #FFFFFF;\n",
              "      }\n",
              "    </style>\n",
              "    <button class=\"colab-df-generate\" onclick=\"generateWithVariable('df')\"\n",
              "            title=\"Generate code using this dataframe.\"\n",
              "            style=\"display:none;\">\n",
              "\n",
              "  <svg xmlns=\"http://www.w3.org/2000/svg\" height=\"24px\"viewBox=\"0 0 24 24\"\n",
              "       width=\"24px\">\n",
              "    <path d=\"M7,19H8.4L18.45,9,17,7.55,7,17.6ZM5,21V16.75L18.45,3.32a2,2,0,0,1,2.83,0l1.4,1.43a1.91,1.91,0,0,1,.58,1.4,1.91,1.91,0,0,1-.58,1.4L9.25,21ZM18.45,9,17,7.55Zm-12,3A5.31,5.31,0,0,0,4.9,8.1,5.31,5.31,0,0,0,1,6.5,5.31,5.31,0,0,0,4.9,4.9,5.31,5.31,0,0,0,6.5,1,5.31,5.31,0,0,0,8.1,4.9,5.31,5.31,0,0,0,12,6.5,5.46,5.46,0,0,0,6.5,12Z\"/>\n",
              "  </svg>\n",
              "    </button>\n",
              "    <script>\n",
              "      (() => {\n",
              "      const buttonEl =\n",
              "        document.querySelector('#id_eddc0b3d-11d3-4d30-8f89-dfcd12776e85 button.colab-df-generate');\n",
              "      buttonEl.style.display =\n",
              "        google.colab.kernel.accessAllowed ? 'block' : 'none';\n",
              "\n",
              "      buttonEl.onclick = () => {\n",
              "        google.colab.notebook.generateWithVariable('df');\n",
              "      }\n",
              "      })();\n",
              "    </script>\n",
              "  </div>\n",
              "\n",
              "    </div>\n",
              "  </div>\n"
            ],
            "application/vnd.google.colaboratory.intrinsic+json": {
              "type": "dataframe",
              "variable_name": "df",
              "summary": "{\n  \"name\": \"df\",\n  \"rows\": 5,\n  \"fields\": [\n    {\n      \"column\": \"Temperature\",\n      \"properties\": {\n        \"dtype\": \"number\",\n        \"std\": 1,\n        \"min\": 28,\n        \"max\": 32,\n        \"num_unique_values\": 5,\n        \"samples\": [\n          32,\n          29,\n          28\n        ],\n        \"semantic_type\": \"\",\n        \"description\": \"\"\n      }\n    }\n  ]\n}"
            }
          },
          "metadata": {},
          "execution_count": 11
        }
      ],
      "source": [
        "# Use the same dates list from the previous task\n",
        "# Create a Pandas DataFrame with these dates as the index and some arbitrary data (e.g., temperature readings) as the column\n",
        "import pandas as pd\n",
        "dates_datetime = pd.to_datetime(dates)\n",
        "\n",
        "# 1월 데이터만 필터링\n",
        "january = dates_datetime[dates_datetime.month == 1]\n",
        "tempertures = [30, 32, 28, 31, 29]\n",
        "df = pd.DataFrame(tempertures, columns=['Temperature'])\n",
        "df.index = pd.to_datetime(january)\n",
        "df\n",
        "\n"
      ]
    },
    {
      "cell_type": "code",
      "execution_count": 12,
      "metadata": {
        "colab": {
          "base_uri": "https://localhost:8080/",
          "height": 206
        },
        "id": "vX-HfJZNOfI5",
        "outputId": "180c0a8f-348f-43a0-c439-b2f97fb1c35e"
      },
      "outputs": [
        {
          "output_type": "execute_result",
          "data": {
            "text/plain": [
              "            Temperature  Year  Month Day of Week\n",
              "2024-01-01           30  2024      1      Monday\n",
              "2024-01-08           32  2024      1      Monday\n",
              "2024-01-12           28  2024      1      Friday\n",
              "2024-01-26           31  2024      1      Friday\n",
              "2024-01-31           29  2024      1   Wednesday"
            ],
            "text/html": [
              "\n",
              "  <div id=\"df-7d9f40a0-8347-4942-b4d1-fb0d9ad83c54\" class=\"colab-df-container\">\n",
              "    <div>\n",
              "<style scoped>\n",
              "    .dataframe tbody tr th:only-of-type {\n",
              "        vertical-align: middle;\n",
              "    }\n",
              "\n",
              "    .dataframe tbody tr th {\n",
              "        vertical-align: top;\n",
              "    }\n",
              "\n",
              "    .dataframe thead th {\n",
              "        text-align: right;\n",
              "    }\n",
              "</style>\n",
              "<table border=\"1\" class=\"dataframe\">\n",
              "  <thead>\n",
              "    <tr style=\"text-align: right;\">\n",
              "      <th></th>\n",
              "      <th>Temperature</th>\n",
              "      <th>Year</th>\n",
              "      <th>Month</th>\n",
              "      <th>Day of Week</th>\n",
              "    </tr>\n",
              "  </thead>\n",
              "  <tbody>\n",
              "    <tr>\n",
              "      <th>2024-01-01</th>\n",
              "      <td>30</td>\n",
              "      <td>2024</td>\n",
              "      <td>1</td>\n",
              "      <td>Monday</td>\n",
              "    </tr>\n",
              "    <tr>\n",
              "      <th>2024-01-08</th>\n",
              "      <td>32</td>\n",
              "      <td>2024</td>\n",
              "      <td>1</td>\n",
              "      <td>Monday</td>\n",
              "    </tr>\n",
              "    <tr>\n",
              "      <th>2024-01-12</th>\n",
              "      <td>28</td>\n",
              "      <td>2024</td>\n",
              "      <td>1</td>\n",
              "      <td>Friday</td>\n",
              "    </tr>\n",
              "    <tr>\n",
              "      <th>2024-01-26</th>\n",
              "      <td>31</td>\n",
              "      <td>2024</td>\n",
              "      <td>1</td>\n",
              "      <td>Friday</td>\n",
              "    </tr>\n",
              "    <tr>\n",
              "      <th>2024-01-31</th>\n",
              "      <td>29</td>\n",
              "      <td>2024</td>\n",
              "      <td>1</td>\n",
              "      <td>Wednesday</td>\n",
              "    </tr>\n",
              "  </tbody>\n",
              "</table>\n",
              "</div>\n",
              "    <div class=\"colab-df-buttons\">\n",
              "\n",
              "  <div class=\"colab-df-container\">\n",
              "    <button class=\"colab-df-convert\" onclick=\"convertToInteractive('df-7d9f40a0-8347-4942-b4d1-fb0d9ad83c54')\"\n",
              "            title=\"Convert this dataframe to an interactive table.\"\n",
              "            style=\"display:none;\">\n",
              "\n",
              "  <svg xmlns=\"http://www.w3.org/2000/svg\" height=\"24px\" viewBox=\"0 -960 960 960\">\n",
              "    <path d=\"M120-120v-720h720v720H120Zm60-500h600v-160H180v160Zm220 220h160v-160H400v160Zm0 220h160v-160H400v160ZM180-400h160v-160H180v160Zm440 0h160v-160H620v160ZM180-180h160v-160H180v160Zm440 0h160v-160H620v160Z\"/>\n",
              "  </svg>\n",
              "    </button>\n",
              "\n",
              "  <style>\n",
              "    .colab-df-container {\n",
              "      display:flex;\n",
              "      gap: 12px;\n",
              "    }\n",
              "\n",
              "    .colab-df-convert {\n",
              "      background-color: #E8F0FE;\n",
              "      border: none;\n",
              "      border-radius: 50%;\n",
              "      cursor: pointer;\n",
              "      display: none;\n",
              "      fill: #1967D2;\n",
              "      height: 32px;\n",
              "      padding: 0 0 0 0;\n",
              "      width: 32px;\n",
              "    }\n",
              "\n",
              "    .colab-df-convert:hover {\n",
              "      background-color: #E2EBFA;\n",
              "      box-shadow: 0px 1px 2px rgba(60, 64, 67, 0.3), 0px 1px 3px 1px rgba(60, 64, 67, 0.15);\n",
              "      fill: #174EA6;\n",
              "    }\n",
              "\n",
              "    .colab-df-buttons div {\n",
              "      margin-bottom: 4px;\n",
              "    }\n",
              "\n",
              "    [theme=dark] .colab-df-convert {\n",
              "      background-color: #3B4455;\n",
              "      fill: #D2E3FC;\n",
              "    }\n",
              "\n",
              "    [theme=dark] .colab-df-convert:hover {\n",
              "      background-color: #434B5C;\n",
              "      box-shadow: 0px 1px 3px 1px rgba(0, 0, 0, 0.15);\n",
              "      filter: drop-shadow(0px 1px 2px rgba(0, 0, 0, 0.3));\n",
              "      fill: #FFFFFF;\n",
              "    }\n",
              "  </style>\n",
              "\n",
              "    <script>\n",
              "      const buttonEl =\n",
              "        document.querySelector('#df-7d9f40a0-8347-4942-b4d1-fb0d9ad83c54 button.colab-df-convert');\n",
              "      buttonEl.style.display =\n",
              "        google.colab.kernel.accessAllowed ? 'block' : 'none';\n",
              "\n",
              "      async function convertToInteractive(key) {\n",
              "        const element = document.querySelector('#df-7d9f40a0-8347-4942-b4d1-fb0d9ad83c54');\n",
              "        const dataTable =\n",
              "          await google.colab.kernel.invokeFunction('convertToInteractive',\n",
              "                                                    [key], {});\n",
              "        if (!dataTable) return;\n",
              "\n",
              "        const docLinkHtml = 'Like what you see? Visit the ' +\n",
              "          '<a target=\"_blank\" href=https://colab.research.google.com/notebooks/data_table.ipynb>data table notebook</a>'\n",
              "          + ' to learn more about interactive tables.';\n",
              "        element.innerHTML = '';\n",
              "        dataTable['output_type'] = 'display_data';\n",
              "        await google.colab.output.renderOutput(dataTable, element);\n",
              "        const docLink = document.createElement('div');\n",
              "        docLink.innerHTML = docLinkHtml;\n",
              "        element.appendChild(docLink);\n",
              "      }\n",
              "    </script>\n",
              "  </div>\n",
              "\n",
              "\n",
              "<div id=\"df-6e2e73bc-a3aa-4723-a97e-fd724d480f48\">\n",
              "  <button class=\"colab-df-quickchart\" onclick=\"quickchart('df-6e2e73bc-a3aa-4723-a97e-fd724d480f48')\"\n",
              "            title=\"Suggest charts\"\n",
              "            style=\"display:none;\">\n",
              "\n",
              "<svg xmlns=\"http://www.w3.org/2000/svg\" height=\"24px\"viewBox=\"0 0 24 24\"\n",
              "     width=\"24px\">\n",
              "    <g>\n",
              "        <path d=\"M19 3H5c-1.1 0-2 .9-2 2v14c0 1.1.9 2 2 2h14c1.1 0 2-.9 2-2V5c0-1.1-.9-2-2-2zM9 17H7v-7h2v7zm4 0h-2V7h2v10zm4 0h-2v-4h2v4z\"/>\n",
              "    </g>\n",
              "</svg>\n",
              "  </button>\n",
              "\n",
              "<style>\n",
              "  .colab-df-quickchart {\n",
              "      --bg-color: #E8F0FE;\n",
              "      --fill-color: #1967D2;\n",
              "      --hover-bg-color: #E2EBFA;\n",
              "      --hover-fill-color: #174EA6;\n",
              "      --disabled-fill-color: #AAA;\n",
              "      --disabled-bg-color: #DDD;\n",
              "  }\n",
              "\n",
              "  [theme=dark] .colab-df-quickchart {\n",
              "      --bg-color: #3B4455;\n",
              "      --fill-color: #D2E3FC;\n",
              "      --hover-bg-color: #434B5C;\n",
              "      --hover-fill-color: #FFFFFF;\n",
              "      --disabled-bg-color: #3B4455;\n",
              "      --disabled-fill-color: #666;\n",
              "  }\n",
              "\n",
              "  .colab-df-quickchart {\n",
              "    background-color: var(--bg-color);\n",
              "    border: none;\n",
              "    border-radius: 50%;\n",
              "    cursor: pointer;\n",
              "    display: none;\n",
              "    fill: var(--fill-color);\n",
              "    height: 32px;\n",
              "    padding: 0;\n",
              "    width: 32px;\n",
              "  }\n",
              "\n",
              "  .colab-df-quickchart:hover {\n",
              "    background-color: var(--hover-bg-color);\n",
              "    box-shadow: 0 1px 2px rgba(60, 64, 67, 0.3), 0 1px 3px 1px rgba(60, 64, 67, 0.15);\n",
              "    fill: var(--button-hover-fill-color);\n",
              "  }\n",
              "\n",
              "  .colab-df-quickchart-complete:disabled,\n",
              "  .colab-df-quickchart-complete:disabled:hover {\n",
              "    background-color: var(--disabled-bg-color);\n",
              "    fill: var(--disabled-fill-color);\n",
              "    box-shadow: none;\n",
              "  }\n",
              "\n",
              "  .colab-df-spinner {\n",
              "    border: 2px solid var(--fill-color);\n",
              "    border-color: transparent;\n",
              "    border-bottom-color: var(--fill-color);\n",
              "    animation:\n",
              "      spin 1s steps(1) infinite;\n",
              "  }\n",
              "\n",
              "  @keyframes spin {\n",
              "    0% {\n",
              "      border-color: transparent;\n",
              "      border-bottom-color: var(--fill-color);\n",
              "      border-left-color: var(--fill-color);\n",
              "    }\n",
              "    20% {\n",
              "      border-color: transparent;\n",
              "      border-left-color: var(--fill-color);\n",
              "      border-top-color: var(--fill-color);\n",
              "    }\n",
              "    30% {\n",
              "      border-color: transparent;\n",
              "      border-left-color: var(--fill-color);\n",
              "      border-top-color: var(--fill-color);\n",
              "      border-right-color: var(--fill-color);\n",
              "    }\n",
              "    40% {\n",
              "      border-color: transparent;\n",
              "      border-right-color: var(--fill-color);\n",
              "      border-top-color: var(--fill-color);\n",
              "    }\n",
              "    60% {\n",
              "      border-color: transparent;\n",
              "      border-right-color: var(--fill-color);\n",
              "    }\n",
              "    80% {\n",
              "      border-color: transparent;\n",
              "      border-right-color: var(--fill-color);\n",
              "      border-bottom-color: var(--fill-color);\n",
              "    }\n",
              "    90% {\n",
              "      border-color: transparent;\n",
              "      border-bottom-color: var(--fill-color);\n",
              "    }\n",
              "  }\n",
              "</style>\n",
              "\n",
              "  <script>\n",
              "    async function quickchart(key) {\n",
              "      const quickchartButtonEl =\n",
              "        document.querySelector('#' + key + ' button');\n",
              "      quickchartButtonEl.disabled = true;  // To prevent multiple clicks.\n",
              "      quickchartButtonEl.classList.add('colab-df-spinner');\n",
              "      try {\n",
              "        const charts = await google.colab.kernel.invokeFunction(\n",
              "            'suggestCharts', [key], {});\n",
              "      } catch (error) {\n",
              "        console.error('Error during call to suggestCharts:', error);\n",
              "      }\n",
              "      quickchartButtonEl.classList.remove('colab-df-spinner');\n",
              "      quickchartButtonEl.classList.add('colab-df-quickchart-complete');\n",
              "    }\n",
              "    (() => {\n",
              "      let quickchartButtonEl =\n",
              "        document.querySelector('#df-6e2e73bc-a3aa-4723-a97e-fd724d480f48 button');\n",
              "      quickchartButtonEl.style.display =\n",
              "        google.colab.kernel.accessAllowed ? 'block' : 'none';\n",
              "    })();\n",
              "  </script>\n",
              "</div>\n",
              "\n",
              "  <div id=\"id_6295967b-1108-44d3-a556-3069e6e83e1e\">\n",
              "    <style>\n",
              "      .colab-df-generate {\n",
              "        background-color: #E8F0FE;\n",
              "        border: none;\n",
              "        border-radius: 50%;\n",
              "        cursor: pointer;\n",
              "        display: none;\n",
              "        fill: #1967D2;\n",
              "        height: 32px;\n",
              "        padding: 0 0 0 0;\n",
              "        width: 32px;\n",
              "      }\n",
              "\n",
              "      .colab-df-generate:hover {\n",
              "        background-color: #E2EBFA;\n",
              "        box-shadow: 0px 1px 2px rgba(60, 64, 67, 0.3), 0px 1px 3px 1px rgba(60, 64, 67, 0.15);\n",
              "        fill: #174EA6;\n",
              "      }\n",
              "\n",
              "      [theme=dark] .colab-df-generate {\n",
              "        background-color: #3B4455;\n",
              "        fill: #D2E3FC;\n",
              "      }\n",
              "\n",
              "      [theme=dark] .colab-df-generate:hover {\n",
              "        background-color: #434B5C;\n",
              "        box-shadow: 0px 1px 3px 1px rgba(0, 0, 0, 0.15);\n",
              "        filter: drop-shadow(0px 1px 2px rgba(0, 0, 0, 0.3));\n",
              "        fill: #FFFFFF;\n",
              "      }\n",
              "    </style>\n",
              "    <button class=\"colab-df-generate\" onclick=\"generateWithVariable('df')\"\n",
              "            title=\"Generate code using this dataframe.\"\n",
              "            style=\"display:none;\">\n",
              "\n",
              "  <svg xmlns=\"http://www.w3.org/2000/svg\" height=\"24px\"viewBox=\"0 0 24 24\"\n",
              "       width=\"24px\">\n",
              "    <path d=\"M7,19H8.4L18.45,9,17,7.55,7,17.6ZM5,21V16.75L18.45,3.32a2,2,0,0,1,2.83,0l1.4,1.43a1.91,1.91,0,0,1,.58,1.4,1.91,1.91,0,0,1-.58,1.4L9.25,21ZM18.45,9,17,7.55Zm-12,3A5.31,5.31,0,0,0,4.9,8.1,5.31,5.31,0,0,0,1,6.5,5.31,5.31,0,0,0,4.9,4.9,5.31,5.31,0,0,0,6.5,1,5.31,5.31,0,0,0,8.1,4.9,5.31,5.31,0,0,0,12,6.5,5.46,5.46,0,0,0,6.5,12Z\"/>\n",
              "  </svg>\n",
              "    </button>\n",
              "    <script>\n",
              "      (() => {\n",
              "      const buttonEl =\n",
              "        document.querySelector('#id_6295967b-1108-44d3-a556-3069e6e83e1e button.colab-df-generate');\n",
              "      buttonEl.style.display =\n",
              "        google.colab.kernel.accessAllowed ? 'block' : 'none';\n",
              "\n",
              "      buttonEl.onclick = () => {\n",
              "        google.colab.notebook.generateWithVariable('df');\n",
              "      }\n",
              "      })();\n",
              "    </script>\n",
              "  </div>\n",
              "\n",
              "    </div>\n",
              "  </div>\n"
            ],
            "application/vnd.google.colaboratory.intrinsic+json": {
              "type": "dataframe",
              "variable_name": "df",
              "summary": "{\n  \"name\": \"df\",\n  \"rows\": 5,\n  \"fields\": [\n    {\n      \"column\": \"Temperature\",\n      \"properties\": {\n        \"dtype\": \"number\",\n        \"std\": 1,\n        \"min\": 28,\n        \"max\": 32,\n        \"num_unique_values\": 5,\n        \"samples\": [\n          32,\n          29,\n          28\n        ],\n        \"semantic_type\": \"\",\n        \"description\": \"\"\n      }\n    },\n    {\n      \"column\": \"Year\",\n      \"properties\": {\n        \"dtype\": \"int32\",\n        \"num_unique_values\": 1,\n        \"samples\": [\n          2024\n        ],\n        \"semantic_type\": \"\",\n        \"description\": \"\"\n      }\n    },\n    {\n      \"column\": \"Month\",\n      \"properties\": {\n        \"dtype\": \"int32\",\n        \"num_unique_values\": 1,\n        \"samples\": [\n          1\n        ],\n        \"semantic_type\": \"\",\n        \"description\": \"\"\n      }\n    },\n    {\n      \"column\": \"Day of Week\",\n      \"properties\": {\n        \"dtype\": \"string\",\n        \"num_unique_values\": 3,\n        \"samples\": [\n          \"Monday\"\n        ],\n        \"semantic_type\": \"\",\n        \"description\": \"\"\n      }\n    }\n  ]\n}"
            }
          },
          "metadata": {},
          "execution_count": 12
        }
      ],
      "source": [
        "# Perform the following operations:\n",
        "# Extract the year and month from the DatetimeIndex\n",
        "year = df.index.year\n",
        "month = df.index.month\n",
        "day_name = df.index.day_name()\n",
        "# Add a new column with the day of the week\n",
        "df['Year']= year\n",
        "df['Month'] = month\n",
        "df['Day of Week'] = day_name\n",
        "df"
      ]
    },
    {
      "cell_type": "markdown",
      "metadata": {
        "id": "rDvRtRk7Oqmx"
      },
      "source": [
        "### 3.3. Operating Using Pandas DatetimeIndex - Subsetting\n",
        "**Task:** Subset the time series data for specific time periods."
      ]
    },
    {
      "cell_type": "code",
      "execution_count": 13,
      "metadata": {
        "colab": {
          "base_uri": "https://localhost:8080/"
        },
        "id": "2vV1IHbeO5I1",
        "outputId": "03cfdb78-ab66-46bf-f678-dc0cf566d175"
      },
      "outputs": [
        {
          "output_type": "stream",
          "name": "stdout",
          "text": [
            "March Data:\n",
            "            Temperature  Year  Month DayOfWeek\n",
            "2024-03-10           36  2024      3    Sunday\n",
            "2024-03-12           38  2024      3   Tuesday\n",
            "2024-03-29           37  2024      3    Friday\n",
            "2024-03-30           39  2024      3  Saturday\n",
            "2024-03-31           40  2024      3    Sunday\n",
            "---------------------------------------------\n",
            "Jan - Feb Data:\n",
            "            Temperature  Year  Month  DayOfWeek\n",
            "2024-01-01           30  2024      1     Monday\n",
            "2024-01-08           32  2024      1     Monday\n",
            "2024-01-12           28  2024      1     Friday\n",
            "2024-01-26           31  2024      1     Friday\n",
            "2024-01-31           29  2024      1  Wednesday\n",
            "2024-02-04           34  2024      2     Sunday\n",
            "2024-02-09           33  2024      2     Friday\n",
            "2024-02-17           30  2024      2   Saturday\n",
            "2024-02-21           35  2024      2  Wednesday\n",
            "——————————————————————\n",
            "Monday Data:\n",
            "            Temperature  Year  Month DayOfWeek\n",
            "2024-01-01           30  2024      1    Monday\n",
            "2024-01-08           32  2024      1    Monday\n",
            "2024-04-01           41  2024      4    Monday\n"
          ]
        }
      ],
      "source": [
        "# Use the DataFrame created in the previous task\n",
        "# Subset the data to include only entries from March 2024\n",
        "\n",
        "# Subset the data to include entries from January to February 2024\n",
        "\n",
        "# Extract all data points that fall on a Monday\n",
        "dates = [\"2024-01-01\", \"2024-01-08\", \"2024-01-12\", \"2024-01-26\", \"2024-01-31\",\n",
        "         \"2024-02-04\", \"2024-02-09\", \"2024-02-17\", \"2024-02-21\", \"2024-03-10\",\n",
        "         \"2024-03-12\", \"2024-03-29\", \"2024-03-30\", \"2024-03-31\", \"2024-04-01\",\n",
        "         \"2024-04-04\", \"2024-04-07\", \"2024-04-17\"]\n",
        "temperatures = [30, 32, 28, 31, 29, 34, 33, 30, 35, 36, 38, 37, 39, 40, 41, 42, 43, 44]\n",
        "\n",
        "df = pd.DataFrame(temperatures, index=pd.to_datetime(dates), columns=['Temperature'])\n",
        "\n",
        "df['Year'] = df.index.year\n",
        "df['Month'] = df.index.month\n",
        "df['DayOfWeek'] = df.index.day_name()\n",
        "\n",
        "march_data = df[df.index.month == 3]\n",
        "\n",
        "jan_feb_data = df[df.index.month.isin([1, 2])]\n",
        "\n",
        "monday_data = df[df['DayOfWeek'] == 'Monday']\n",
        "\n",
        "print(\"March Data:\")\n",
        "print(march_data)\n",
        "print(\"---------------------------------------------\")\n",
        "print(\"Jan - Feb Data:\")\n",
        "print(jan_feb_data)\n",
        "print(\"——————————————————————\")\n",
        "print(\"Monday Data:\")\n",
        "print(monday_data)\n"
      ]
    }
  ],
  "metadata": {
    "colab": {
      "collapsed_sections": [
        "vRa-DGQNot9X",
        "T0vUANJHqvRK",
        "URCnzyxrtAGd",
        "8hxKdGgQvIiS",
        "7s8HHv_KbdpG",
        "GyHeOGH6bj6_",
        "7t8G7qewvefM"
      ],
      "provenance": [],
      "include_colab_link": true
    },
    "kernelspec": {
      "display_name": "Python 3 (ipykernel)",
      "language": "python",
      "name": "python3"
    },
    "language_info": {
      "codemirror_mode": {
        "name": "ipython",
        "version": 3
      },
      "file_extension": ".py",
      "mimetype": "text/x-python",
      "name": "python",
      "nbconvert_exporter": "python",
      "pygments_lexer": "ipython3",
      "version": "3.11.7"
    }
  },
  "nbformat": 4,
  "nbformat_minor": 0
}