{
  "cells": [
    {
      "cell_type": "markdown",
      "metadata": {
        "id": "view-in-github",
        "colab_type": "text"
      },
      "source": [
        "<a href=\"https://colab.research.google.com/github/jungry/time_series/blob/main/TimeSeries_Assignment3.ipynb\" target=\"_parent\"><img src=\"https://colab.research.google.com/assets/colab-badge.svg\" alt=\"Open In Colab\"/></a>"
      ]
    },
    {
      "cell_type": "markdown",
      "metadata": {
        "id": "311-ap49sPZ6"
      },
      "source": [
        "# Time Series Week 4 - Assignment"
      ]
    },
    {
      "cell_type": "markdown",
      "metadata": {
        "id": "9a71DLyu0TUj"
      },
      "source": [
        "## 1. Modeling Seasonal Variations"
      ]
    },
    {
      "cell_type": "markdown",
      "metadata": {
        "id": "-pVs3trU0Zt7"
      },
      "source": [
        "### 1.1. Visualization for Item Sales Data\n",
        "**Task:** Visualize the item sales data to identify trends and seasonal variations\n"
      ]
    },
    {
      "cell_type": "code",
      "execution_count": 1,
      "metadata": {
        "colab": {
          "base_uri": "https://localhost:8080/"
        },
        "id": "zCEMMX5-eCGE",
        "outputId": "7fd889c2-da05-46b4-9063-54202a1c0f68"
      },
      "outputs": [
        {
          "output_type": "stream",
          "name": "stdout",
          "text": [
            "Mounted at /content/drive\n"
          ]
        }
      ],
      "source": [
        "from google.colab import drive\n",
        "drive.mount('/content/drive')"
      ]
    },
    {
      "cell_type": "code",
      "execution_count": 2,
      "metadata": {
        "id": "s9kQ-gYzsCil",
        "colab": {
          "base_uri": "https://localhost:8080/"
        },
        "outputId": "bb8c7489-b5f1-4cc5-cd2e-4be30da0e36c"
      },
      "outputs": [
        {
          "output_type": "stream",
          "name": "stdout",
          "text": [
            "Requirement already satisfied: yfinance in /usr/local/lib/python3.10/dist-packages (0.2.48)\n",
            "Requirement already satisfied: pandas>=1.3.0 in /usr/local/lib/python3.10/dist-packages (from yfinance) (2.2.2)\n",
            "Requirement already satisfied: numpy>=1.16.5 in /usr/local/lib/python3.10/dist-packages (from yfinance) (1.26.4)\n",
            "Requirement already satisfied: requests>=2.31 in /usr/local/lib/python3.10/dist-packages (from yfinance) (2.32.3)\n",
            "Requirement already satisfied: multitasking>=0.0.7 in /usr/local/lib/python3.10/dist-packages (from yfinance) (0.0.11)\n",
            "Requirement already satisfied: lxml>=4.9.1 in /usr/local/lib/python3.10/dist-packages (from yfinance) (5.3.0)\n",
            "Requirement already satisfied: platformdirs>=2.0.0 in /usr/local/lib/python3.10/dist-packages (from yfinance) (4.3.6)\n",
            "Requirement already satisfied: pytz>=2022.5 in /usr/local/lib/python3.10/dist-packages (from yfinance) (2024.2)\n",
            "Requirement already satisfied: frozendict>=2.3.4 in /usr/local/lib/python3.10/dist-packages (from yfinance) (2.4.6)\n",
            "Requirement already satisfied: peewee>=3.16.2 in /usr/local/lib/python3.10/dist-packages (from yfinance) (3.17.7)\n",
            "Requirement already satisfied: beautifulsoup4>=4.11.1 in /usr/local/lib/python3.10/dist-packages (from yfinance) (4.12.3)\n",
            "Requirement already satisfied: html5lib>=1.1 in /usr/local/lib/python3.10/dist-packages (from yfinance) (1.1)\n",
            "Requirement already satisfied: soupsieve>1.2 in /usr/local/lib/python3.10/dist-packages (from beautifulsoup4>=4.11.1->yfinance) (2.6)\n",
            "Requirement already satisfied: six>=1.9 in /usr/local/lib/python3.10/dist-packages (from html5lib>=1.1->yfinance) (1.16.0)\n",
            "Requirement already satisfied: webencodings in /usr/local/lib/python3.10/dist-packages (from html5lib>=1.1->yfinance) (0.5.1)\n",
            "Requirement already satisfied: python-dateutil>=2.8.2 in /usr/local/lib/python3.10/dist-packages (from pandas>=1.3.0->yfinance) (2.8.2)\n",
            "Requirement already satisfied: tzdata>=2022.7 in /usr/local/lib/python3.10/dist-packages (from pandas>=1.3.0->yfinance) (2024.2)\n",
            "Requirement already satisfied: charset-normalizer<4,>=2 in /usr/local/lib/python3.10/dist-packages (from requests>=2.31->yfinance) (3.4.0)\n",
            "Requirement already satisfied: idna<4,>=2.5 in /usr/local/lib/python3.10/dist-packages (from requests>=2.31->yfinance) (3.10)\n",
            "Requirement already satisfied: urllib3<3,>=1.21.1 in /usr/local/lib/python3.10/dist-packages (from requests>=2.31->yfinance) (2.2.3)\n",
            "Requirement already satisfied: certifi>=2017.4.17 in /usr/local/lib/python3.10/dist-packages (from requests>=2.31->yfinance) (2024.8.30)\n"
          ]
        }
      ],
      "source": [
        "# Load the sales dataset and understand its characteristics\n",
        "!pip install yfinance\n"
      ]
    },
    {
      "cell_type": "code",
      "execution_count": 3,
      "metadata": {
        "colab": {
          "base_uri": "https://localhost:8080/"
        },
        "id": "iqaTFdgFeCGG",
        "outputId": "32c4d821-c286-4034-a681-20755215a955"
      },
      "outputs": [
        {
          "output_type": "stream",
          "name": "stdout",
          "text": [
            "24_Fall_TimeSeriesAnalysis_Project  timeseries-datasets\n"
          ]
        }
      ],
      "source": [
        "import pandas as pd\n",
        "import numpy as np\n",
        "import matplotlib.pyplot as plt\n",
        "from sklearn.linear_model import LinearRegression\n",
        "from statsmodels.stats.stattools import durbin_watson\n",
        "import yfinance as yf\n",
        "!ls /content/drive/Shared\\ drives/"
      ]
    },
    {
      "cell_type": "code",
      "execution_count": 4,
      "metadata": {
        "id": "E2D48udQIkrd"
      },
      "outputs": [],
      "source": [
        "# Ensure the Dates are in datetime format and use the column as an index in your dateset\n"
      ]
    },
    {
      "cell_type": "code",
      "execution_count": 5,
      "metadata": {
        "id": "0Ft5dezyIoJH"
      },
      "outputs": [],
      "source": [
        "# Define the target variable (y)\n",
        "\n",
        "# Split the dataset to training and test set (leave 2 years for testing)\n"
      ]
    },
    {
      "cell_type": "code",
      "execution_count": 6,
      "metadata": {
        "id": "COMgnO7RJCxH"
      },
      "outputs": [],
      "source": [
        "# Plot the training data and analyze the visual trends and seasonality\n"
      ]
    },
    {
      "cell_type": "markdown",
      "metadata": {
        "id": "FtyY5kSW1KNQ"
      },
      "source": [
        "### 1.2. Trend Linear Modeling\n",
        "**Task:** Fit a linear model to the sales data to capture the overall trend"
      ]
    },
    {
      "cell_type": "code",
      "execution_count": 7,
      "metadata": {
        "id": "fqlvZbKd1aBN"
      },
      "outputs": [],
      "source": [
        "# Define the feature (X) and target (y) variables that you will use to plot the trend line\n",
        "\n",
        "# Fit and predict the model on the features\n",
        "\n",
        "# Plot the actual sales data and the fitted linear trend\n"
      ]
    },
    {
      "cell_type": "markdown",
      "metadata": {
        "id": "erQ97q342Zoi"
      },
      "source": [
        "### 1.3. Seasonality Modeling - Binary Variable Models\n",
        "**Task:** Model seasonality using binary (dummy) variables"
      ]
    },
    {
      "cell_type": "code",
      "execution_count": 8,
      "metadata": {
        "id": "lynFl3Ne2n7C"
      },
      "outputs": [],
      "source": [
        "# Create a separate dataset for binary seasonality modeling\n",
        "\n",
        "# Define the time index (t), constant and extract month variable from the data\n",
        "\n",
        "# Create month dummy variables\n",
        "\n",
        "# Remove the January column\n",
        "\n",
        "# Display the information of the columns\n"
      ]
    },
    {
      "cell_type": "code",
      "execution_count": 9,
      "metadata": {
        "id": "SxezF-knKwuP"
      },
      "outputs": [],
      "source": [
        "# Split the data into features(X) and target variable (y)\n"
      ]
    },
    {
      "cell_type": "code",
      "execution_count": 10,
      "metadata": {
        "id": "GguntidsKx5x"
      },
      "outputs": [],
      "source": [
        "# Fit a linear regression model that includes both the trend (time) and binary variables to model seasonality\n",
        "\n",
        "# Output regression coefficients\n"
      ]
    },
    {
      "cell_type": "code",
      "execution_count": 11,
      "metadata": {
        "id": "ABNW5c41LP-f"
      },
      "outputs": [],
      "source": [
        "# Plot the results and compare with the raw data\n"
      ]
    },
    {
      "cell_type": "markdown",
      "metadata": {
        "id": "5909F8GzQU-1"
      },
      "source": [
        "### 1.4. Seasonality Modeling - Trigonometric Models\n",
        "**Task:** Model seasonality using trigonometric functions (sine and cosine)"
      ]
    },
    {
      "cell_type": "code",
      "execution_count": 12,
      "metadata": {
        "id": "qQCZUnEZQcFM"
      },
      "outputs": [],
      "source": [
        "# Create a separate dataset for trigonometric seasonality modeling\n",
        "\n",
        "# Define the time index (t) and constant\n",
        "\n",
        "# Define the period of seasonality (L)\n"
      ]
    },
    {
      "cell_type": "code",
      "execution_count": 13,
      "metadata": {
        "id": "VBQB2lNGQ0R6"
      },
      "outputs": [],
      "source": [
        "# Split the data into features(X) and target variable (y)\n"
      ]
    },
    {
      "cell_type": "code",
      "execution_count": 14,
      "metadata": {
        "id": "cpsVcxazQ2yM"
      },
      "outputs": [],
      "source": [
        "# Fit a linear regression model that includes both the trend (time) and binary variables to model seasonality\n",
        "\n",
        "# Output regression coefficients\n"
      ]
    },
    {
      "cell_type": "code",
      "execution_count": 15,
      "metadata": {
        "id": "pxnE17QSRCg9"
      },
      "outputs": [],
      "source": [
        "# Plot the results and compare with the raw data\n"
      ]
    },
    {
      "cell_type": "markdown",
      "metadata": {
        "id": "oea5QddWQr92"
      },
      "source": [
        "### 1.5. Durbin-Watson Test for Autocorrelation Check for Residuals\n",
        "**Task:** Check for autocorrelation in the residuals using the Durbin-Watson test"
      ]
    },
    {
      "cell_type": "code",
      "execution_count": 16,
      "metadata": {
        "id": "_pXrZv6nQ9R8"
      },
      "outputs": [],
      "source": [
        "# Calculate the residuals of the actual values vs the two seasonal components (Binary and Trigonometric)\n",
        "\n",
        "# Calculate Durbin-Watson test statistic\n"
      ]
    },
    {
      "cell_type": "markdown",
      "metadata": {
        "id": "ylXHmQ57SN9C"
      },
      "source": [
        "### 1.6 Evaluation on Test Dataset\n",
        "**Task:** Repeat the above tasks on test dataset and evaluate the models created for the seasonality components using MSE"
      ]
    },
    {
      "cell_type": "code",
      "execution_count": 17,
      "metadata": {
        "id": "NwJW59yoSCzj"
      },
      "outputs": [],
      "source": [
        "# Create a separate dataset for binary seasonality modeling\n",
        "\n",
        "# Define the time index (t), constant and extract month variable from the data\n",
        "\n",
        "# Create month dummy variables\n",
        "\n",
        "# Remove the January column\n"
      ]
    },
    {
      "cell_type": "code",
      "execution_count": 18,
      "metadata": {
        "id": "qWxNTmBjSPv7"
      },
      "outputs": [],
      "source": [
        "# Split the data into features(X) and target variable (y)\n"
      ]
    },
    {
      "cell_type": "code",
      "execution_count": 19,
      "metadata": {
        "id": "EjMpn1ZQSS6c"
      },
      "outputs": [],
      "source": [
        "# Create a separate dataset for trigonometric seasonality modeling\n",
        "\n",
        "# Define the time index (t), constant and extract month variable from the data\n",
        "\n",
        "# Define the period of seasonality (L)\n"
      ]
    },
    {
      "cell_type": "code",
      "execution_count": 20,
      "metadata": {
        "id": "0FMDdoh4SZAb"
      },
      "outputs": [],
      "source": [
        "# Split the data into features(X) and target variable (y)\n"
      ]
    },
    {
      "cell_type": "code",
      "execution_count": 21,
      "metadata": {
        "id": "dalssWybSb2B"
      },
      "outputs": [],
      "source": [
        "# Evaluate the two models using Mean Squared Error (MSE) on the test dataset\n"
      ]
    },
    {
      "cell_type": "markdown",
      "metadata": {
        "id": "3wXybVKMRLdp"
      },
      "source": [
        "## 2. Modeling Growth Curve Models"
      ]
    },
    {
      "cell_type": "markdown",
      "metadata": {
        "id": "uVekuPfORTyq"
      },
      "source": [
        "### 2.1. Prepare the Data\n",
        "**Task:** Prepare the data for growth curve modeling"
      ]
    },
    {
      "cell_type": "code",
      "execution_count": 22,
      "metadata": {
        "id": "2Q_9siadRbDc"
      },
      "outputs": [],
      "source": [
        "given_data = {\n",
        "    \"Year\": np.arange(1, 16),\n",
        "    \"Online_Courses\": [15, 20, 25, 35, 45, 60, 80, 110, 145, 185, 230, 300, 475, 525, 750]\n",
        "}\n",
        "# Create a dataframe from the given data\n",
        "\n",
        "# Plot the raw data to visualize growth trends\n"
      ]
    },
    {
      "cell_type": "markdown",
      "metadata": {
        "id": "NmM0wHyJRmZN"
      },
      "source": [
        "### 2.2. Transform the Data Using Logarithm\n",
        "**Task:** Apply a logarithmic transformation to the sales data"
      ]
    },
    {
      "cell_type": "code",
      "execution_count": 23,
      "metadata": {
        "id": "KMUnTk99RvUJ"
      },
      "outputs": [],
      "source": [
        "# Transform the Sales column using the natural logarithm (np.log)\n",
        "\n",
        "# Create a figure with two subplots side by side\n",
        "\n",
        "# Plot the raw sales data on the first subplot\n",
        "\n",
        "# Plot the log-transformed sales data on the second subplot\n",
        "\n",
        "# Adjust layout to avoid overlap\n"
      ]
    },
    {
      "cell_type": "markdown",
      "metadata": {
        "id": "pzdIENpaR7_1"
      },
      "source": [
        "### 2.3. Fit a Linear Regression Model to the Transformed Data\n",
        "**Task:** Fit a linear regression model to the logarithmically transformed sales data"
      ]
    },
    {
      "cell_type": "code",
      "execution_count": 24,
      "metadata": {
        "id": "v8Ejtl7qSDT9"
      },
      "outputs": [],
      "source": [
        "# Use the time variable as the predictor and the log-transformed sales as the target\n",
        "\n",
        "# Fit the model and plot the predicted values alongside the log-transformed sales\n"
      ]
    },
    {
      "cell_type": "markdown",
      "metadata": {
        "id": "3FOKi2bQScne"
      },
      "source": [
        "### 2.4. Fit a Linear Regression Model to the Raw Data\n",
        "**Task:** Fit a linear regression model to the raw sales data"
      ]
    },
    {
      "cell_type": "code",
      "execution_count": 25,
      "metadata": {
        "id": "PWdBNZwkS0ou"
      },
      "outputs": [],
      "source": [
        "# Use the same time variable and fit a model to the raw sales data\n",
        "\n",
        "# Plot the predicted values alongside the actual raw sales data\n"
      ]
    },
    {
      "cell_type": "markdown",
      "metadata": {
        "id": "W5hNMJ89TFZU"
      },
      "source": [
        "### 2.5. Visualize and Evaluate the Model\n",
        "**Task:** Evaluate the performance of both models (on transformed and raw data)"
      ]
    },
    {
      "cell_type": "code",
      "execution_count": 26,
      "metadata": {
        "id": "Vo24au2B3VP7"
      },
      "outputs": [],
      "source": [
        "# Predict values using the raw model\n",
        "\n",
        "# Predict values using the log model and convert log predictions back to the original scale\n",
        "\n",
        "# Plot the actual vs predicted values\n"
      ]
    },
    {
      "cell_type": "code",
      "execution_count": 27,
      "metadata": {
        "id": "yr8vyJdlTN0P"
      },
      "outputs": [],
      "source": [
        "# Calculate the error metrics such as Mean Absolute Error (MAE) and Mean Squared Error (MSE) for both models\n",
        "\n",
        "# Compare which model performs better based on the error values"
      ]
    }
  ],
  "metadata": {
    "colab": {
      "provenance": [],
      "include_colab_link": true
    },
    "kernelspec": {
      "display_name": "Python 3 (ipykernel)",
      "language": "python",
      "name": "python3"
    },
    "language_info": {
      "codemirror_mode": {
        "name": "ipython",
        "version": 3
      },
      "file_extension": ".py",
      "mimetype": "text/x-python",
      "name": "python",
      "nbconvert_exporter": "python",
      "pygments_lexer": "ipython3",
      "version": "3.11.7"
    }
  },
  "nbformat": 4,
  "nbformat_minor": 0
}