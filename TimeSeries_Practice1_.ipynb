{
  "cells": [
    {
      "cell_type": "markdown",
      "metadata": {
        "id": "view-in-github",
        "colab_type": "text"
      },
      "source": [
        "<a href=\"https://colab.research.google.com/github/jungry/time_series/blob/main/TimeSeries_Practice1_.ipynb\" target=\"_parent\"><img src=\"https://colab.research.google.com/assets/colab-badge.svg\" alt=\"Open In Colab\"/></a>"
      ]
    },
    {
      "cell_type": "code",
      "execution_count": 1,
      "metadata": {
        "colab": {
          "base_uri": "https://localhost:8080/"
        },
        "id": "Oa6qAhqZyIl_",
        "outputId": "16e1a88a-17e5-48ff-e3a5-f639e988b7ec"
      },
      "outputs": [
        {
          "output_type": "stream",
          "name": "stdout",
          "text": [
            "Mounted at /content/drive\n"
          ]
        }
      ],
      "source": [
        "# Google Mount\n",
        "from google.colab import drive\n",
        "drive.mount('/content/drive')"
      ]
    },
    {
      "cell_type": "markdown",
      "metadata": {
        "id": "JY4F2ZiHpXbd"
      },
      "source": [
        "# Basic Python for Linear Algebra"
      ]
    },
    {
      "cell_type": "code",
      "execution_count": 2,
      "metadata": {
        "colab": {
          "base_uri": "https://localhost:8080/"
        },
        "id": "NewpVGgzpfbZ",
        "outputId": "4e86225d-d86f-4325-ffc2-532b081e47b0"
      },
      "outputs": [
        {
          "output_type": "execute_result",
          "data": {
            "text/plain": [
              "array([1, 2, 3])"
            ]
          },
          "metadata": {},
          "execution_count": 2
        }
      ],
      "source": [
        "import numpy as np\n",
        "\n",
        "# Creating a vector\n",
        "vector = np.array([1, 2, 3])\n",
        "vector"
      ]
    },
    {
      "cell_type": "code",
      "execution_count": 3,
      "metadata": {
        "colab": {
          "base_uri": "https://localhost:8080/"
        },
        "id": "70-s7oc9dqGy",
        "outputId": "7cb6e963-5ddc-4275-89aa-c9eaa04e9a4a"
      },
      "outputs": [
        {
          "output_type": "execute_result",
          "data": {
            "text/plain": [
              "array([[1, 2, 3],\n",
              "       [4, 5, 6],\n",
              "       [7, 8, 9]])"
            ]
          },
          "metadata": {},
          "execution_count": 3
        }
      ],
      "source": [
        "# Creating a matrix\n",
        "matrix = np.array([[1, 2, 3], [4, 5, 6], [7, 8, 9]])\n",
        "matrix"
      ]
    },
    {
      "cell_type": "markdown",
      "metadata": {
        "id": "R6l6jhPnhkMU"
      },
      "source": [
        "### Vector Addition and Subtraction\n",
        "Vector addition involves adding corresponding elements of two vectors to produce a new vector. Similarly, vector subtraction involves subtracting corresponding elements.\n",
        "\n",
        "**Example:**\n",
        "\n",
        "a = \\begin{bmatrix} a_1 \\\\ a_2 \\\\ a_3 \\end{bmatrix}\n",
        "b = \\begin{bmatrix} b_1 \\\\ b_2 \\\\ b_3 \\end{bmatrix}\n",
        "\n",
        "a + b = \\begin{bmatrix} a_1 + b_1 \\\\ a_2 + b_2 \\\\ a_3 + b_3 \\end{bmatrix}\n",
        "\n",
        "a - b = \\begin{bmatrix} a_1 - b_1 \\\\ a_2 - b_2 \\\\ a_3 - b_3 \\end{bmatrix}"
      ]
    },
    {
      "cell_type": "code",
      "execution_count": 4,
      "metadata": {
        "colab": {
          "base_uri": "https://localhost:8080/"
        },
        "id": "qTSS0m-5pXMg",
        "outputId": "b8d30a23-bbd4-4a6b-b7b4-f70b86994226"
      },
      "outputs": [
        {
          "output_type": "stream",
          "name": "stdout",
          "text": [
            "Vector Addition: [5 7 9]\n",
            "Vector Subtraction: [-3 -3 -3]\n"
          ]
        }
      ],
      "source": [
        "a = np.array([1, 2, 3])\n",
        "b = np.array([4, 5, 6])\n",
        "\n",
        "# Vector addition\n",
        "vector_sum = a + b\n",
        "print(\"Vector Addition:\", vector_sum)\n",
        "\n",
        "# Vector subtraction\n",
        "vector_diff = a - b\n",
        "print(\"Vector Subtraction:\", vector_diff)"
      ]
    },
    {
      "cell_type": "markdown",
      "metadata": {
        "id": "K_fsaeCEjR_w"
      },
      "source": [
        "### Matrix Addition and Subtraction\n",
        "\n",
        "Matrix addition and subtraction are similar to vector operations but applied element-wise to matrices of the same dimension.\n",
        "\n",
        "**Example:**\n",
        "\n",
        "A = \\begin{bmatrix} a_{11} & a_{12} \\\\ a_{21} & a_{22} \\end{bmatrix}\n",
        "B = \\begin{bmatrix} b_{11} & b_{12} \\\\ b_{21} & b_{22} \\end{bmatrix}\n",
        "\n",
        "A + B = \\begin{bmatrix} a_{11} + b_{11} & a_{12} + b_{12} \\\\ a_{21} + b_{21} & a_{22} + b_{22} \\end{bmatrix}\n",
        "\n",
        "A - B = \\begin{bmatrix} a_{11} - b_{11} & a_{12} - b_{12} \\\\ a_{21} - b_{21} & a_{22} - b_{22} \\end{bmatrix}"
      ]
    },
    {
      "cell_type": "code",
      "execution_count": 5,
      "metadata": {
        "colab": {
          "base_uri": "https://localhost:8080/"
        },
        "id": "Hwn-npSvfV_v",
        "outputId": "315d215f-3586-4bdd-e370-47ab98453f3a"
      },
      "outputs": [
        {
          "output_type": "stream",
          "name": "stdout",
          "text": [
            "Matrix Addition:\n",
            " [[ 6  8]\n",
            " [10 12]]\n",
            "Matrix Subtraction:\n",
            " [[-4 -4]\n",
            " [-4 -4]]\n"
          ]
        }
      ],
      "source": [
        "A = np.array([[1, 2], [3, 4]])\n",
        "B = np.array([[5, 6], [7, 8]])\n",
        "\n",
        "# Matrix addition\n",
        "matrix_sum = A + B\n",
        "print(\"Matrix Addition:\\n\", matrix_sum)\n",
        "\n",
        "# Matrix subtraction\n",
        "matrix_diff = A - B\n",
        "print(\"Matrix Subtraction:\\n\", matrix_diff)"
      ]
    },
    {
      "cell_type": "markdown",
      "metadata": {
        "id": "N_FZE573phN9"
      },
      "source": [
        "### Scalar Multiplication\n",
        "\n",
        "Scalar multiplication involves multiplying each element of a vector or matrix by a scalar (a single number).\n",
        "\n",
        "**Example:**\n",
        "\n",
        "For a vector:\n",
        "\n",
        "\n",
        "k ⋅ a =\n",
        "k ⋅ \\begin{bmatrix} a_1 \\\\ a_2 \\\\ a_3 \\end{bmatrix} = \\begin{bmatrix} k \\cdot a_1 \\\\ k \\cdot a_2 \\\\ k \\cdot a_3 \\end{bmatrix}\n",
        "\n",
        "\n",
        "For a matrix:\n",
        "\n",
        "k ⋅ A = k ⋅ \\begin{bmatrix} a_{11} & a_{12} \\\\ a_{21} & a_{22} \\end{bmatrix} = \\begin{bmatrix} k \\cdot a_{11} & k \\cdot a_{12} \\\\ k \\cdot a_{21} & k \\cdot a_{22} \\end{bmatrix}"
      ]
    },
    {
      "cell_type": "code",
      "execution_count": 6,
      "metadata": {
        "colab": {
          "base_uri": "https://localhost:8080/"
        },
        "id": "SmhKtxLtfnUd",
        "outputId": "42a808d3-931f-4523-8da0-7625d1e3be1c"
      },
      "outputs": [
        {
          "output_type": "stream",
          "name": "stdout",
          "text": [
            "Scalar Multiplication with Vector: [2 4 6]\n",
            "Scalar Multiplication with Matrix:\n",
            " [[2 4]\n",
            " [6 8]]\n"
          ]
        }
      ],
      "source": [
        "# Define a scalar\n",
        "k = 2\n",
        "\n",
        "# Scalar multiplication with vector\n",
        "scalar_vector_product = k * a\n",
        "print(\"Scalar Multiplication with Vector:\", scalar_vector_product)\n",
        "\n",
        "# Scalar multiplication with matrix\n",
        "scalar_matrix_product = k * A\n",
        "print(\"Scalar Multiplication with Matrix:\\n\", scalar_matrix_product)\n"
      ]
    },
    {
      "cell_type": "markdown",
      "metadata": {
        "id": "wnNQyjX_t5V2"
      },
      "source": [
        "### Dot Product\n",
        "\n",
        "The dot product of two vectors is the sum of the products of their corresponding elements. It is also known as the scalar product.\n",
        "\n",
        "**Example:**\n",
        "\n",
        "a = \\begin{bmatrix} a_1 \\\\ a_2 \\\\ a_3 \\end{bmatrix}\n",
        "b = \\begin{bmatrix} b_1 \\\\ b_2 \\\\ b_3 \\end{bmatrix}\n",
        "\n",
        "a **⋅** b = a<sub>1</sub> **⋅** b<sub>1</sub> + a<sub>2</sub> **⋅** b<sub>2</sub> + a<sub>3</sub> **⋅** b<sub>3</sub>\n",
        "\n",
        "### Matrix Multiplication\n",
        "\n",
        "Matrix multiplication involves multiplying rows of the first matrix by columns of the second matrix and summing the results to form a new matrix.\n",
        "\n",
        "**Example:**\n",
        "\n",
        "A = \\begin{bmatrix} a_{11} & a_{12} \\\\ a_{21} & a_{22} \\end{bmatrix}\n",
        "B = \\begin{bmatrix} b_{11} & b_{12} \\\\ b_{21} & b_{22} \\end{bmatrix}\n",
        "\n",
        "\n",
        "C = A **⋅** B = \\begin{bmatrix} a_{11} \\cdot b_{11} + a_{12} \\cdot b_{21} & a_{11} \\cdot b_{12} + a_{12} \\cdot b_{22} \\\\ a_{21} \\cdot b_{11} + a_{22} \\cdot b_{21} & a_{21} \\cdot b_{12} + a_{22} \\cdot b_{22} \\end{bmatrix}"
      ]
    },
    {
      "cell_type": "code",
      "execution_count": 7,
      "metadata": {
        "colab": {
          "base_uri": "https://localhost:8080/"
        },
        "id": "JPiUkM1Ggm_x",
        "outputId": "81ca9080-d86f-47af-9d4b-f0321e33a8cb"
      },
      "outputs": [
        {
          "output_type": "stream",
          "name": "stdout",
          "text": [
            "Dot Product of Vectors: 32\n",
            "Matrix Multiplication:\n",
            " [[19 22]\n",
            " [43 50]]\n"
          ]
        }
      ],
      "source": [
        "# Dot product of vectors\n",
        "dot_product = np.dot(a, b)\n",
        "print(\"Dot Product of Vectors:\", dot_product)\n",
        "\n",
        "# Matrix multiplication\n",
        "matrix_product = np.dot(A, B)\n",
        "print(\"Matrix Multiplication:\\n\", matrix_product)"
      ]
    },
    {
      "cell_type": "markdown",
      "metadata": {
        "id": "Eoqmn1QYqLG6"
      },
      "source": [
        "# Basic Python for statistics"
      ]
    },
    {
      "cell_type": "markdown",
      "metadata": {
        "id": "0VDQ8eS13X5I"
      },
      "source": [
        "## Descriptive Statistics\n",
        "Descriptive statistics summarize and describe the features of a dataset.\n",
        "\n",
        "**Mean**\n",
        "<br>\n",
        "The mean is the average of all data points.\n",
        "\n"
      ]
    },
    {
      "cell_type": "code",
      "execution_count": 8,
      "metadata": {
        "colab": {
          "base_uri": "https://localhost:8080/"
        },
        "id": "Q_iV1XuE2-LK",
        "outputId": "9645ecbb-fedd-4a23-978d-20207e929b09"
      },
      "outputs": [
        {
          "output_type": "stream",
          "name": "stdout",
          "text": [
            "Mean: 5.0\n"
          ]
        }
      ],
      "source": [
        "data = [1, 2, 2, 4, 4, 4, 6, 8, 9, 10]\n",
        "mean = np.mean(data)\n",
        "print(\"Mean:\", mean)"
      ]
    },
    {
      "cell_type": "markdown",
      "metadata": {
        "id": "P5SCQaiT3wAV"
      },
      "source": [
        "**Median**\n",
        "<br>\n",
        "The median is the middle value in a sorted dataset.\n",
        "\n"
      ]
    },
    {
      "cell_type": "code",
      "execution_count": 9,
      "metadata": {
        "colab": {
          "base_uri": "https://localhost:8080/"
        },
        "id": "0WeuRCOL3KN3",
        "outputId": "ec8b6c09-c618-4fae-99da-d7df7dad2a02"
      },
      "outputs": [
        {
          "output_type": "stream",
          "name": "stdout",
          "text": [
            "Median: 4.0\n"
          ]
        }
      ],
      "source": [
        "median = np.median(data)\n",
        "print(\"Median:\", median)"
      ]
    },
    {
      "cell_type": "markdown",
      "metadata": {
        "id": "PCVXtgJG4eFd"
      },
      "source": [
        "**Standard Deviation**\n",
        "<br>\n",
        "The standard deviation measures the dispersion of data points from the mean."
      ]
    },
    {
      "cell_type": "code",
      "execution_count": 10,
      "metadata": {
        "colab": {
          "base_uri": "https://localhost:8080/"
        },
        "id": "-Zc9tZ684qVv",
        "outputId": "7a121f54-1b00-4b3a-d511-0115af5ed235"
      },
      "outputs": [
        {
          "output_type": "stream",
          "name": "stdout",
          "text": [
            "Standard Deviation: 2.9664793948382653\n"
          ]
        }
      ],
      "source": [
        "std_dev = np.std(data)\n",
        "print(\"Standard Deviation:\", std_dev)"
      ]
    },
    {
      "cell_type": "markdown",
      "metadata": {
        "id": "G_TB8uAp4vMj"
      },
      "source": [
        "**Variance**\n",
        "<br>\n",
        "The variance is the square of the standard deviation."
      ]
    },
    {
      "cell_type": "code",
      "execution_count": 11,
      "metadata": {
        "colab": {
          "base_uri": "https://localhost:8080/"
        },
        "id": "pQdpgXlY44BL",
        "outputId": "7e9d6600-c1b4-477c-f544-fd8327d5b40a"
      },
      "outputs": [
        {
          "output_type": "stream",
          "name": "stdout",
          "text": [
            "Variance: 8.8\n"
          ]
        }
      ],
      "source": [
        "variance = np.var(data)\n",
        "print(\"Variance:\", variance)"
      ]
    },
    {
      "cell_type": "markdown",
      "metadata": {
        "id": "QGyy1YwT497y"
      },
      "source": [
        "**Range**\n",
        "<br>\n",
        "The range is the difference between the maximum and minimum values in a dataset."
      ]
    },
    {
      "cell_type": "code",
      "execution_count": 12,
      "metadata": {
        "colab": {
          "base_uri": "https://localhost:8080/"
        },
        "id": "geAkAgYv5ELM",
        "outputId": "82a2203f-1bdc-4804-c5b5-7b0f08f6d589"
      },
      "outputs": [
        {
          "output_type": "stream",
          "name": "stdout",
          "text": [
            "Range: 9\n"
          ]
        }
      ],
      "source": [
        "data_range = np.ptp(data)\n",
        "print(\"Range:\", data_range)"
      ]
    },
    {
      "cell_type": "markdown",
      "metadata": {
        "id": "QKQOJkOo5a4O"
      },
      "source": [
        "**Percentiles**\n",
        "<br>\n",
        "Percentiles indicate the relative standing of a value in a dataset."
      ]
    },
    {
      "cell_type": "code",
      "execution_count": 13,
      "metadata": {
        "colab": {
          "base_uri": "https://localhost:8080/"
        },
        "id": "io8aEAr_5Uhn",
        "outputId": "545bf560-17b1-4832-b0e2-23e4ede7b8f2"
      },
      "outputs": [
        {
          "output_type": "stream",
          "name": "stdout",
          "text": [
            "25th Percentile: 2.5\n",
            "75th Percentile: 7.5\n"
          ]
        }
      ],
      "source": [
        "#백분위수는 데이터셋에서 특정 값의 상대적인 위치를 나타낸다.\n",
        "#오름차순으로정렬된 데이터셋에서 하위25%에 해당하는 값\n",
        "percentile_25 = np.percentile(data, 25)\n",
        "#하위 75%에 해당하는 값\n",
        "percentile_75 = np.percentile(data, 75)\n",
        "\n",
        "print(\"25th Percentile:\", percentile_25)\n",
        "print(\"75th Percentile:\", percentile_75)"
      ]
    },
    {
      "cell_type": "markdown",
      "metadata": {
        "id": "8Sgnd1PT53ik"
      },
      "source": [
        "## Data Visualization\n",
        "Visualizing data helps in understanding its distribution and identifying patterns.\n",
        "\n",
        "**Histograms**\n",
        "<br>\n",
        "A histogram represents the frequency distribution of a dataset."
      ]
    },
    {
      "cell_type": "code",
      "execution_count": 14,
      "metadata": {
        "colab": {
          "base_uri": "https://localhost:8080/",
          "height": 0
        },
        "id": "aIxnsI7y6hqE",
        "outputId": "516d8d74-4231-4fc6-bf76-d73cd70d447a"
      },
      "outputs": [
        {
          "output_type": "display_data",
          "data": {
            "text/plain": [
              "<Figure size 640x480 with 1 Axes>"
            ],
            "image/png": "[encoded data removed]"
          },
          "metadata": {}
        }
      ],
      "source": [
        "import matplotlib.pyplot as plt\n",
        "\n",
        "plt.hist(data, bins=5, edgecolor='black')\n",
        "plt.title('Histogram')\n",
        "plt.xlabel('Value')\n",
        "plt.ylabel('Frequency')\n",
        "plt.show()\n"
      ]
    },
    {
      "cell_type": "markdown",
      "metadata": {
        "id": "KOFv76l468Zy"
      },
      "source": [
        "**Box Plots**\n",
        "<br>\n",
        "A box plot displays the distribution of data based on a five-number summary: minimum, first quartile, median, third quartile, and maximum."
      ]
    },
    {
      "cell_type": "code",
      "execution_count": 15,
      "metadata": {
        "colab": {
          "base_uri": "https://localhost:8080/",
          "height": 0
        },
        "id": "w9rt0alG66Gh",
        "outputId": "ab27368e-f899-46ad-9bba-5ef5fde893e3"
      },
      "outputs": [
        {
          "output_type": "display_data",
          "data": {
            "text/plain": [
              "<Figure size 640x480 with 1 Axes>"
            ],
            "image/png": "[encoded data removed]"
          },
          "metadata": {}
        }
      ],
      "source": [
        "plt.boxplot(data)\n",
        "plt.title('Box Plot')\n",
        "plt.ylabel('Value')\n",
        "plt.show()"
      ]
    },
    {
      "cell_type": "markdown",
      "metadata": {
        "id": "1ny84mub8Awt"
      },
      "source": [
        "### Probability Distributions\n",
        "**Normal Distribution**\n",
        "<br>\n",
        "A normal distribution is a bell-shaped curve where most of the data points are centered around the mean."
      ]
    },
    {
      "cell_type": "code",
      "execution_count": 16,
      "metadata": {
        "colab": {
          "base_uri": "https://localhost:8080/",
          "height": 0
        },
        "id": "f1VSEApA8HcR",
        "outputId": "f5e062d2-8438-4a7f-cde9-0b34db445e89"
      },
      "outputs": [
        {
          "output_type": "display_data",
          "data": {
            "text/plain": [
              "<Figure size 640x480 with 1 Axes>"
            ],
            "image/png": "[encoded data removed]"
          },
          "metadata": {}
        },
        {
          "output_type": "execute_result",
          "data": {
            "text/plain": [
              "\"plt.hist(): normal_dist 데이터의 히스토그램을 그림.\\nbins=30: 히스토그램의 막대를 30개로 나누어 표시함.\\nedgecolor='black': 막대의 테두리를 검은색으로 설정.\\ndensity=True: 히스토그램을 확률 밀도 함수로 변환하여 y축에 빈도 대신 확률 밀도를 표시함.\""
            ],
            "application/vnd.google.colaboratory.intrinsic+json": {
              "type": "string"
            }
          },
          "metadata": {},
          "execution_count": 16
        }
      ],
      "source": [
        "#정규 분포는 종 모양의 곡선으로,\n",
        "#대부분의 데이터 포인트가 평균 값을 중심으로 집중되는 분포를 의미\n",
        "\n",
        "#정규 분포의 평균을 0으로 설정\n",
        "mean = 0\n",
        "#정규 분포의 표준 편차를 1로 설정\n",
        "std_dev = 1\n",
        "normal_dist = np.random.normal(mean, std_dev, 1000)\n",
        "#평균이 0이고 표준 편차가 1인 정규 분포에서 1000개의 샘플을 생성하여 normal_dist에 저장\n",
        "\n",
        "plt.hist(normal_dist, bins=30, edgecolor='black', density=True)\n",
        "plt.title('Normal Distribution')\n",
        "plt.xlabel('Value')\n",
        "plt.ylabel('Frequency')\n",
        "plt.show()\n",
        "\n",
        "'''plt.hist(): normal_dist 데이터의 히스토그램을 그림.\n",
        "bins=30: 히스토그램의 막대를 30개로 나누어 표시함.\n",
        "edgecolor='black': 막대의 테두리를 검은색으로 설정.\n",
        "density=True: 히스토그램을 확률 밀도 함수로 변환하여 y축에 빈도 대신 확률 밀도를 표시함.'''\n"
      ]
    },
    {
      "cell_type": "markdown",
      "metadata": {
        "id": "L2cN289i8iXS"
      },
      "source": [
        "**Binomial Distribution**\n",
        "<br>\n",
        "A binomial distribution describes the number of successes in a fixed number of trials."
      ]
    },
    {
      "cell_type": "code",
      "execution_count": 17,
      "metadata": {
        "colab": {
          "base_uri": "https://localhost:8080/",
          "height": 0
        },
        "id": "cJwZZeBp8lu2",
        "outputId": "93125d49-3dff-4233-f252-77c9164ac7ef"
      },
      "outputs": [
        {
          "output_type": "display_data",
          "data": {
            "text/plain": [
              "<Figure size 640x480 with 1 Axes>"
            ],
            "image/png": "[encoded data removed]"
          },
          "metadata": {}
        }
      ],
      "source": [
        "'''이항 분포는 일정한 횟수의 시험에서 성공의 횟수를 설명하는 확률 분포입니다.\n",
        "여기서 \"성공\"과 \"실패\"라는 두 가지 가능한 결과가 있으며,\n",
        "각 시험에서 성공할 확률이 일정하고 독립적입니다.'''\n",
        "\n",
        "#각 실험에서 시험의 총 횟수(예: 동전을 10번 던지는 것)를 설정\n",
        "n = 10  # number of trials\n",
        "#각 시험에서 성공할 확률을 0.5 (50%)로 설정\n",
        "p = 0.5  # probability of success\n",
        "binom_dist = np.random.binomial(n, p, 1000)\n",
        "\n",
        "plt.hist(binom_dist, bins=10, edgecolor='black', density=True)\n",
        "plt.title('Binomial Distribution')\n",
        "plt.xlabel('Number of Successes')\n",
        "plt.ylabel('Frequency')\n",
        "plt.show()"
      ]
    },
    {
      "cell_type": "markdown",
      "metadata": {
        "id": "IetuGlI69SXW"
      },
      "source": [
        "### Inferential Statistics\n",
        "**Hypothesis Testing**\n",
        "<br>\n",
        "Hypothesis testing is used to determine if there is enough evidence to reject a null hypothesis.\n",
        "\n",
        "**t-tests**\n",
        "<br>\n",
        "A t-test compares the means of two groups."
      ]
    },
    {
      "cell_type": "code",
      "execution_count": 18,
      "metadata": {
        "colab": {
          "base_uri": "https://localhost:8080/",
          "height": 0
        },
        "id": "5PckwPio9bFv",
        "outputId": "3410a288-f552-4478-a639-e5ca0712b6f4"
      },
      "outputs": [
        {
          "output_type": "stream",
          "name": "stdout",
          "text": [
            "t-statistic: -2.457452376850267\n",
            "p-value: 0.014852838035694859\n"
          ]
        },
        {
          "output_type": "execute_result",
          "data": {
            "text/plain": [
              "'만약 p_value가 0.05보다 작다면, 두 샘플 간의 평균 차이가 우연에 의한 것이 아니라는 결론을 내릴 수 있습니다.\\n이는 두 샘플 간의 차이가 통계적으로 유의미하다고 볼 수 있음을 의미합니다.\\n\\n0.05보다 크다면, 두 샘플간의 평균차이는 우연일 확률이 높고, 통계적으로 유의미하다고 보기 힘듦.\\n'"
            ],
            "application/vnd.google.colaboratory.intrinsic+json": {
              "type": "string"
            }
          },
          "metadata": {},
          "execution_count": 18
        }
      ],
      "source": [
        "'''\n",
        "추론 통계 (Inferential Statistics)\n",
        "\n",
        "가설 검정 (Hypothesis Testing) 가설 검정은 귀무가설(null hypothesis:두 변수 간에 차이나 관계가 없다는 가정)을 기각할 수 있는 충분한 증거가 있는지 판단하는 방법입니다.\n",
        "일반적으로 두 가지 가설을 설정하고, 데이터를 분석하여 어느 쪽이 더 적합한지를 결정합니다.\n",
        "\n",
        "t-검정 (t-tests)은 두 그룹의 평균을 비교하는 통계적 방법입니다.\n",
        "이 검정을 통해 두 그룹 간의 평균 차이가 통계적으로 유의미한지를 확인할 수 있습니다.\n",
        "\n",
        "t-검정은 두 그룹 간의 평균 차이가 통계적으로 유의미한지 확인하는 데 사용됩니다.\n",
        "즉, 두 샘플이 우연에 의해 차이가 나는 것인지, 실제로 차이가 있는지를 평가합니다.\n",
        "'''\n",
        "\n",
        "import scipy.stats as stats\n",
        "\n",
        "# Generate two random samples\n",
        "sample1 = np.random.normal(0, 1, 100)\n",
        "sample2 = np.random.normal(0.5, 1, 100)\n",
        "\n",
        "# Perform a t-test\n",
        "t_stat, p_value = stats.ttest_ind(sample1, sample2)\n",
        "#t_stat: t-통계량으로, 두 샘플의 평균 차이와 분산을 고려하여 계산됨\n",
        "#p_value: t-검정의 p-값으로, 두 샘플 간의 평균 차이가 우연에 의해 발생할 확률을 나타냄\n",
        "print(\"t-statistic:\", t_stat)\n",
        "print(\"p-value:\", p_value)\n",
        "\n",
        "'''만약 p_value가 0.05보다 작다면, 두 샘플 간의 평균 차이가 우연에 의한 것이 아니라는 결론을 내릴 수 있습니다.\n",
        "이는 두 샘플 간의 차이가 통계적으로 유의미하다고 볼 수 있음을 의미합니다.\n",
        "\n",
        "0.05보다 크다면, 두 샘플간의 평균차이는 우연일 확률이 높고, 통계적으로 유의미하다고 보기 힘듦.\n",
        "'''\n"
      ]
    },
    {
      "cell_type": "markdown",
      "metadata": {
        "id": "zSMHYmynqtZ2"
      },
      "source": [
        "# Numpy and Pandas functions related to time series"
      ]
    },
    {
      "cell_type": "markdown",
      "metadata": {
        "id": "o0-qCj6fsgK9"
      },
      "source": [
        "## python, numpy, pandas Date Types Comparison and Summary\n",
        "\n",
        "|Library|Date, Time Classes| Timedelta Classes|\n",
        "|-------|-------------|-------------|\n",
        "|datetime|datetime, date, time|timedelta|\n",
        "|numpy|datetime64|timedelta64|\n",
        "|pandas|Timestamp|Timedelta|\n",
        "\n",
        "- datetime is a built-in library in Python, with different classes depending on whether you want to use date, time, or a combination of both.\n",
        "For example, to represent 2021-3-16, you would use the date class, and to represent 2021-3-16 12:34:2, you would use the datetime class.\n",
        "\n",
        "- datetime64 and Timestamp are newly defined datetime classes in the numpy and pandas libraries, respectively.\n",
        "Both of these classes can be used to define dates, times, and datetimes within a single class."
      ]
    },
    {
      "cell_type": "markdown",
      "metadata": {
        "id": "noY_GD2MsuOL"
      },
      "source": [
        "### Handling Timestamps in Pandas"
      ]
    },
    {
      "cell_type": "code",
      "execution_count": 19,
      "metadata": {
        "colab": {
          "base_uri": "https://localhost:8080/"
        },
        "id": "QG-Xw55JszV4",
        "outputId": "fb69e53d-01c3-491a-b306-4570eb42c60f"
      },
      "outputs": [
        {
          "output_type": "execute_result",
          "data": {
            "text/plain": [
              "Index(['Row ID', 'Order ID', 'Order Date', 'Ship Date', 'Ship Mode',\n",
              "       'Customer ID', 'Customer Name', 'Segment', 'Country', 'City', 'State',\n",
              "       'Postal Code', 'Region', 'Product ID', 'Category', 'Sub-Category',\n",
              "       'Product Name', 'Sales', 'Quantity', 'Discount', 'Profit'],\n",
              "      dtype='object')"
            ]
          },
          "metadata": {},
          "execution_count": 19
        }
      ],
      "source": [
        "\n",
        "'''\n",
        "datetime: Python의 기본 라이브러리로, 날짜와 시간 모두를 지원하는 다양한 클래스를 제공합니다.\n",
        "numpy.datetime64: 빠르고 효율적인 날짜 및 시간 처리를 위해 numpy에서 제공하는 클래스입니다.\n",
        "pandas.Timestamp: pandas의 데이터 분석 및 조작에 특화된 날짜 및 시간 클래스로, datetime과 유사하지만 추가 기능을 제공합니다.\n",
        "pandas.Timedelta: 날짜 또는 시간 간의 차이를 다루는 클래스입니다.\n",
        "'''\n",
        "\n",
        "import pandas as pd\n",
        "\n",
        "df = pd.read_excel(\"/content/drive/Shareddrives/timeseries-datasets/Sample - Superstore.xls\")\n",
        "df.columns"
      ]
    },
    {
      "cell_type": "code",
      "execution_count": 20,
      "metadata": {
        "colab": {
          "base_uri": "https://localhost:8080/",
          "height": 985
        },
        "id": "Lglr6jk3tIST",
        "outputId": "9fd495ce-ad76-463c-88f0-2596e7200337"
      },
      "outputs": [
        {
          "output_type": "execute_result",
          "data": {
            "text/plain": [
              "   Row ID        Order ID Order Date  Ship Date       Ship Mode Customer ID  \\\n",
              "0       1  CA-2013-152156 2013-11-09 2013-11-12    Second Class    CG-12520   \n",
              "1       2  CA-2013-152156 2013-11-09 2013-11-12    Second Class    CG-12520   \n",
              "2       3  CA-2013-138688 2013-06-13 2013-06-17    Second Class    DV-13045   \n",
              "3       4  US-2012-108966 2012-10-11 2012-10-18  Standard Class    SO-20335   \n",
              "4       5  US-2012-108966 2012-10-11 2012-10-18  Standard Class    SO-20335   \n",
              "5       6  CA-2011-115812 2011-06-09 2011-06-14  Standard Class    BH-11710   \n",
              "6       7  CA-2011-115812 2011-06-09 2011-06-14  Standard Class    BH-11710   \n",
              "7       8  CA-2011-115812 2011-06-09 2011-06-14  Standard Class    BH-11710   \n",
              "8       9  CA-2011-115812 2011-06-09 2011-06-14  Standard Class    BH-11710   \n",
              "9      10  CA-2011-115812 2011-06-09 2011-06-14  Standard Class    BH-11710   \n",
              "\n",
              "     Customer Name    Segment        Country             City  ...  \\\n",
              "0      Claire Gute   Consumer  United States        Henderson  ...   \n",
              "1      Claire Gute   Consumer  United States        Henderson  ...   \n",
              "2  Darrin Van Huff  Corporate  United States      Los Angeles  ...   \n",
              "3   Sean O'Donnell   Consumer  United States  Fort Lauderdale  ...   \n",
              "4   Sean O'Donnell   Consumer  United States  Fort Lauderdale  ...   \n",
              "5  Brosina Hoffman   Consumer  United States      Los Angeles  ...   \n",
              "6  Brosina Hoffman   Consumer  United States      Los Angeles  ...   \n",
              "7  Brosina Hoffman   Consumer  United States      Los Angeles  ...   \n",
              "8  Brosina Hoffman   Consumer  United States      Los Angeles  ...   \n",
              "9  Brosina Hoffman   Consumer  United States      Los Angeles  ...   \n",
              "\n",
              "  Postal Code  Region       Product ID         Category Sub-Category  \\\n",
              "0       42420   South  FUR-BO-10001798        Furniture    Bookcases   \n",
              "1       42420   South  FUR-CH-10000454        Furniture       Chairs   \n",
              "2       90036    West  OFF-LA-10000240  Office Supplies       Labels   \n",
              "3       33311   South  FUR-TA-10000577        Furniture       Tables   \n",
              "4       33311   South  OFF-ST-10000760  Office Supplies      Storage   \n",
              "5       90032    West  FUR-FU-10001487        Furniture  Furnishings   \n",
              "6       90032    West  OFF-AR-10002833  Office Supplies          Art   \n",
              "7       90032    West  TEC-PH-10002275       Technology       Phones   \n",
              "8       90032    West  OFF-BI-10003910  Office Supplies      Binders   \n",
              "9       90032    West  OFF-AP-10002892  Office Supplies   Appliances   \n",
              "\n",
              "                                        Product Name     Sales  Quantity  \\\n",
              "0                  Bush Somerset Collection Bookcase  261.9600         2   \n",
              "1  Hon Deluxe Fabric Upholstered Stacking Chairs,...  731.9400         3   \n",
              "2  Self-Adhesive Address Labels for Typewriters b...   14.6200         2   \n",
              "3      Bretford CR4500 Series Slim Rectangular Table  957.5775         5   \n",
              "4                     Eldon Fold 'N Roll Cart System   22.3680         2   \n",
              "5  Eldon Expressions Wood and Plastic Desk Access...   48.8600         7   \n",
              "6                                         Newell 322    7.2800         4   \n",
              "7                     Mitel 5320 IP Phone VoIP phone  907.1520         6   \n",
              "8  DXL Angle-View Binders with Locking Rings by S...   18.5040         3   \n",
              "9                   Belkin F5C206VTEL 6 Outlet Surge  114.9000         5   \n",
              "\n",
              "   Discount    Profit  \n",
              "0      0.00   41.9136  \n",
              "1      0.00  219.5820  \n",
              "2      0.00    6.8714  \n",
              "3      0.45 -383.0310  \n",
              "4      0.20    2.5164  \n",
              "5      0.00   14.1694  \n",
              "6      0.00    1.9656  \n",
              "7      0.20   90.7152  \n",
              "8      0.20    5.7825  \n",
              "9      0.00   34.4700  \n",
              "\n",
              "[10 rows x 21 columns]"
            ],
            "text/html": [
              "\n",
              "  <div id=\"df-02ac8842-d284-4e6a-81b6-97fedb45cee7\" class=\"colab-df-container\">\n",
              "    <div>\n",
              "<style scoped>\n",
              "    .dataframe tbody tr th:only-of-type {\n",
              "        vertical-align: middle;\n",
              "    }\n",
              "\n",
              "    .dataframe tbody tr th {\n",
              "        vertical-align: top;\n",
              "    }\n",
              "\n",
              "    .dataframe thead th {\n",
              "        text-align: right;\n",
              "    }\n",
              "</style>\n",
              "<table border=\"1\" class=\"dataframe\">\n",
              "  <thead>\n",
              "    <tr style=\"text-align: right;\">\n",
              "      <th></th>\n",
              "      <th>Row ID</th>\n",
              "      <th>Order ID</th>\n",
              "      <th>Order Date</th>\n",
              "      <th>Ship Date</th>\n",
              "      <th>Ship Mode</th>\n",
              "      <th>Customer ID</th>\n",
              "      <th>Customer Name</th>\n",
              "      <th>Segment</th>\n",
              "      <th>Country</th>\n",
              "      <th>City</th>\n",
              "      <th>...</th>\n",
              "      <th>Postal Code</th>\n",
              "      <th>Region</th>\n",
              "      <th>Product ID</th>\n",
              "      <th>Category</th>\n",
              "      <th>Sub-Category</th>\n",
              "      <th>Product Name</th>\n",
              "      <th>Sales</th>\n",
              "      <th>Quantity</th>\n",
              "      <th>Discount</th>\n",
              "      <th>Profit</th>\n",
              "    </tr>\n",
              "  </thead>\n",
              "  <tbody>\n",
              "    <tr>\n",
              "      <th>0</th>\n",
              "      <td>1</td>\n",
              "      <td>CA-2013-152156</td>\n",
              "      <td>2013-11-09</td>\n",
              "      <td>2013-11-12</td>\n",
              "      <td>Second Class</td>\n",
              "      <td>CG-12520</td>\n",
              "      <td>Claire Gute</td>\n",
              "      <td>Consumer</td>\n",
              "      <td>United States</td>\n",
              "      <td>Henderson</td>\n",
              "      <td>...</td>\n",
              "      <td>42420</td>\n",
              "      <td>South</td>\n",
              "      <td>FUR-BO-10001798</td>\n",
              "      <td>Furniture</td>\n",
              "      <td>Bookcases</td>\n",
              "      <td>Bush Somerset Collection Bookcase</td>\n",
              "      <td>261.9600</td>\n",
              "      <td>2</td>\n",
              "      <td>0.00</td>\n",
              "      <td>41.9136</td>\n",
              "    </tr>\n",
              "    <tr>\n",
              "      <th>1</th>\n",
              "      <td>2</td>\n",
              "      <td>CA-2013-152156</td>\n",
              "      <td>2013-11-09</td>\n",
              "      <td>2013-11-12</td>\n",
              "      <td>Second Class</td>\n",
              "      <td>CG-12520</td>\n",
              "      <td>Claire Gute</td>\n",
              "      <td>Consumer</td>\n",
              "      <td>United States</td>\n",
              "      <td>Henderson</td>\n",
              "      <td>...</td>\n",
              "      <td>42420</td>\n",
              "      <td>South</td>\n",
              "      <td>FUR-CH-10000454</td>\n",
              "      <td>Furniture</td>\n",
              "      <td>Chairs</td>\n",
              "      <td>Hon Deluxe Fabric Upholstered Stacking Chairs,...</td>\n",
              "      <td>731.9400</td>\n",
              "      <td>3</td>\n",
              "      <td>0.00</td>\n",
              "      <td>219.5820</td>\n",
              "    </tr>\n",
              "    <tr>\n",
              "      <th>2</th>\n",
              "      <td>3</td>\n",
              "      <td>CA-2013-138688</td>\n",
              "      <td>2013-06-13</td>\n",
              "      <td>2013-06-17</td>\n",
              "      <td>Second Class</td>\n",
              "      <td>DV-13045</td>\n",
              "      <td>Darrin Van Huff</td>\n",
              "      <td>Corporate</td>\n",
              "      <td>United States</td>\n",
              "      <td>Los Angeles</td>\n",
              "      <td>...</td>\n",
              "      <td>90036</td>\n",
              "      <td>West</td>\n",
              "      <td>OFF-LA-10000240</td>\n",
              "      <td>Office Supplies</td>\n",
              "      <td>Labels</td>\n",
              "      <td>Self-Adhesive Address Labels for Typewriters b...</td>\n",
              "      <td>14.6200</td>\n",
              "      <td>2</td>\n",
              "      <td>0.00</td>\n",
              "      <td>6.8714</td>\n",
              "    </tr>\n",
              "    <tr>\n",
              "      <th>3</th>\n",
              "      <td>4</td>\n",
              "      <td>US-2012-108966</td>\n",
              "      <td>2012-10-11</td>\n",
              "      <td>2012-10-18</td>\n",
              "      <td>Standard Class</td>\n",
              "      <td>SO-20335</td>\n",
              "      <td>Sean O'Donnell</td>\n",
              "      <td>Consumer</td>\n",
              "      <td>United States</td>\n",
              "      <td>Fort Lauderdale</td>\n",
              "      <td>...</td>\n",
              "      <td>33311</td>\n",
              "      <td>South</td>\n",
              "      <td>FUR-TA-10000577</td>\n",
              "      <td>Furniture</td>\n",
              "      <td>Tables</td>\n",
              "      <td>Bretford CR4500 Series Slim Rectangular Table</td>\n",
              "      <td>957.5775</td>\n",
              "      <td>5</td>\n",
              "      <td>0.45</td>\n",
              "      <td>-383.0310</td>\n",
              "    </tr>\n",
              "    <tr>\n",
              "      <th>4</th>\n",
              "      <td>5</td>\n",
              "      <td>US-2012-108966</td>\n",
              "      <td>2012-10-11</td>\n",
              "      <td>2012-10-18</td>\n",
              "      <td>Standard Class</td>\n",
              "      <td>SO-20335</td>\n",
              "      <td>Sean O'Donnell</td>\n",
              "      <td>Consumer</td>\n",
              "      <td>United States</td>\n",
              "      <td>Fort Lauderdale</td>\n",
              "      <td>...</td>\n",
              "      <td>33311</td>\n",
              "      <td>South</td>\n",
              "      <td>OFF-ST-10000760</td>\n",
              "      <td>Office Supplies</td>\n",
              "      <td>Storage</td>\n",
              "      <td>Eldon Fold 'N Roll Cart System</td>\n",
              "      <td>22.3680</td>\n",
              "      <td>2</td>\n",
              "      <td>0.20</td>\n",
              "      <td>2.5164</td>\n",
              "    </tr>\n",
              "    <tr>\n",
              "      <th>5</th>\n",
              "      <td>6</td>\n",
              "      <td>CA-2011-115812</td>\n",
              "      <td>2011-06-09</td>\n",
              "      <td>2011-06-14</td>\n",
              "      <td>Standard Class</td>\n",
              "      <td>BH-11710</td>\n",
              "      <td>Brosina Hoffman</td>\n",
              "      <td>Consumer</td>\n",
              "      <td>United States</td>\n",
              "      <td>Los Angeles</td>\n",
              "      <td>...</td>\n",
              "      <td>90032</td>\n",
              "      <td>West</td>\n",
              "      <td>FUR-FU-10001487</td>\n",
              "      <td>Furniture</td>\n",
              "      <td>Furnishings</td>\n",
              "      <td>Eldon Expressions Wood and Plastic Desk Access...</td>\n",
              "      <td>48.8600</td>\n",
              "      <td>7</td>\n",
              "      <td>0.00</td>\n",
              "      <td>14.1694</td>\n",
              "    </tr>\n",
              "    <tr>\n",
              "      <th>6</th>\n",
              "      <td>7</td>\n",
              "      <td>CA-2011-115812</td>\n",
              "      <td>2011-06-09</td>\n",
              "      <td>2011-06-14</td>\n",
              "      <td>Standard Class</td>\n",
              "      <td>BH-11710</td>\n",
              "      <td>Brosina Hoffman</td>\n",
              "      <td>Consumer</td>\n",
              "      <td>United States</td>\n",
              "      <td>Los Angeles</td>\n",
              "      <td>...</td>\n",
              "      <td>90032</td>\n",
              "      <td>West</td>\n",
              "      <td>OFF-AR-10002833</td>\n",
              "      <td>Office Supplies</td>\n",
              "      <td>Art</td>\n",
              "      <td>Newell 322</td>\n",
              "      <td>7.2800</td>\n",
              "      <td>4</td>\n",
              "      <td>0.00</td>\n",
              "      <td>1.9656</td>\n",
              "    </tr>\n",
              "    <tr>\n",
              "      <th>7</th>\n",
              "      <td>8</td>\n",
              "      <td>CA-2011-115812</td>\n",
              "      <td>2011-06-09</td>\n",
              "      <td>2011-06-14</td>\n",
              "      <td>Standard Class</td>\n",
              "      <td>BH-11710</td>\n",
              "      <td>Brosina Hoffman</td>\n",
              "      <td>Consumer</td>\n",
              "      <td>United States</td>\n",
              "      <td>Los Angeles</td>\n",
              "      <td>...</td>\n",
              "      <td>90032</td>\n",
              "      <td>West</td>\n",
              "      <td>TEC-PH-10002275</td>\n",
              "      <td>Technology</td>\n",
              "      <td>Phones</td>\n",
              "      <td>Mitel 5320 IP Phone VoIP phone</td>\n",
              "      <td>907.1520</td>\n",
              "      <td>6</td>\n",
              "      <td>0.20</td>\n",
              "      <td>90.7152</td>\n",
              "    </tr>\n",
              "    <tr>\n",
              "      <th>8</th>\n",
              "      <td>9</td>\n",
              "      <td>CA-2011-115812</td>\n",
              "      <td>2011-06-09</td>\n",
              "      <td>2011-06-14</td>\n",
              "      <td>Standard Class</td>\n",
              "      <td>BH-11710</td>\n",
              "      <td>Brosina Hoffman</td>\n",
              "      <td>Consumer</td>\n",
              "      <td>United States</td>\n",
              "      <td>Los Angeles</td>\n",
              "      <td>...</td>\n",
              "      <td>90032</td>\n",
              "      <td>West</td>\n",
              "      <td>OFF-BI-10003910</td>\n",
              "      <td>Office Supplies</td>\n",
              "      <td>Binders</td>\n",
              "      <td>DXL Angle-View Binders with Locking Rings by S...</td>\n",
              "      <td>18.5040</td>\n",
              "      <td>3</td>\n",
              "      <td>0.20</td>\n",
              "      <td>5.7825</td>\n",
              "    </tr>\n",
              "    <tr>\n",
              "      <th>9</th>\n",
              "      <td>10</td>\n",
              "      <td>CA-2011-115812</td>\n",
              "      <td>2011-06-09</td>\n",
              "      <td>2011-06-14</td>\n",
              "      <td>Standard Class</td>\n",
              "      <td>BH-11710</td>\n",
              "      <td>Brosina Hoffman</td>\n",
              "      <td>Consumer</td>\n",
              "      <td>United States</td>\n",
              "      <td>Los Angeles</td>\n",
              "      <td>...</td>\n",
              "      <td>90032</td>\n",
              "      <td>West</td>\n",
              "      <td>OFF-AP-10002892</td>\n",
              "      <td>Office Supplies</td>\n",
              "      <td>Appliances</td>\n",
              "      <td>Belkin F5C206VTEL 6 Outlet Surge</td>\n",
              "      <td>114.9000</td>\n",
              "      <td>5</td>\n",
              "      <td>0.00</td>\n",
              "      <td>34.4700</td>\n",
              "    </tr>\n",
              "  </tbody>\n",
              "</table>\n",
              "<p>10 rows × 21 columns</p>\n",
              "</div>\n",
              "    <div class=\"colab-df-buttons\">\n",
              "\n",
              "  <div class=\"colab-df-container\">\n",
              "    <button class=\"colab-df-convert\" onclick=\"convertToInteractive('df-02ac8842-d284-4e6a-81b6-97fedb45cee7')\"\n",
              "            title=\"Convert this dataframe to an interactive table.\"\n",
              "            style=\"display:none;\">\n",
              "\n",
              "  <svg xmlns=\"http://www.w3.org/2000/svg\" height=\"24px\" viewBox=\"0 -960 960 960\">\n",
              "    <path d=\"M120-120v-720h720v720H120Zm60-500h600v-160H180v160Zm220 220h160v-160H400v160Zm0 220h160v-160H400v160ZM180-400h160v-160H180v160Zm440 0h160v-160H620v160ZM180-180h160v-160H180v160Zm440 0h160v-160H620v160Z\"/>\n",
              "  </svg>\n",
              "    </button>\n",
              "\n",
              "  <style>\n",
              "    .colab-df-container {\n",
              "      display:flex;\n",
              "      gap: 12px;\n",
              "    }\n",
              "\n",
              "    .colab-df-convert {\n",
              "      background-color: #E8F0FE;\n",
              "      border: none;\n",
              "      border-radius: 50%;\n",
              "      cursor: pointer;\n",
              "      display: none;\n",
              "      fill: #1967D2;\n",
              "      height: 32px;\n",
              "      padding: 0 0 0 0;\n",
              "      width: 32px;\n",
              "    }\n",
              "\n",
              "    .colab-df-convert:hover {\n",
              "      background-color: #E2EBFA;\n",
              "      box-shadow: 0px 1px 2px rgba(60, 64, 67, 0.3), 0px 1px 3px 1px rgba(60, 64, 67, 0.15);\n",
              "      fill: #174EA6;\n",
              "    }\n",
              "\n",
              "    .colab-df-buttons div {\n",
              "      margin-bottom: 4px;\n",
              "    }\n",
              "\n",
              "    [theme=dark] .colab-df-convert {\n",
              "      background-color: #3B4455;\n",
              "      fill: #D2E3FC;\n",
              "    }\n",
              "\n",
              "    [theme=dark] .colab-df-convert:hover {\n",
              "      background-color: #434B5C;\n",
              "      box-shadow: 0px 1px 3px 1px rgba(0, 0, 0, 0.15);\n",
              "      filter: drop-shadow(0px 1px 2px rgba(0, 0, 0, 0.3));\n",
              "      fill: #FFFFFF;\n",
              "    }\n",
              "  </style>\n",
              "\n",
              "    <script>\n",
              "      const buttonEl =\n",
              "        document.querySelector('#df-02ac8842-d284-4e6a-81b6-97fedb45cee7 button.colab-df-convert');\n",
              "      buttonEl.style.display =\n",
              "        google.colab.kernel.accessAllowed ? 'block' : 'none';\n",
              "\n",
              "      async function convertToInteractive(key) {\n",
              "        const element = document.querySelector('#df-02ac8842-d284-4e6a-81b6-97fedb45cee7');\n",
              "        const dataTable =\n",
              "          await google.colab.kernel.invokeFunction('convertToInteractive',\n",
              "                                                    [key], {});\n",
              "        if (!dataTable) return;\n",
              "\n",
              "        const docLinkHtml = 'Like what you see? Visit the ' +\n",
              "          '<a target=\"_blank\" href=https://colab.research.google.com/notebooks/data_table.ipynb>data table notebook</a>'\n",
              "          + ' to learn more about interactive tables.';\n",
              "        element.innerHTML = '';\n",
              "        dataTable['output_type'] = 'display_data';\n",
              "        await google.colab.output.renderOutput(dataTable, element);\n",
              "        const docLink = document.createElement('div');\n",
              "        docLink.innerHTML = docLinkHtml;\n",
              "        element.appendChild(docLink);\n",
              "      }\n",
              "    </script>\n",
              "  </div>\n",
              "\n",
              "\n",
              "<div id=\"df-75e32ea2-6cf5-41f3-9904-27e5ba72d767\">\n",
              "  <button class=\"colab-df-quickchart\" onclick=\"quickchart('df-75e32ea2-6cf5-41f3-9904-27e5ba72d767')\"\n",
              "            title=\"Suggest charts\"\n",
              "            style=\"display:none;\">\n",
              "\n",
              "<svg xmlns=\"http://www.w3.org/2000/svg\" height=\"24px\"viewBox=\"0 0 24 24\"\n",
              "     width=\"24px\">\n",
              "    <g>\n",
              "        <path d=\"M19 3H5c-1.1 0-2 .9-2 2v14c0 1.1.9 2 2 2h14c1.1 0 2-.9 2-2V5c0-1.1-.9-2-2-2zM9 17H7v-7h2v7zm4 0h-2V7h2v10zm4 0h-2v-4h2v4z\"/>\n",
              "    </g>\n",
              "</svg>\n",
              "  </button>\n",
              "\n",
              "<style>\n",
              "  .colab-df-quickchart {\n",
              "      --bg-color: #E8F0FE;\n",
              "      --fill-color: #1967D2;\n",
              "      --hover-bg-color: #E2EBFA;\n",
              "      --hover-fill-color: #174EA6;\n",
              "      --disabled-fill-color: #AAA;\n",
              "      --disabled-bg-color: #DDD;\n",
              "  }\n",
              "\n",
              "  [theme=dark] .colab-df-quickchart {\n",
              "      --bg-color: #3B4455;\n",
              "      --fill-color: #D2E3FC;\n",
              "      --hover-bg-color: #434B5C;\n",
              "      --hover-fill-color: #FFFFFF;\n",
              "      --disabled-bg-color: #3B4455;\n",
              "      --disabled-fill-color: #666;\n",
              "  }\n",
              "\n",
              "  .colab-df-quickchart {\n",
              "    background-color: var(--bg-color);\n",
              "    border: none;\n",
              "    border-radius: 50%;\n",
              "    cursor: pointer;\n",
              "    display: none;\n",
              "    fill: var(--fill-color);\n",
              "    height: 32px;\n",
              "    padding: 0;\n",
              "    width: 32px;\n",
              "  }\n",
              "\n",
              "  .colab-df-quickchart:hover {\n",
              "    background-color: var(--hover-bg-color);\n",
              "    box-shadow: 0 1px 2px rgba(60, 64, 67, 0.3), 0 1px 3px 1px rgba(60, 64, 67, 0.15);\n",
              "    fill: var(--button-hover-fill-color);\n",
              "  }\n",
              "\n",
              "  .colab-df-quickchart-complete:disabled,\n",
              "  .colab-df-quickchart-complete:disabled:hover {\n",
              "    background-color: var(--disabled-bg-color);\n",
              "    fill: var(--disabled-fill-color);\n",
              "    box-shadow: none;\n",
              "  }\n",
              "\n",
              "  .colab-df-spinner {\n",
              "    border: 2px solid var(--fill-color);\n",
              "    border-color: transparent;\n",
              "    border-bottom-color: var(--fill-color);\n",
              "    animation:\n",
              "      spin 1s steps(1) infinite;\n",
              "  }\n",
              "\n",
              "  @keyframes spin {\n",
              "    0% {\n",
              "      border-color: transparent;\n",
              "      border-bottom-color: var(--fill-color);\n",
              "      border-left-color: var(--fill-color);\n",
              "    }\n",
              "    20% {\n",
              "      border-color: transparent;\n",
              "      border-left-color: var(--fill-color);\n",
              "      border-top-color: var(--fill-color);\n",
              "    }\n",
              "    30% {\n",
              "      border-color: transparent;\n",
              "      border-left-color: var(--fill-color);\n",
              "      border-top-color: var(--fill-color);\n",
              "      border-right-color: var(--fill-color);\n",
              "    }\n",
              "    40% {\n",
              "      border-color: transparent;\n",
              "      border-right-color: var(--fill-color);\n",
              "      border-top-color: var(--fill-color);\n",
              "    }\n",
              "    60% {\n",
              "      border-color: transparent;\n",
              "      border-right-color: var(--fill-color);\n",
              "    }\n",
              "    80% {\n",
              "      border-color: transparent;\n",
              "      border-right-color: var(--fill-color);\n",
              "      border-bottom-color: var(--fill-color);\n",
              "    }\n",
              "    90% {\n",
              "      border-color: transparent;\n",
              "      border-bottom-color: var(--fill-color);\n",
              "    }\n",
              "  }\n",
              "</style>\n",
              "\n",
              "  <script>\n",
              "    async function quickchart(key) {\n",
              "      const quickchartButtonEl =\n",
              "        document.querySelector('#' + key + ' button');\n",
              "      quickchartButtonEl.disabled = true;  // To prevent multiple clicks.\n",
              "      quickchartButtonEl.classList.add('colab-df-spinner');\n",
              "      try {\n",
              "        const charts = await google.colab.kernel.invokeFunction(\n",
              "            'suggestCharts', [key], {});\n",
              "      } catch (error) {\n",
              "        console.error('Error during call to suggestCharts:', error);\n",
              "      }\n",
              "      quickchartButtonEl.classList.remove('colab-df-spinner');\n",
              "      quickchartButtonEl.classList.add('colab-df-quickchart-complete');\n",
              "    }\n",
              "    (() => {\n",
              "      let quickchartButtonEl =\n",
              "        document.querySelector('#df-75e32ea2-6cf5-41f3-9904-27e5ba72d767 button');\n",
              "      quickchartButtonEl.style.display =\n",
              "        google.colab.kernel.accessAllowed ? 'block' : 'none';\n",
              "    })();\n",
              "  </script>\n",
              "</div>\n",
              "\n",
              "    </div>\n",
              "  </div>\n"
            ],
            "application/vnd.google.colaboratory.intrinsic+json": {
              "type": "dataframe",
              "variable_name": "df"
            }
          },
          "metadata": {},
          "execution_count": 20
        }
      ],
      "source": [
        "df.head(10)"
      ]
    },
    {
      "cell_type": "code",
      "execution_count": 21,
      "metadata": {
        "colab": {
          "base_uri": "https://localhost:8080/"
        },
        "id": "SstKY7kLtFMN",
        "outputId": "7ff48ce9-f12c-416f-a9a1-6e39c712fee4"
      },
      "outputs": [
        {
          "output_type": "stream",
          "name": "stdout",
          "text": [
            "<class 'pandas.core.frame.DataFrame'>\n",
            "RangeIndex: 9994 entries, 0 to 9993\n",
            "Data columns (total 21 columns):\n",
            " #   Column         Non-Null Count  Dtype         \n",
            "---  ------         --------------  -----         \n",
            " 0   Row ID         9994 non-null   int64         \n",
            " 1   Order ID       9994 non-null   object        \n",
            " 2   Order Date     9994 non-null   datetime64[ns]\n",
            " 3   Ship Date      9994 non-null   datetime64[ns]\n",
            " 4   Ship Mode      9994 non-null   object        \n",
            " 5   Customer ID    9994 non-null   object        \n",
            " 6   Customer Name  9994 non-null   object        \n",
            " 7   Segment        9994 non-null   object        \n",
            " 8   Country        9994 non-null   object        \n",
            " 9   City           9994 non-null   object        \n",
            " 10  State          9994 non-null   object        \n",
            " 11  Postal Code    9994 non-null   int64         \n",
            " 12  Region         9994 non-null   object        \n",
            " 13  Product ID     9994 non-null   object        \n",
            " 14  Category       9994 non-null   object        \n",
            " 15  Sub-Category   9994 non-null   object        \n",
            " 16  Product Name   9994 non-null   object        \n",
            " 17  Sales          9994 non-null   float64       \n",
            " 18  Quantity       9994 non-null   int64         \n",
            " 19  Discount       9994 non-null   float64       \n",
            " 20  Profit         9994 non-null   float64       \n",
            "dtypes: datetime64[ns](2), float64(3), int64(3), object(13)\n",
            "memory usage: 1.6+ MB\n"
          ]
        }
      ],
      "source": [
        "df.info()"
      ]
    },
    {
      "cell_type": "markdown",
      "metadata": {
        "id": "k7kb5xqLs9BH"
      },
      "source": [
        "###  Simplifying Time Series Data\n",
        "\n",
        "- Simplify the data by focusing only on the necessary information (order date and total sales by category) among multiple columns.\n",
        "\n",
        "- If you do not reset the index, Pandas will set the group variables as the index.\n",
        "\n",
        "The following code is an example of grouping a DataFrame 'df' by 'Order Date' and 'Category' to calculate the sum. After grouping the data by 'Order Date' and 'Category' columns, it computes the sum for each group, and then displays the top 5 rows of the grouped DataFrame using grouped_df.head()."
      ]
    },
    {
      "cell_type": "code",
      "execution_count": 22,
      "metadata": {
        "colab": {
          "base_uri": "https://localhost:8080/",
          "height": 238
        },
        "id": "gPy0AYCis-Eh",
        "outputId": "5986a1c1-9f5e-4bd0-ebdf-0c2abafba0cc"
      },
      "outputs": [
        {
          "output_type": "execute_result",
          "data": {
            "text/plain": [
              "                            Row ID  Postal Code     Sales  Quantity  Discount  \\\n",
              "Order Date Category                                                             \n",
              "2011-01-04 Office Supplies    7981        77095    16.448         2       0.2   \n",
              "2011-01-05 Office Supplies    2223       181620   288.060         8       1.2   \n",
              "2011-01-06 Office Supplies    1760        19143    19.536         3       0.2   \n",
              "2011-01-07 Furniture          7475        42420  2573.820         9       0.0   \n",
              "           Office Supplies   42423       290334   685.340        15       0.0   \n",
              "\n",
              "                              Profit  \n",
              "Order Date Category                   \n",
              "2011-01-04 Office Supplies    5.5512  \n",
              "2011-01-05 Office Supplies  -65.9901  \n",
              "2011-01-06 Office Supplies    4.8840  \n",
              "2011-01-07 Furniture        746.4078  \n",
              "           Office Supplies  293.8612  "
            ],
            "text/html": [
              "\n",
              "  <div id=\"df-86f4427d-b1c3-4225-bc19-8e1c2ff9f669\" class=\"colab-df-container\">\n",
              "    <div>\n",
              "<style scoped>\n",
              "    .dataframe tbody tr th:only-of-type {\n",
              "        vertical-align: middle;\n",
              "    }\n",
              "\n",
              "    .dataframe tbody tr th {\n",
              "        vertical-align: top;\n",
              "    }\n",
              "\n",
              "    .dataframe thead th {\n",
              "        text-align: right;\n",
              "    }\n",
              "</style>\n",
              "<table border=\"1\" class=\"dataframe\">\n",
              "  <thead>\n",
              "    <tr style=\"text-align: right;\">\n",
              "      <th></th>\n",
              "      <th></th>\n",
              "      <th>Row ID</th>\n",
              "      <th>Postal Code</th>\n",
              "      <th>Sales</th>\n",
              "      <th>Quantity</th>\n",
              "      <th>Discount</th>\n",
              "      <th>Profit</th>\n",
              "    </tr>\n",
              "    <tr>\n",
              "      <th>Order Date</th>\n",
              "      <th>Category</th>\n",
              "      <th></th>\n",
              "      <th></th>\n",
              "      <th></th>\n",
              "      <th></th>\n",
              "      <th></th>\n",
              "      <th></th>\n",
              "    </tr>\n",
              "  </thead>\n",
              "  <tbody>\n",
              "    <tr>\n",
              "      <th>2011-01-04</th>\n",
              "      <th>Office Supplies</th>\n",
              "      <td>7981</td>\n",
              "      <td>77095</td>\n",
              "      <td>16.448</td>\n",
              "      <td>2</td>\n",
              "      <td>0.2</td>\n",
              "      <td>5.5512</td>\n",
              "    </tr>\n",
              "    <tr>\n",
              "      <th>2011-01-05</th>\n",
              "      <th>Office Supplies</th>\n",
              "      <td>2223</td>\n",
              "      <td>181620</td>\n",
              "      <td>288.060</td>\n",
              "      <td>8</td>\n",
              "      <td>1.2</td>\n",
              "      <td>-65.9901</td>\n",
              "    </tr>\n",
              "    <tr>\n",
              "      <th>2011-01-06</th>\n",
              "      <th>Office Supplies</th>\n",
              "      <td>1760</td>\n",
              "      <td>19143</td>\n",
              "      <td>19.536</td>\n",
              "      <td>3</td>\n",
              "      <td>0.2</td>\n",
              "      <td>4.8840</td>\n",
              "    </tr>\n",
              "    <tr>\n",
              "      <th rowspan=\"2\" valign=\"top\">2011-01-07</th>\n",
              "      <th>Furniture</th>\n",
              "      <td>7475</td>\n",
              "      <td>42420</td>\n",
              "      <td>2573.820</td>\n",
              "      <td>9</td>\n",
              "      <td>0.0</td>\n",
              "      <td>746.4078</td>\n",
              "    </tr>\n",
              "    <tr>\n",
              "      <th>Office Supplies</th>\n",
              "      <td>42423</td>\n",
              "      <td>290334</td>\n",
              "      <td>685.340</td>\n",
              "      <td>15</td>\n",
              "      <td>0.0</td>\n",
              "      <td>293.8612</td>\n",
              "    </tr>\n",
              "  </tbody>\n",
              "</table>\n",
              "</div>\n",
              "    <div class=\"colab-df-buttons\">\n",
              "\n",
              "  <div class=\"colab-df-container\">\n",
              "    <button class=\"colab-df-convert\" onclick=\"convertToInteractive('df-86f4427d-b1c3-4225-bc19-8e1c2ff9f669')\"\n",
              "            title=\"Convert this dataframe to an interactive table.\"\n",
              "            style=\"display:none;\">\n",
              "\n",
              "  <svg xmlns=\"http://www.w3.org/2000/svg\" height=\"24px\" viewBox=\"0 -960 960 960\">\n",
              "    <path d=\"M120-120v-720h720v720H120Zm60-500h600v-160H180v160Zm220 220h160v-160H400v160Zm0 220h160v-160H400v160ZM180-400h160v-160H180v160Zm440 0h160v-160H620v160ZM180-180h160v-160H180v160Zm440 0h160v-160H620v160Z\"/>\n",
              "  </svg>\n",
              "    </button>\n",
              "\n",
              "  <style>\n",
              "    .colab-df-container {\n",
              "      display:flex;\n",
              "      gap: 12px;\n",
              "    }\n",
              "\n",
              "    .colab-df-convert {\n",
              "      background-color: #E8F0FE;\n",
              "      border: none;\n",
              "      border-radius: 50%;\n",
              "      cursor: pointer;\n",
              "      display: none;\n",
              "      fill: #1967D2;\n",
              "      height: 32px;\n",
              "      padding: 0 0 0 0;\n",
              "      width: 32px;\n",
              "    }\n",
              "\n",
              "    .colab-df-convert:hover {\n",
              "      background-color: #E2EBFA;\n",
              "      box-shadow: 0px 1px 2px rgba(60, 64, 67, 0.3), 0px 1px 3px 1px rgba(60, 64, 67, 0.15);\n",
              "      fill: #174EA6;\n",
              "    }\n",
              "\n",
              "    .colab-df-buttons div {\n",
              "      margin-bottom: 4px;\n",
              "    }\n",
              "\n",
              "    [theme=dark] .colab-df-convert {\n",
              "      background-color: #3B4455;\n",
              "      fill: #D2E3FC;\n",
              "    }\n",
              "\n",
              "    [theme=dark] .colab-df-convert:hover {\n",
              "      background-color: #434B5C;\n",
              "      box-shadow: 0px 1px 3px 1px rgba(0, 0, 0, 0.15);\n",
              "      filter: drop-shadow(0px 1px 2px rgba(0, 0, 0, 0.3));\n",
              "      fill: #FFFFFF;\n",
              "    }\n",
              "  </style>\n",
              "\n",
              "    <script>\n",
              "      const buttonEl =\n",
              "        document.querySelector('#df-86f4427d-b1c3-4225-bc19-8e1c2ff9f669 button.colab-df-convert');\n",
              "      buttonEl.style.display =\n",
              "        google.colab.kernel.accessAllowed ? 'block' : 'none';\n",
              "\n",
              "      async function convertToInteractive(key) {\n",
              "        const element = document.querySelector('#df-86f4427d-b1c3-4225-bc19-8e1c2ff9f669');\n",
              "        const dataTable =\n",
              "          await google.colab.kernel.invokeFunction('convertToInteractive',\n",
              "                                                    [key], {});\n",
              "        if (!dataTable) return;\n",
              "\n",
              "        const docLinkHtml = 'Like what you see? Visit the ' +\n",
              "          '<a target=\"_blank\" href=https://colab.research.google.com/notebooks/data_table.ipynb>data table notebook</a>'\n",
              "          + ' to learn more about interactive tables.';\n",
              "        element.innerHTML = '';\n",
              "        dataTable['output_type'] = 'display_data';\n",
              "        await google.colab.output.renderOutput(dataTable, element);\n",
              "        const docLink = document.createElement('div');\n",
              "        docLink.innerHTML = docLinkHtml;\n",
              "        element.appendChild(docLink);\n",
              "      }\n",
              "    </script>\n",
              "  </div>\n",
              "\n",
              "\n",
              "<div id=\"df-4ce6672e-1b76-4d84-a413-ecccfb9e0adb\">\n",
              "  <button class=\"colab-df-quickchart\" onclick=\"quickchart('df-4ce6672e-1b76-4d84-a413-ecccfb9e0adb')\"\n",
              "            title=\"Suggest charts\"\n",
              "            style=\"display:none;\">\n",
              "\n",
              "<svg xmlns=\"http://www.w3.org/2000/svg\" height=\"24px\"viewBox=\"0 0 24 24\"\n",
              "     width=\"24px\">\n",
              "    <g>\n",
              "        <path d=\"M19 3H5c-1.1 0-2 .9-2 2v14c0 1.1.9 2 2 2h14c1.1 0 2-.9 2-2V5c0-1.1-.9-2-2-2zM9 17H7v-7h2v7zm4 0h-2V7h2v10zm4 0h-2v-4h2v4z\"/>\n",
              "    </g>\n",
              "</svg>\n",
              "  </button>\n",
              "\n",
              "<style>\n",
              "  .colab-df-quickchart {\n",
              "      --bg-color: #E8F0FE;\n",
              "      --fill-color: #1967D2;\n",
              "      --hover-bg-color: #E2EBFA;\n",
              "      --hover-fill-color: #174EA6;\n",
              "      --disabled-fill-color: #AAA;\n",
              "      --disabled-bg-color: #DDD;\n",
              "  }\n",
              "\n",
              "  [theme=dark] .colab-df-quickchart {\n",
              "      --bg-color: #3B4455;\n",
              "      --fill-color: #D2E3FC;\n",
              "      --hover-bg-color: #434B5C;\n",
              "      --hover-fill-color: #FFFFFF;\n",
              "      --disabled-bg-color: #3B4455;\n",
              "      --disabled-fill-color: #666;\n",
              "  }\n",
              "\n",
              "  .colab-df-quickchart {\n",
              "    background-color: var(--bg-color);\n",
              "    border: none;\n",
              "    border-radius: 50%;\n",
              "    cursor: pointer;\n",
              "    display: none;\n",
              "    fill: var(--fill-color);\n",
              "    height: 32px;\n",
              "    padding: 0;\n",
              "    width: 32px;\n",
              "  }\n",
              "\n",
              "  .colab-df-quickchart:hover {\n",
              "    background-color: var(--hover-bg-color);\n",
              "    box-shadow: 0 1px 2px rgba(60, 64, 67, 0.3), 0 1px 3px 1px rgba(60, 64, 67, 0.15);\n",
              "    fill: var(--button-hover-fill-color);\n",
              "  }\n",
              "\n",
              "  .colab-df-quickchart-complete:disabled,\n",
              "  .colab-df-quickchart-complete:disabled:hover {\n",
              "    background-color: var(--disabled-bg-color);\n",
              "    fill: var(--disabled-fill-color);\n",
              "    box-shadow: none;\n",
              "  }\n",
              "\n",
              "  .colab-df-spinner {\n",
              "    border: 2px solid var(--fill-color);\n",
              "    border-color: transparent;\n",
              "    border-bottom-color: var(--fill-color);\n",
              "    animation:\n",
              "      spin 1s steps(1) infinite;\n",
              "  }\n",
              "\n",
              "  @keyframes spin {\n",
              "    0% {\n",
              "      border-color: transparent;\n",
              "      border-bottom-color: var(--fill-color);\n",
              "      border-left-color: var(--fill-color);\n",
              "    }\n",
              "    20% {\n",
              "      border-color: transparent;\n",
              "      border-left-color: var(--fill-color);\n",
              "      border-top-color: var(--fill-color);\n",
              "    }\n",
              "    30% {\n",
              "      border-color: transparent;\n",
              "      border-left-color: var(--fill-color);\n",
              "      border-top-color: var(--fill-color);\n",
              "      border-right-color: var(--fill-color);\n",
              "    }\n",
              "    40% {\n",
              "      border-color: transparent;\n",
              "      border-right-color: var(--fill-color);\n",
              "      border-top-color: var(--fill-color);\n",
              "    }\n",
              "    60% {\n",
              "      border-color: transparent;\n",
              "      border-right-color: var(--fill-color);\n",
              "    }\n",
              "    80% {\n",
              "      border-color: transparent;\n",
              "      border-right-color: var(--fill-color);\n",
              "      border-bottom-color: var(--fill-color);\n",
              "    }\n",
              "    90% {\n",
              "      border-color: transparent;\n",
              "      border-bottom-color: var(--fill-color);\n",
              "    }\n",
              "  }\n",
              "</style>\n",
              "\n",
              "  <script>\n",
              "    async function quickchart(key) {\n",
              "      const quickchartButtonEl =\n",
              "        document.querySelector('#' + key + ' button');\n",
              "      quickchartButtonEl.disabled = true;  // To prevent multiple clicks.\n",
              "      quickchartButtonEl.classList.add('colab-df-spinner');\n",
              "      try {\n",
              "        const charts = await google.colab.kernel.invokeFunction(\n",
              "            'suggestCharts', [key], {});\n",
              "      } catch (error) {\n",
              "        console.error('Error during call to suggestCharts:', error);\n",
              "      }\n",
              "      quickchartButtonEl.classList.remove('colab-df-spinner');\n",
              "      quickchartButtonEl.classList.add('colab-df-quickchart-complete');\n",
              "    }\n",
              "    (() => {\n",
              "      let quickchartButtonEl =\n",
              "        document.querySelector('#df-4ce6672e-1b76-4d84-a413-ecccfb9e0adb button');\n",
              "      quickchartButtonEl.style.display =\n",
              "        google.colab.kernel.accessAllowed ? 'block' : 'none';\n",
              "    })();\n",
              "  </script>\n",
              "</div>\n",
              "\n",
              "    </div>\n",
              "  </div>\n"
            ],
            "application/vnd.google.colaboratory.intrinsic+json": {
              "type": "dataframe",
              "summary": "{\n  \"name\": \"# grouped_df\",\n  \"rows\": 5,\n  \"fields\": [\n    {\n      \"column\": \"Row ID\",\n      \"properties\": {\n        \"dtype\": \"number\",\n        \"std\": 17043,\n        \"min\": 1760,\n        \"max\": 42423,\n        \"num_unique_values\": 5,\n        \"samples\": [\n          2223,\n          42423,\n          1760\n        ],\n        \"semantic_type\": \"\",\n        \"description\": \"\"\n      }\n    },\n    {\n      \"column\": \"Postal Code\",\n      \"properties\": {\n        \"dtype\": \"number\",\n        \"std\": 112716,\n        \"min\": 19143,\n        \"max\": 290334,\n        \"num_unique_values\": 5,\n        \"samples\": [\n          181620,\n          290334,\n          19143\n        ],\n        \"semantic_type\": \"\",\n        \"description\": \"\"\n      }\n    },\n    {\n      \"column\": \"Sales\",\n      \"properties\": {\n        \"dtype\": \"number\",\n        \"std\": 1073.545630431795,\n        \"min\": 16.448,\n        \"max\": 2573.82,\n        \"num_unique_values\": 5,\n        \"samples\": [\n          288.06,\n          685.34,\n          19.536\n        ],\n        \"semantic_type\": \"\",\n        \"description\": \"\"\n      }\n    },\n    {\n      \"column\": \"Quantity\",\n      \"properties\": {\n        \"dtype\": \"number\",\n        \"std\": 5,\n        \"min\": 2,\n        \"max\": 15,\n        \"num_unique_values\": 5,\n        \"samples\": [\n          8,\n          15,\n          3\n        ],\n        \"semantic_type\": \"\",\n        \"description\": \"\"\n      }\n    },\n    {\n      \"column\": \"Discount\",\n      \"properties\": {\n        \"dtype\": \"number\",\n        \"std\": 0.5019960159204454,\n        \"min\": 0.0,\n        \"max\": 1.2000000000000002,\n        \"num_unique_values\": 3,\n        \"samples\": [\n          0.2,\n          1.2000000000000002,\n          0.0\n        ],\n        \"semantic_type\": \"\",\n        \"description\": \"\"\n      }\n    },\n    {\n      \"column\": \"Profit\",\n      \"properties\": {\n        \"dtype\": \"number\",\n        \"std\": 336.88128457735957,\n        \"min\": -65.99010000000001,\n        \"max\": 746.4077999999997,\n        \"num_unique_values\": 5,\n        \"samples\": [\n          -65.99010000000001,\n          293.8612,\n          4.884\n        ],\n        \"semantic_type\": \"\",\n        \"description\": \"\"\n      }\n    }\n  ]\n}"
            }
          },
          "metadata": {},
          "execution_count": 22
        }
      ],
      "source": [
        "'''\n",
        "데이터 단순화: 필요한 열만 남기고 불필요한 열을 제거합니다.\n",
        "그룹화: 특정 열('Order Date'와 'Category')을 기준으로 데이터를 그룹화합니다.\n",
        "집계: 그룹화된 데이터에 대해 'Total Sales'의 합계를 계산합니다.\n",
        "결과 확인: 상위 5개 행을 출력하여 결과를 미리 확인합니다.\n",
        "\n",
        "'''\n",
        "\n",
        "group_variables =  ['Order Date', 'Category']\n",
        "\n",
        "#데이터프레임 df를 'Order Date'와 'Category' 열을 기준으로 그룹화. 같은 'Order Date'와 'Category' 값을 가진 행들이 그룹으로 묶임.\n",
        "grouped_df = df.groupby(group_variables).sum(numeric_only=True)\n",
        "\n",
        "#.sum(numeric_only=True): 그룹화된 각 그룹에 대해 모든 숫자형 열의 합계를 계산\n",
        "#numeric_only=True는 숫자형 열에 대해서만 합계를 계산하도록 지정\n",
        "\n",
        "grouped_df.head()\n",
        "\n",
        "# grouped_df.index()하면 데이터타입이 어떻게 나올까?"
      ]
    },
    {
      "cell_type": "code",
      "execution_count": 23,
      "metadata": {
        "colab": {
          "base_uri": "https://localhost:8080/"
        },
        "id": "HL02sIZ1DOqc",
        "outputId": "9d78cd5d-916b-44bf-dc6f-6e4a84f938b1"
      },
      "outputs": [
        {
          "output_type": "stream",
          "name": "stdout",
          "text": [
            "Columns of the grouped DataFrame: Index(['Row ID', 'Postal Code', 'Sales', 'Quantity', 'Discount', 'Profit'], dtype='object')\n",
            "Index of the grouped DataFrame: MultiIndex([('2011-01-04', 'Office Supplies'),\n",
            "            ('2011-01-05', 'Office Supplies'),\n",
            "            ('2011-01-06', 'Office Supplies'),\n",
            "            ('2011-01-07',       'Furniture'),\n",
            "            ('2011-01-07', 'Office Supplies'),\n",
            "            ('2011-01-07',      'Technology'),\n",
            "            ('2011-01-08',       'Furniture'),\n",
            "            ('2011-01-08', 'Office Supplies'),\n",
            "            ('2011-01-10', 'Office Supplies'),\n",
            "            ('2011-01-10',      'Technology'),\n",
            "            ...\n",
            "            ('2014-12-28',      'Technology'),\n",
            "            ('2014-12-29',       'Furniture'),\n",
            "            ('2014-12-29', 'Office Supplies'),\n",
            "            ('2014-12-29',      'Technology'),\n",
            "            ('2014-12-30',       'Furniture'),\n",
            "            ('2014-12-30', 'Office Supplies'),\n",
            "            ('2014-12-30',      'Technology'),\n",
            "            ('2014-12-31',       'Furniture'),\n",
            "            ('2014-12-31', 'Office Supplies'),\n",
            "            ('2014-12-31',      'Technology')],\n",
            "           names=['Order Date', 'Category'], length=2864)\n"
          ]
        }
      ],
      "source": [
        "print(\"Columns of the grouped DataFrame:\", grouped_df.columns)\n",
        "print(\"Index of the grouped DataFrame:\", grouped_df.index)"
      ]
    },
    {
      "cell_type": "markdown",
      "metadata": {
        "id": "-XwGxAbxtPPS"
      },
      "source": [
        "The following code is an example of grouping the DataFrame 'df' by 'Order Date' and 'Category' and then calculating the sum of the 'Sales' column after resetting the index."
      ]
    },
    {
      "cell_type": "code",
      "execution_count": 24,
      "metadata": {
        "colab": {
          "base_uri": "https://localhost:8080/",
          "height": 54
        },
        "id": "DChFnKZYs43x",
        "outputId": "80f72ee9-1d27-4cef-c54a-910069387051"
      },
      "outputs": [
        {
          "output_type": "execute_result",
          "data": {
            "text/plain": [
              "\"\\n['Sales']: 그룹화된 데이터 중 'Sales' 열만 선택\\n.sum(): 각 그룹에 대해 'Sales' 열의 합계를 계산\\n.reset_index(): 그룹화 후 자동으로 설정된 인덱스를 기본 인덱스로 되돌리고, 'Order Date'와 'Category' 열을 일반 열로 변환.\\n그룹화된 변수들이 인덱스에 있으면 불편할 수 있으므로 이를 다시 일반 열로 설정.\\n\""
            ],
            "application/vnd.google.colaboratory.intrinsic+json": {
              "type": "string"
            }
          },
          "metadata": {},
          "execution_count": 24
        }
      ],
      "source": [
        "sales = df.groupby(group_variables)['Sales'].sum().reset_index()\n",
        "sales.head()\n",
        "\n",
        "grouped_df.head()\n",
        "'''\n",
        "['Sales']: 그룹화된 데이터 중 'Sales' 열만 선택\n",
        ".sum(): 각 그룹에 대해 'Sales' 열의 합계를 계산\n",
        ".reset_index(): 그룹화 후 자동으로 설정된 인덱스를 기본 인덱스로 되돌리고, 'Order Date'와 'Category' 열을 일반 열로 변환.\n",
        "그룹화된 변수들이 인덱스에 있으면 불편할 수 있으므로 이를 다시 일반 열로 설정.\n",
        "'''"
      ]
    },
    {
      "cell_type": "code",
      "execution_count": 25,
      "metadata": {
        "colab": {
          "base_uri": "https://localhost:8080/"
        },
        "id": "gyGmOn0KtUtA",
        "outputId": "35650354-b332-4f86-d52f-09fe78964cb4"
      },
      "outputs": [
        {
          "output_type": "stream",
          "name": "stdout",
          "text": [
            "Columns of the sales DataFrame: Index(['Order Date', 'Category', 'Sales'], dtype='object')\n",
            "Index of the sales DataFrame: RangeIndex(start=0, stop=2864, step=1)\n"
          ]
        }
      ],
      "source": [
        "print(\"Columns of the sales DataFrame:\", sales.columns)\n",
        "print(\"Index of the sales DataFrame:\", sales.index)"
      ]
    },
    {
      "cell_type": "markdown",
      "metadata": {
        "id": "vrDPuKziuHh4"
      },
      "source": [
        "### Numpy datetime64 Format\n",
        "\n",
        "NumPy date arrays are datetime64 objects in nanosecond (ns) units.\n",
        "\n",
        "The internal storage unit is automatically chosen from the string format and can be a date unit or a time unit. Date units include year ('Y'), month ('M'), week ('W'), day ('D'), and time units include hour ('h'), minute ('m'), second ('s'), millisecond ('ms')."
      ]
    },
    {
      "cell_type": "code",
      "execution_count": 26,
      "metadata": {
        "colab": {
          "base_uri": "https://localhost:8080/"
        },
        "id": "hFroK_FquKoM",
        "outputId": "ee8e573d-55b8-4778-ae6b-f9c4c81ce2d0"
      },
      "outputs": [
        {
          "output_type": "execute_result",
          "data": {
            "text/plain": [
              "array(['2011-01-04T00:00:00.000000000', '2011-01-05T00:00:00.000000000',\n",
              "       '2011-01-06T00:00:00.000000000', ...,\n",
              "       '2014-12-31T00:00:00.000000000', '2014-12-31T00:00:00.000000000',\n",
              "       '2014-12-31T00:00:00.000000000'], dtype='datetime64[ns]')"
            ]
          },
          "metadata": {},
          "execution_count": 26
        }
      ],
      "source": [
        "\n",
        "#datetime64 객체는 날짜와 시간을 나노초 단위로 저장하며, 문자열 형식에 따라 자동으로 적절한 단위가 선택되어 저장됩니다.\n",
        "'''\n",
        "sales['Order Date']: 데이터프레임 sales에서 'Order Date' 열을 선택합니다.\n",
        ".values: Pandas 시리즈(열) 데이터를 NumPy 배열로 변환합니다. 이 작업은 Pandas 객체를 NumPy 배열로 변환하는 역할을 합니다.\n",
        "'''\n",
        "order_date = sales['Order Date'].values\n",
        "order_date"
      ]
    },
    {
      "cell_type": "markdown",
      "metadata": {
        "id": "R7dAeomguNl2"
      },
      "source": [
        "The following code converts the 'order_date' array to the 'datetime64[D]' type to store the dates in day units."
      ]
    },
    {
      "cell_type": "code",
      "execution_count": 27,
      "metadata": {
        "colab": {
          "base_uri": "https://localhost:8080/"
        },
        "id": "1c8Kq-ncuRUK",
        "outputId": "0e8b1fb1-0871-45c9-b178-257b7cd4ed5b"
      },
      "outputs": [
        {
          "output_type": "execute_result",
          "data": {
            "text/plain": [
              "array(['2011-01-04', '2011-01-05', '2011-01-06', ..., '2014-12-31',\n",
              "       '2014-12-31', '2014-12-31'], dtype='datetime64[D]')"
            ]
          },
          "metadata": {},
          "execution_count": 27
        }
      ],
      "source": [
        "order_date_daily = np.array(order_date, dtype='datetime64[D]')\n",
        "order_date_daily"
      ]
    },
    {
      "cell_type": "markdown",
      "metadata": {
        "id": "dU1T2KUYuUC2"
      },
      "source": [
        "The following code converts the 'order_date' array to the 'datetime64[M]' type to store the dates in month units."
      ]
    },
    {
      "cell_type": "code",
      "execution_count": 28,
      "metadata": {
        "colab": {
          "base_uri": "https://localhost:8080/"
        },
        "id": "9g4rwUiUuXW7",
        "outputId": "ea6fcd86-fc2d-4c77-a5a2-d39ac3def58e"
      },
      "outputs": [
        {
          "output_type": "execute_result",
          "data": {
            "text/plain": [
              "array(['2011-01', '2011-01', '2011-01', ..., '2014-12', '2014-12',\n",
              "       '2014-12'], dtype='datetime64[M]')"
            ]
          },
          "metadata": {},
          "execution_count": 28
        }
      ],
      "source": [
        "order_date_monthly = np.array(order_date, dtype='datetime64[M]')\n",
        "order_date_monthly"
      ]
    },
    {
      "cell_type": "markdown",
      "metadata": {
        "id": "iOR0XyRNuaLF"
      },
      "source": [
        "The following code extracts unique month units from the 'order_date_monthly' array."
      ]
    },
    {
      "cell_type": "code",
      "execution_count": 29,
      "metadata": {
        "colab": {
          "base_uri": "https://localhost:8080/"
        },
        "id": "r-b0vEbnucIE",
        "outputId": "00e285a1-cabb-4ef3-b2e2-a79b6405da77"
      },
      "outputs": [
        {
          "output_type": "execute_result",
          "data": {
            "text/plain": [
              "array(['2011-01', '2011-02', '2011-03', '2011-04', '2011-05', '2011-06',\n",
              "       '2011-07', '2011-08', '2011-09', '2011-10', '2011-11', '2011-12',\n",
              "       '2012-01', '2012-02', '2012-03', '2012-04', '2012-05', '2012-06',\n",
              "       '2012-07', '2012-08', '2012-09', '2012-10', '2012-11', '2012-12',\n",
              "       '2013-01', '2013-02', '2013-03', '2013-04', '2013-05', '2013-06',\n",
              "       '2013-07', '2013-08', '2013-09', '2013-10', '2013-11', '2013-12',\n",
              "       '2014-01', '2014-02', '2014-03', '2014-04', '2014-05', '2014-06',\n",
              "       '2014-07', '2014-08', '2014-09', '2014-10', '2014-11', '2014-12'],\n",
              "      dtype='datetime64[M]')"
            ]
          },
          "metadata": {},
          "execution_count": 29
        }
      ],
      "source": [
        "np.unique(order_date_monthly)"
      ]
    },
    {
      "cell_type": "markdown",
      "metadata": {
        "id": "57NlNJJfufhh"
      },
      "source": [
        "The following code converts the 'order_date' array to the 'datetime64[Y]' type to store the dates in year units and then extracts the unique years."
      ]
    },
    {
      "cell_type": "code",
      "execution_count": 30,
      "metadata": {
        "colab": {
          "base_uri": "https://localhost:8080/"
        },
        "id": "hJTRcgSNukQt",
        "outputId": "04637ef6-2fc4-4d52-ec89-093e1f9e90e4"
      },
      "outputs": [
        {
          "output_type": "execute_result",
          "data": {
            "text/plain": [
              "array(['2011', '2012', '2013', '2014'], dtype='datetime64[Y]')"
            ]
          },
          "metadata": {},
          "execution_count": 30
        }
      ],
      "source": [
        "np.unique(np.array(order_date, dtype='datetime64[Y]'))"
      ]
    },
    {
      "cell_type": "markdown",
      "metadata": {
        "id": "eFV6paRsuuIY"
      },
      "source": [
        "## Creating and Handling Time Series Data with Pandas DateTimeIndex\n",
        "\n",
        "- Data indexed by Timestamp is called TimeSeries data, meaning data indexed by DatetimeIndex.\n",
        "\n",
        "- Time series related classes and creation methods:\n",
        "\n",
        "| class         |           Description          |                               Creation Method |Pandas Class|\n",
        "|---------------|:-----------------------:|---------------------------------------:|------------:|\n",
        "| Timestamp     |     One timestamp    |                 to_datetime, Timestamp |pandas.Timestamp|\n",
        "| DatetimeIndex | Index of timestamp type | to_datetime, date_range, DatetimeIndex |pandas.DatetimeIndex|\n",
        "| Period        |       time period       |                                 Period |pandas.Period|"
      ]
    },
    {
      "cell_type": "markdown",
      "metadata": {
        "id": "Y13Em7mrxTN-"
      },
      "source": [
        "The following code creates a DataFrame with a random array of size (12, 4) following a standard normal distribution and names the columns 'n1', 'n2', 'n3', 'n4'."
      ]
    },
    {
      "cell_type": "code",
      "execution_count": 31,
      "metadata": {
        "colab": {
          "base_uri": "https://localhost:8080/",
          "height": 206
        },
        "id": "hl2zE0YWuieu",
        "outputId": "22cf7cbc-a39a-4e11-e179-1c8dcce3943d"
      },
      "outputs": [
        {
          "output_type": "execute_result",
          "data": {
            "text/plain": [
              "         n1        n2        n3        n4\n",
              "0 -0.422699 -1.866502 -0.655592 -0.395105\n",
              "1  0.694796  1.871213  0.345138  1.239650\n",
              "2  0.813345 -0.269213  1.089390  0.303296\n",
              "3 -1.424476 -1.050831 -2.332802  0.329385\n",
              "4  0.831022 -0.635015  1.185489 -0.483321"
            ],
            "text/html": [
              "\n",
              "  <div id=\"df-684835e0-8ea8-4c31-b074-ee0f58728e22\" class=\"colab-df-container\">\n",
              "    <div>\n",
              "<style scoped>\n",
              "    .dataframe tbody tr th:only-of-type {\n",
              "        vertical-align: middle;\n",
              "    }\n",
              "\n",
              "    .dataframe tbody tr th {\n",
              "        vertical-align: top;\n",
              "    }\n",
              "\n",
              "    .dataframe thead th {\n",
              "        text-align: right;\n",
              "    }\n",
              "</style>\n",
              "<table border=\"1\" class=\"dataframe\">\n",
              "  <thead>\n",
              "    <tr style=\"text-align: right;\">\n",
              "      <th></th>\n",
              "      <th>n1</th>\n",
              "      <th>n2</th>\n",
              "      <th>n3</th>\n",
              "      <th>n4</th>\n",
              "    </tr>\n",
              "  </thead>\n",
              "  <tbody>\n",
              "    <tr>\n",
              "      <th>0</th>\n",
              "      <td>-0.422699</td>\n",
              "      <td>-1.866502</td>\n",
              "      <td>-0.655592</td>\n",
              "      <td>-0.395105</td>\n",
              "    </tr>\n",
              "    <tr>\n",
              "      <th>1</th>\n",
              "      <td>0.694796</td>\n",
              "      <td>1.871213</td>\n",
              "      <td>0.345138</td>\n",
              "      <td>1.239650</td>\n",
              "    </tr>\n",
              "    <tr>\n",
              "      <th>2</th>\n",
              "      <td>0.813345</td>\n",
              "      <td>-0.269213</td>\n",
              "      <td>1.089390</td>\n",
              "      <td>0.303296</td>\n",
              "    </tr>\n",
              "    <tr>\n",
              "      <th>3</th>\n",
              "      <td>-1.424476</td>\n",
              "      <td>-1.050831</td>\n",
              "      <td>-2.332802</td>\n",
              "      <td>0.329385</td>\n",
              "    </tr>\n",
              "    <tr>\n",
              "      <th>4</th>\n",
              "      <td>0.831022</td>\n",
              "      <td>-0.635015</td>\n",
              "      <td>1.185489</td>\n",
              "      <td>-0.483321</td>\n",
              "    </tr>\n",
              "  </tbody>\n",
              "</table>\n",
              "</div>\n",
              "    <div class=\"colab-df-buttons\">\n",
              "\n",
              "  <div class=\"colab-df-container\">\n",
              "    <button class=\"colab-df-convert\" onclick=\"convertToInteractive('df-684835e0-8ea8-4c31-b074-ee0f58728e22')\"\n",
              "            title=\"Convert this dataframe to an interactive table.\"\n",
              "            style=\"display:none;\">\n",
              "\n",
              "  <svg xmlns=\"http://www.w3.org/2000/svg\" height=\"24px\" viewBox=\"0 -960 960 960\">\n",
              "    <path d=\"M120-120v-720h720v720H120Zm60-500h600v-160H180v160Zm220 220h160v-160H400v160Zm0 220h160v-160H400v160ZM180-400h160v-160H180v160Zm440 0h160v-160H620v160ZM180-180h160v-160H180v160Zm440 0h160v-160H620v160Z\"/>\n",
              "  </svg>\n",
              "    </button>\n",
              "\n",
              "  <style>\n",
              "    .colab-df-container {\n",
              "      display:flex;\n",
              "      gap: 12px;\n",
              "    }\n",
              "\n",
              "    .colab-df-convert {\n",
              "      background-color: #E8F0FE;\n",
              "      border: none;\n",
              "      border-radius: 50%;\n",
              "      cursor: pointer;\n",
              "      display: none;\n",
              "      fill: #1967D2;\n",
              "      height: 32px;\n",
              "      padding: 0 0 0 0;\n",
              "      width: 32px;\n",
              "    }\n",
              "\n",
              "    .colab-df-convert:hover {\n",
              "      background-color: #E2EBFA;\n",
              "      box-shadow: 0px 1px 2px rgba(60, 64, 67, 0.3), 0px 1px 3px 1px rgba(60, 64, 67, 0.15);\n",
              "      fill: #174EA6;\n",
              "    }\n",
              "\n",
              "    .colab-df-buttons div {\n",
              "      margin-bottom: 4px;\n",
              "    }\n",
              "\n",
              "    [theme=dark] .colab-df-convert {\n",
              "      background-color: #3B4455;\n",
              "      fill: #D2E3FC;\n",
              "    }\n",
              "\n",
              "    [theme=dark] .colab-df-convert:hover {\n",
              "      background-color: #434B5C;\n",
              "      box-shadow: 0px 1px 3px 1px rgba(0, 0, 0, 0.15);\n",
              "      filter: drop-shadow(0px 1px 2px rgba(0, 0, 0, 0.3));\n",
              "      fill: #FFFFFF;\n",
              "    }\n",
              "  </style>\n",
              "\n",
              "    <script>\n",
              "      const buttonEl =\n",
              "        document.querySelector('#df-684835e0-8ea8-4c31-b074-ee0f58728e22 button.colab-df-convert');\n",
              "      buttonEl.style.display =\n",
              "        google.colab.kernel.accessAllowed ? 'block' : 'none';\n",
              "\n",
              "      async function convertToInteractive(key) {\n",
              "        const element = document.querySelector('#df-684835e0-8ea8-4c31-b074-ee0f58728e22');\n",
              "        const dataTable =\n",
              "          await google.colab.kernel.invokeFunction('convertToInteractive',\n",
              "                                                    [key], {});\n",
              "        if (!dataTable) return;\n",
              "\n",
              "        const docLinkHtml = 'Like what you see? Visit the ' +\n",
              "          '<a target=\"_blank\" href=https://colab.research.google.com/notebooks/data_table.ipynb>data table notebook</a>'\n",
              "          + ' to learn more about interactive tables.';\n",
              "        element.innerHTML = '';\n",
              "        dataTable['output_type'] = 'display_data';\n",
              "        await google.colab.output.renderOutput(dataTable, element);\n",
              "        const docLink = document.createElement('div');\n",
              "        docLink.innerHTML = docLinkHtml;\n",
              "        element.appendChild(docLink);\n",
              "      }\n",
              "    </script>\n",
              "  </div>\n",
              "\n",
              "\n",
              "<div id=\"df-8bbe40f5-58f6-49aa-b0c8-2cf116d8e267\">\n",
              "  <button class=\"colab-df-quickchart\" onclick=\"quickchart('df-8bbe40f5-58f6-49aa-b0c8-2cf116d8e267')\"\n",
              "            title=\"Suggest charts\"\n",
              "            style=\"display:none;\">\n",
              "\n",
              "<svg xmlns=\"http://www.w3.org/2000/svg\" height=\"24px\"viewBox=\"0 0 24 24\"\n",
              "     width=\"24px\">\n",
              "    <g>\n",
              "        <path d=\"M19 3H5c-1.1 0-2 .9-2 2v14c0 1.1.9 2 2 2h14c1.1 0 2-.9 2-2V5c0-1.1-.9-2-2-2zM9 17H7v-7h2v7zm4 0h-2V7h2v10zm4 0h-2v-4h2v4z\"/>\n",
              "    </g>\n",
              "</svg>\n",
              "  </button>\n",
              "\n",
              "<style>\n",
              "  .colab-df-quickchart {\n",
              "      --bg-color: #E8F0FE;\n",
              "      --fill-color: #1967D2;\n",
              "      --hover-bg-color: #E2EBFA;\n",
              "      --hover-fill-color: #174EA6;\n",
              "      --disabled-fill-color: #AAA;\n",
              "      --disabled-bg-color: #DDD;\n",
              "  }\n",
              "\n",
              "  [theme=dark] .colab-df-quickchart {\n",
              "      --bg-color: #3B4455;\n",
              "      --fill-color: #D2E3FC;\n",
              "      --hover-bg-color: #434B5C;\n",
              "      --hover-fill-color: #FFFFFF;\n",
              "      --disabled-bg-color: #3B4455;\n",
              "      --disabled-fill-color: #666;\n",
              "  }\n",
              "\n",
              "  .colab-df-quickchart {\n",
              "    background-color: var(--bg-color);\n",
              "    border: none;\n",
              "    border-radius: 50%;\n",
              "    cursor: pointer;\n",
              "    display: none;\n",
              "    fill: var(--fill-color);\n",
              "    height: 32px;\n",
              "    padding: 0;\n",
              "    width: 32px;\n",
              "  }\n",
              "\n",
              "  .colab-df-quickchart:hover {\n",
              "    background-color: var(--hover-bg-color);\n",
              "    box-shadow: 0 1px 2px rgba(60, 64, 67, 0.3), 0 1px 3px 1px rgba(60, 64, 67, 0.15);\n",
              "    fill: var(--button-hover-fill-color);\n",
              "  }\n",
              "\n",
              "  .colab-df-quickchart-complete:disabled,\n",
              "  .colab-df-quickchart-complete:disabled:hover {\n",
              "    background-color: var(--disabled-bg-color);\n",
              "    fill: var(--disabled-fill-color);\n",
              "    box-shadow: none;\n",
              "  }\n",
              "\n",
              "  .colab-df-spinner {\n",
              "    border: 2px solid var(--fill-color);\n",
              "    border-color: transparent;\n",
              "    border-bottom-color: var(--fill-color);\n",
              "    animation:\n",
              "      spin 1s steps(1) infinite;\n",
              "  }\n",
              "\n",
              "  @keyframes spin {\n",
              "    0% {\n",
              "      border-color: transparent;\n",
              "      border-bottom-color: var(--fill-color);\n",
              "      border-left-color: var(--fill-color);\n",
              "    }\n",
              "    20% {\n",
              "      border-color: transparent;\n",
              "      border-left-color: var(--fill-color);\n",
              "      border-top-color: var(--fill-color);\n",
              "    }\n",
              "    30% {\n",
              "      border-color: transparent;\n",
              "      border-left-color: var(--fill-color);\n",
              "      border-top-color: var(--fill-color);\n",
              "      border-right-color: var(--fill-color);\n",
              "    }\n",
              "    40% {\n",
              "      border-color: transparent;\n",
              "      border-right-color: var(--fill-color);\n",
              "      border-top-color: var(--fill-color);\n",
              "    }\n",
              "    60% {\n",
              "      border-color: transparent;\n",
              "      border-right-color: var(--fill-color);\n",
              "    }\n",
              "    80% {\n",
              "      border-color: transparent;\n",
              "      border-right-color: var(--fill-color);\n",
              "      border-bottom-color: var(--fill-color);\n",
              "    }\n",
              "    90% {\n",
              "      border-color: transparent;\n",
              "      border-bottom-color: var(--fill-color);\n",
              "    }\n",
              "  }\n",
              "</style>\n",
              "\n",
              "  <script>\n",
              "    async function quickchart(key) {\n",
              "      const quickchartButtonEl =\n",
              "        document.querySelector('#' + key + ' button');\n",
              "      quickchartButtonEl.disabled = true;  // To prevent multiple clicks.\n",
              "      quickchartButtonEl.classList.add('colab-df-spinner');\n",
              "      try {\n",
              "        const charts = await google.colab.kernel.invokeFunction(\n",
              "            'suggestCharts', [key], {});\n",
              "      } catch (error) {\n",
              "        console.error('Error during call to suggestCharts:', error);\n",
              "      }\n",
              "      quickchartButtonEl.classList.remove('colab-df-spinner');\n",
              "      quickchartButtonEl.classList.add('colab-df-quickchart-complete');\n",
              "    }\n",
              "    (() => {\n",
              "      let quickchartButtonEl =\n",
              "        document.querySelector('#df-8bbe40f5-58f6-49aa-b0c8-2cf116d8e267 button');\n",
              "      quickchartButtonEl.style.display =\n",
              "        google.colab.kernel.accessAllowed ? 'block' : 'none';\n",
              "    })();\n",
              "  </script>\n",
              "</div>\n",
              "\n",
              "    </div>\n",
              "  </div>\n"
            ],
            "application/vnd.google.colaboratory.intrinsic+json": {
              "type": "dataframe",
              "variable_name": "df",
              "summary": "{\n  \"name\": \"df\",\n  \"rows\": 12,\n  \"fields\": [\n    {\n      \"column\": \"n1\",\n      \"properties\": {\n        \"dtype\": \"number\",\n        \"std\": 0.8733147652708967,\n        \"min\": -1.424475759492443,\n        \"max\": 1.5543288636121955,\n        \"num_unique_values\": 12,\n        \"samples\": [\n          1.5543288636121955,\n          0.4229383890745106,\n          -0.4226992949723103\n        ],\n        \"semantic_type\": \"\",\n        \"description\": \"\"\n      }\n    },\n    {\n      \"column\": \"n2\",\n      \"properties\": {\n        \"dtype\": \"number\",\n        \"std\": 1.174161983859528,\n        \"min\": -1.86650150073231,\n        \"max\": 1.8712132434629904,\n        \"num_unique_values\": 12,\n        \"samples\": [\n          -0.6600519625902682,\n          -0.23079682328570633,\n          -1.86650150073231\n        ],\n        \"semantic_type\": \"\",\n        \"description\": \"\"\n      }\n    },\n    {\n      \"column\": \"n3\",\n      \"properties\": {\n        \"dtype\": \"number\",\n        \"std\": 1.2605236911865119,\n        \"min\": -2.3328021367668903,\n        \"max\": 1.4699937801234657,\n        \"num_unique_values\": 12,\n        \"samples\": [\n          1.4699937801234657,\n          -0.2333194118575814,\n          -0.6555916086101939\n        ],\n        \"semantic_type\": \"\",\n        \"description\": \"\"\n      }\n    },\n    {\n      \"column\": \"n4\",\n      \"properties\": {\n        \"dtype\": \"number\",\n        \"std\": 0.7087062420010474,\n        \"min\": -1.0572859976414526,\n        \"max\": 1.2396504061991571,\n        \"num_unique_values\": 12,\n        \"samples\": [\n          -1.0572859976414526,\n          -0.14032475678122278,\n          -0.3951047041447007\n        ],\n        \"semantic_type\": \"\",\n        \"description\": \"\"\n      }\n    }\n  ]\n}"
            }
          },
          "metadata": {},
          "execution_count": 31
        }
      ],
      "source": [
        "#표준 정규 분포(평균 0, 표준편차 1)를 따르는 12행 4열의 배열을 생성합니다. 이 배열은 무작위로 생성된 실수 값들로 채워집니다.\n",
        "a = np.random.standard_normal((12, 4))\n",
        "\n",
        "#NumPy 배열 a를 Pandas의 **데이터프레임(DataFrame)**으로 변환합니다. 열 이름을 ['n1', 'n2', 'n3', 'n4']로 지정하여 각 열에 이름을 부여합니다.\n",
        "df = pd.DataFrame(a, columns=['n1', 'n2', 'n3', 'n4'])\n",
        "df.head()"
      ]
    },
    {
      "cell_type": "markdown",
      "metadata": {
        "id": "ZTrHQNYhxYBc"
      },
      "source": [
        "## to_datetime()\n",
        "\n",
        "The following code takes a list 'date_str' containing dates in various string formats. It then uses the pd.to_datetime() function to convert these strings into datetime data type and create a DatetimeIndex."
      ]
    },
    {
      "cell_type": "code",
      "execution_count": 32,
      "metadata": {
        "colab": {
          "base_uri": "https://localhost:8080/"
        },
        "id": "RG0xG1gvxXtE",
        "outputId": "a513fcf7-5432-488f-f075-4c3d198ff3ca"
      },
      "outputs": [
        {
          "output_type": "stream",
          "name": "stdout",
          "text": [
            "2010-01-01 00:00:00\n",
            "2015-07-01 00:00:00\n",
            "2016-05-01 00:00:00\n",
            "2019-12-25 00:00:00\n",
            "2020-12-01 00:00:00\n",
            "2021-12-20 00:00:00\n",
            "2020-12-31 00:00:00\n"
          ]
        }
      ],
      "source": [
        "'''\n",
        "여러 가지 형식으로 주어진 날짜 문자열을 Pandas의 to_datetime 함수를 사용하여 표준 날짜 형식으로 변환하는 작업을 수행함.\n",
        "'''\n",
        "date_str = ['2010-01-01', '2015, 7, 1', 'May, 1 2016',\n",
        "            'Dec, 25, 2019', 'DEC 1 2020', 'dec 20 2021', '2020 12 31']\n",
        "\n",
        "for dt in date_str:\n",
        "    print(pd.to_datetime(dt))\n",
        "\n",
        "#pd.to_datetime(dt): 각 날짜 문자열 dt를 Pandas의 to_datetime 함수를 사용하여 표준 날짜 형식으로 변환함\n",
        "#이 함수는 다양한 날짜 형식을 인식하고, 일관된 datetime64 객체로 변환함"
      ]
    },
    {
      "cell_type": "markdown",
      "metadata": {
        "id": "kF-zU2KAxjJN"
      },
      "source": [
        "## date_range\n",
        "```python\n",
        "pd.date_range(start, end, periods, freq)\n",
        "```\n",
        "\n",
        "- Without needing to input all dates/times, generate an index within a range by providing **start and end dates** or **start date and period**.\n",
        "\n",
        "- freq\n",
        "    - S: second  \n",
        "    - T: minute  \n",
        "    - H: hour  \n",
        "    - D: day  \n",
        "    - B: Business Day (not weekend)\n",
        "    - W: week (Sunday)\n",
        "    - M: end of month  \n",
        "    - MS: start of month  "
      ]
    },
    {
      "cell_type": "markdown",
      "metadata": {
        "id": "6Mu7P4jBxwMg"
      },
      "source": [
        "This code sets the start date to '2016-9-1' and generates a date range for 10 days from that start date. By default, the date interval is set to one day. As a result, a date range from the start date to the consecutive 10 days is created and stored in a DatetimeIndex object."
      ]
    },
    {
      "cell_type": "code",
      "execution_count": 33,
      "metadata": {
        "colab": {
          "base_uri": "https://localhost:8080/"
        },
        "id": "6EI3cy_gxzPx",
        "outputId": "b1c30c5f-f750-479e-c667-d230b26198fb"
      },
      "outputs": [
        {
          "output_type": "execute_result",
          "data": {
            "text/plain": [
              "DatetimeIndex(['2016-09-01', '2016-09-02', '2016-09-03', '2016-09-04',\n",
              "               '2016-09-05', '2016-09-06', '2016-09-07', '2016-09-08',\n",
              "               '2016-09-09', '2016-09-10'],\n",
              "              dtype='datetime64[ns]', freq='D')"
            ]
          },
          "metadata": {},
          "execution_count": 33
        }
      ],
      "source": [
        "# start ~ 10 days\n",
        "pd.date_range(start='2016-9-1', periods=10)"
      ]
    },
    {
      "cell_type": "markdown",
      "metadata": {
        "id": "JClgANgix1K8"
      },
      "source": [
        "This code sets the start date to '2019-5-1' and the end date to '2019-5-10'. It then sets the 'freq' parameter to 'B' to generate a range of business days (weekdays)."
      ]
    },
    {
      "cell_type": "code",
      "execution_count": 34,
      "metadata": {
        "colab": {
          "base_uri": "https://localhost:8080/"
        },
        "id": "Btl72xlDx3Mx",
        "outputId": "0698517c-944e-4fff-b1e0-b6755ec0c379"
      },
      "outputs": [
        {
          "output_type": "execute_result",
          "data": {
            "text/plain": [
              "DatetimeIndex(['2019-05-01', '2019-05-02', '2019-05-03', '2019-05-06',\n",
              "               '2019-05-07', '2019-05-08', '2019-05-09', '2019-05-10'],\n",
              "              dtype='datetime64[ns]', freq='B')"
            ]
          },
          "metadata": {},
          "execution_count": 34
        }
      ],
      "source": [
        "# Business days between start and end\n",
        "pd.date_range('2019-5-1', '2019-5-10', freq='B')"
      ]
    },
    {
      "cell_type": "markdown",
      "metadata": {
        "id": "nUG3a3fdx6fm"
      },
      "source": [
        "This code sets the start date to '2019-01-01' and generates a range of 12 monthly dates from that start date. It sets the 'freq' parameter to 'M' to generate the range based on the last date of each month."
      ]
    },
    {
      "cell_type": "code",
      "execution_count": 35,
      "metadata": {
        "colab": {
          "base_uri": "https://localhost:8080/"
        },
        "id": "JoW3h-9Fx8uE",
        "outputId": "b9a30c6b-b6dc-48d1-a494-adb6a46cc195"
      },
      "outputs": [
        {
          "output_type": "stream",
          "name": "stderr",
          "text": [
            "<ipython-input-35-56c5f3db2d9b>:2: FutureWarning: 'M' is deprecated and will be removed in a future version, please use 'ME' instead.\n",
            "  dates = pd.date_range('2019-01-01', periods=12, freq='M')\n"
          ]
        },
        {
          "output_type": "execute_result",
          "data": {
            "text/plain": [
              "DatetimeIndex(['2019-01-31', '2019-02-28', '2019-03-31', '2019-04-30',\n",
              "               '2019-05-31', '2019-06-30', '2019-07-31', '2019-08-31',\n",
              "               '2019-09-30', '2019-10-31', '2019-11-30', '2019-12-31'],\n",
              "              dtype='datetime64[ns]', freq='ME')"
            ]
          },
          "metadata": {},
          "execution_count": 35
        }
      ],
      "source": [
        "# Start date to 12 months\n",
        "dates = pd.date_range('2019-01-01', periods=12, freq='M')\n",
        "dates"
      ]
    },
    {
      "cell_type": "code",
      "execution_count": 36,
      "metadata": {
        "colab": {
          "base_uri": "https://localhost:8080/",
          "height": 206
        },
        "id": "Qx1s11r_x-4y",
        "outputId": "0c7c1545-3c80-4032-b94f-263623f3bc5c"
      },
      "outputs": [
        {
          "output_type": "execute_result",
          "data": {
            "text/plain": [
              "                  n1        n2        n3        n4\n",
              "2019-01-31 -0.422699 -1.866502 -0.655592 -0.395105\n",
              "2019-02-28  0.694796  1.871213  0.345138  1.239650\n",
              "2019-03-31  0.813345 -0.269213  1.089390  0.303296\n",
              "2019-04-30 -1.424476 -1.050831 -2.332802  0.329385\n",
              "2019-05-31  0.831022 -0.635015  1.185489 -0.483321"
            ],
            "text/html": [
              "\n",
              "  <div id=\"df-2b2a682d-a505-4469-b8d9-48f257eb67ec\" class=\"colab-df-container\">\n",
              "    <div>\n",
              "<style scoped>\n",
              "    .dataframe tbody tr th:only-of-type {\n",
              "        vertical-align: middle;\n",
              "    }\n",
              "\n",
              "    .dataframe tbody tr th {\n",
              "        vertical-align: top;\n",
              "    }\n",
              "\n",
              "    .dataframe thead th {\n",
              "        text-align: right;\n",
              "    }\n",
              "</style>\n",
              "<table border=\"1\" class=\"dataframe\">\n",
              "  <thead>\n",
              "    <tr style=\"text-align: right;\">\n",
              "      <th></th>\n",
              "      <th>n1</th>\n",
              "      <th>n2</th>\n",
              "      <th>n3</th>\n",
              "      <th>n4</th>\n",
              "    </tr>\n",
              "  </thead>\n",
              "  <tbody>\n",
              "    <tr>\n",
              "      <th>2019-01-31</th>\n",
              "      <td>-0.422699</td>\n",
              "      <td>-1.866502</td>\n",
              "      <td>-0.655592</td>\n",
              "      <td>-0.395105</td>\n",
              "    </tr>\n",
              "    <tr>\n",
              "      <th>2019-02-28</th>\n",
              "      <td>0.694796</td>\n",
              "      <td>1.871213</td>\n",
              "      <td>0.345138</td>\n",
              "      <td>1.239650</td>\n",
              "    </tr>\n",
              "    <tr>\n",
              "      <th>2019-03-31</th>\n",
              "      <td>0.813345</td>\n",
              "      <td>-0.269213</td>\n",
              "      <td>1.089390</td>\n",
              "      <td>0.303296</td>\n",
              "    </tr>\n",
              "    <tr>\n",
              "      <th>2019-04-30</th>\n",
              "      <td>-1.424476</td>\n",
              "      <td>-1.050831</td>\n",
              "      <td>-2.332802</td>\n",
              "      <td>0.329385</td>\n",
              "    </tr>\n",
              "    <tr>\n",
              "      <th>2019-05-31</th>\n",
              "      <td>0.831022</td>\n",
              "      <td>-0.635015</td>\n",
              "      <td>1.185489</td>\n",
              "      <td>-0.483321</td>\n",
              "    </tr>\n",
              "  </tbody>\n",
              "</table>\n",
              "</div>\n",
              "    <div class=\"colab-df-buttons\">\n",
              "\n",
              "  <div class=\"colab-df-container\">\n",
              "    <button class=\"colab-df-convert\" onclick=\"convertToInteractive('df-2b2a682d-a505-4469-b8d9-48f257eb67ec')\"\n",
              "            title=\"Convert this dataframe to an interactive table.\"\n",
              "            style=\"display:none;\">\n",
              "\n",
              "  <svg xmlns=\"http://www.w3.org/2000/svg\" height=\"24px\" viewBox=\"0 -960 960 960\">\n",
              "    <path d=\"M120-120v-720h720v720H120Zm60-500h600v-160H180v160Zm220 220h160v-160H400v160Zm0 220h160v-160H400v160ZM180-400h160v-160H180v160Zm440 0h160v-160H620v160ZM180-180h160v-160H180v160Zm440 0h160v-160H620v160Z\"/>\n",
              "  </svg>\n",
              "    </button>\n",
              "\n",
              "  <style>\n",
              "    .colab-df-container {\n",
              "      display:flex;\n",
              "      gap: 12px;\n",
              "    }\n",
              "\n",
              "    .colab-df-convert {\n",
              "      background-color: #E8F0FE;\n",
              "      border: none;\n",
              "      border-radius: 50%;\n",
              "      cursor: pointer;\n",
              "      display: none;\n",
              "      fill: #1967D2;\n",
              "      height: 32px;\n",
              "      padding: 0 0 0 0;\n",
              "      width: 32px;\n",
              "    }\n",
              "\n",
              "    .colab-df-convert:hover {\n",
              "      background-color: #E2EBFA;\n",
              "      box-shadow: 0px 1px 2px rgba(60, 64, 67, 0.3), 0px 1px 3px 1px rgba(60, 64, 67, 0.15);\n",
              "      fill: #174EA6;\n",
              "    }\n",
              "\n",
              "    .colab-df-buttons div {\n",
              "      margin-bottom: 4px;\n",
              "    }\n",
              "\n",
              "    [theme=dark] .colab-df-convert {\n",
              "      background-color: #3B4455;\n",
              "      fill: #D2E3FC;\n",
              "    }\n",
              "\n",
              "    [theme=dark] .colab-df-convert:hover {\n",
              "      background-color: #434B5C;\n",
              "      box-shadow: 0px 1px 3px 1px rgba(0, 0, 0, 0.15);\n",
              "      filter: drop-shadow(0px 1px 2px rgba(0, 0, 0, 0.3));\n",
              "      fill: #FFFFFF;\n",
              "    }\n",
              "  </style>\n",
              "\n",
              "    <script>\n",
              "      const buttonEl =\n",
              "        document.querySelector('#df-2b2a682d-a505-4469-b8d9-48f257eb67ec button.colab-df-convert');\n",
              "      buttonEl.style.display =\n",
              "        google.colab.kernel.accessAllowed ? 'block' : 'none';\n",
              "\n",
              "      async function convertToInteractive(key) {\n",
              "        const element = document.querySelector('#df-2b2a682d-a505-4469-b8d9-48f257eb67ec');\n",
              "        const dataTable =\n",
              "          await google.colab.kernel.invokeFunction('convertToInteractive',\n",
              "                                                    [key], {});\n",
              "        if (!dataTable) return;\n",
              "\n",
              "        const docLinkHtml = 'Like what you see? Visit the ' +\n",
              "          '<a target=\"_blank\" href=https://colab.research.google.com/notebooks/data_table.ipynb>data table notebook</a>'\n",
              "          + ' to learn more about interactive tables.';\n",
              "        element.innerHTML = '';\n",
              "        dataTable['output_type'] = 'display_data';\n",
              "        await google.colab.output.renderOutput(dataTable, element);\n",
              "        const docLink = document.createElement('div');\n",
              "        docLink.innerHTML = docLinkHtml;\n",
              "        element.appendChild(docLink);\n",
              "      }\n",
              "    </script>\n",
              "  </div>\n",
              "\n",
              "\n",
              "<div id=\"df-3bf9c3fe-6f47-4189-8d13-5b0de400a13c\">\n",
              "  <button class=\"colab-df-quickchart\" onclick=\"quickchart('df-3bf9c3fe-6f47-4189-8d13-5b0de400a13c')\"\n",
              "            title=\"Suggest charts\"\n",
              "            style=\"display:none;\">\n",
              "\n",
              "<svg xmlns=\"http://www.w3.org/2000/svg\" height=\"24px\"viewBox=\"0 0 24 24\"\n",
              "     width=\"24px\">\n",
              "    <g>\n",
              "        <path d=\"M19 3H5c-1.1 0-2 .9-2 2v14c0 1.1.9 2 2 2h14c1.1 0 2-.9 2-2V5c0-1.1-.9-2-2-2zM9 17H7v-7h2v7zm4 0h-2V7h2v10zm4 0h-2v-4h2v4z\"/>\n",
              "    </g>\n",
              "</svg>\n",
              "  </button>\n",
              "\n",
              "<style>\n",
              "  .colab-df-quickchart {\n",
              "      --bg-color: #E8F0FE;\n",
              "      --fill-color: #1967D2;\n",
              "      --hover-bg-color: #E2EBFA;\n",
              "      --hover-fill-color: #174EA6;\n",
              "      --disabled-fill-color: #AAA;\n",
              "      --disabled-bg-color: #DDD;\n",
              "  }\n",
              "\n",
              "  [theme=dark] .colab-df-quickchart {\n",
              "      --bg-color: #3B4455;\n",
              "      --fill-color: #D2E3FC;\n",
              "      --hover-bg-color: #434B5C;\n",
              "      --hover-fill-color: #FFFFFF;\n",
              "      --disabled-bg-color: #3B4455;\n",
              "      --disabled-fill-color: #666;\n",
              "  }\n",
              "\n",
              "  .colab-df-quickchart {\n",
              "    background-color: var(--bg-color);\n",
              "    border: none;\n",
              "    border-radius: 50%;\n",
              "    cursor: pointer;\n",
              "    display: none;\n",
              "    fill: var(--fill-color);\n",
              "    height: 32px;\n",
              "    padding: 0;\n",
              "    width: 32px;\n",
              "  }\n",
              "\n",
              "  .colab-df-quickchart:hover {\n",
              "    background-color: var(--hover-bg-color);\n",
              "    box-shadow: 0 1px 2px rgba(60, 64, 67, 0.3), 0 1px 3px 1px rgba(60, 64, 67, 0.15);\n",
              "    fill: var(--button-hover-fill-color);\n",
              "  }\n",
              "\n",
              "  .colab-df-quickchart-complete:disabled,\n",
              "  .colab-df-quickchart-complete:disabled:hover {\n",
              "    background-color: var(--disabled-bg-color);\n",
              "    fill: var(--disabled-fill-color);\n",
              "    box-shadow: none;\n",
              "  }\n",
              "\n",
              "  .colab-df-spinner {\n",
              "    border: 2px solid var(--fill-color);\n",
              "    border-color: transparent;\n",
              "    border-bottom-color: var(--fill-color);\n",
              "    animation:\n",
              "      spin 1s steps(1) infinite;\n",
              "  }\n",
              "\n",
              "  @keyframes spin {\n",
              "    0% {\n",
              "      border-color: transparent;\n",
              "      border-bottom-color: var(--fill-color);\n",
              "      border-left-color: var(--fill-color);\n",
              "    }\n",
              "    20% {\n",
              "      border-color: transparent;\n",
              "      border-left-color: var(--fill-color);\n",
              "      border-top-color: var(--fill-color);\n",
              "    }\n",
              "    30% {\n",
              "      border-color: transparent;\n",
              "      border-left-color: var(--fill-color);\n",
              "      border-top-color: var(--fill-color);\n",
              "      border-right-color: var(--fill-color);\n",
              "    }\n",
              "    40% {\n",
              "      border-color: transparent;\n",
              "      border-right-color: var(--fill-color);\n",
              "      border-top-color: var(--fill-color);\n",
              "    }\n",
              "    60% {\n",
              "      border-color: transparent;\n",
              "      border-right-color: var(--fill-color);\n",
              "    }\n",
              "    80% {\n",
              "      border-color: transparent;\n",
              "      border-right-color: var(--fill-color);\n",
              "      border-bottom-color: var(--fill-color);\n",
              "    }\n",
              "    90% {\n",
              "      border-color: transparent;\n",
              "      border-bottom-color: var(--fill-color);\n",
              "    }\n",
              "  }\n",
              "</style>\n",
              "\n",
              "  <script>\n",
              "    async function quickchart(key) {\n",
              "      const quickchartButtonEl =\n",
              "        document.querySelector('#' + key + ' button');\n",
              "      quickchartButtonEl.disabled = true;  // To prevent multiple clicks.\n",
              "      quickchartButtonEl.classList.add('colab-df-spinner');\n",
              "      try {\n",
              "        const charts = await google.colab.kernel.invokeFunction(\n",
              "            'suggestCharts', [key], {});\n",
              "      } catch (error) {\n",
              "        console.error('Error during call to suggestCharts:', error);\n",
              "      }\n",
              "      quickchartButtonEl.classList.remove('colab-df-spinner');\n",
              "      quickchartButtonEl.classList.add('colab-df-quickchart-complete');\n",
              "    }\n",
              "    (() => {\n",
              "      let quickchartButtonEl =\n",
              "        document.querySelector('#df-3bf9c3fe-6f47-4189-8d13-5b0de400a13c button');\n",
              "      quickchartButtonEl.style.display =\n",
              "        google.colab.kernel.accessAllowed ? 'block' : 'none';\n",
              "    })();\n",
              "  </script>\n",
              "</div>\n",
              "\n",
              "    </div>\n",
              "  </div>\n"
            ],
            "application/vnd.google.colaboratory.intrinsic+json": {
              "type": "dataframe",
              "variable_name": "df",
              "summary": "{\n  \"name\": \"df\",\n  \"rows\": 12,\n  \"fields\": [\n    {\n      \"column\": \"n1\",\n      \"properties\": {\n        \"dtype\": \"number\",\n        \"std\": 0.8733147652708967,\n        \"min\": -1.424475759492443,\n        \"max\": 1.5543288636121955,\n        \"num_unique_values\": 12,\n        \"samples\": [\n          1.5543288636121955,\n          0.4229383890745106,\n          -0.4226992949723103\n        ],\n        \"semantic_type\": \"\",\n        \"description\": \"\"\n      }\n    },\n    {\n      \"column\": \"n2\",\n      \"properties\": {\n        \"dtype\": \"number\",\n        \"std\": 1.174161983859528,\n        \"min\": -1.86650150073231,\n        \"max\": 1.8712132434629904,\n        \"num_unique_values\": 12,\n        \"samples\": [\n          -0.6600519625902682,\n          -0.23079682328570633,\n          -1.86650150073231\n        ],\n        \"semantic_type\": \"\",\n        \"description\": \"\"\n      }\n    },\n    {\n      \"column\": \"n3\",\n      \"properties\": {\n        \"dtype\": \"number\",\n        \"std\": 1.2605236911865119,\n        \"min\": -2.3328021367668903,\n        \"max\": 1.4699937801234657,\n        \"num_unique_values\": 12,\n        \"samples\": [\n          1.4699937801234657,\n          -0.2333194118575814,\n          -0.6555916086101939\n        ],\n        \"semantic_type\": \"\",\n        \"description\": \"\"\n      }\n    },\n    {\n      \"column\": \"n4\",\n      \"properties\": {\n        \"dtype\": \"number\",\n        \"std\": 0.7087062420010474,\n        \"min\": -1.0572859976414526,\n        \"max\": 1.2396504061991571,\n        \"num_unique_values\": 12,\n        \"samples\": [\n          -1.0572859976414526,\n          -0.14032475678122278,\n          -0.3951047041447007\n        ],\n        \"semantic_type\": \"\",\n        \"description\": \"\"\n      }\n    }\n  ]\n}"
            }
          },
          "metadata": {},
          "execution_count": 36
        }
      ],
      "source": [
        "# Change the index of a DataFrame to datetime\n",
        "df.index = dates\n",
        "df.head()"
      ]
    },
    {
      "cell_type": "code",
      "execution_count": 37,
      "metadata": {
        "colab": {
          "base_uri": "https://localhost:8080/"
        },
        "id": "CCjk6g1gyBCq",
        "outputId": "85330116-edef-42e6-de1b-cf107221fce6"
      },
      "outputs": [
        {
          "output_type": "execute_result",
          "data": {
            "text/plain": [
              "DatetimeIndex(['2019-01-31', '2019-02-28', '2019-03-31', '2019-04-30',\n",
              "               '2019-05-31', '2019-06-30', '2019-07-31', '2019-08-31',\n",
              "               '2019-09-30', '2019-10-31', '2019-11-30', '2019-12-31'],\n",
              "              dtype='datetime64[ns]', freq='ME')"
            ]
          },
          "metadata": {},
          "execution_count": 37
        }
      ],
      "source": [
        "df.index"
      ]
    },
    {
      "cell_type": "markdown",
      "metadata": {
        "id": "8Pencqh-yCQy"
      },
      "source": [
        "## Operations using Pandas DatetimeIndex"
      ]
    },
    {
      "cell_type": "code",
      "execution_count": 38,
      "metadata": {
        "colab": {
          "base_uri": "https://localhost:8080/",
          "height": 238
        },
        "id": "H6LQW1ppyIhq",
        "outputId": "ea873320-2fd7-4b5f-ac8b-9cd8c93c6bef"
      },
      "outputs": [
        {
          "output_type": "execute_result",
          "data": {
            "text/plain": [
              "                   Category     Sales\n",
              "Order Date                           \n",
              "2011-01-04  Office Supplies    16.448\n",
              "2011-01-05  Office Supplies   288.060\n",
              "2011-01-06  Office Supplies    19.536\n",
              "2011-01-07        Furniture  2573.820\n",
              "2011-01-07  Office Supplies   685.340"
            ],
            "text/html": [
              "\n",
              "  <div id=\"df-1c4ef70c-993b-47fd-8972-125a3feab299\" class=\"colab-df-container\">\n",
              "    <div>\n",
              "<style scoped>\n",
              "    .dataframe tbody tr th:only-of-type {\n",
              "        vertical-align: middle;\n",
              "    }\n",
              "\n",
              "    .dataframe tbody tr th {\n",
              "        vertical-align: top;\n",
              "    }\n",
              "\n",
              "    .dataframe thead th {\n",
              "        text-align: right;\n",
              "    }\n",
              "</style>\n",
              "<table border=\"1\" class=\"dataframe\">\n",
              "  <thead>\n",
              "    <tr style=\"text-align: right;\">\n",
              "      <th></th>\n",
              "      <th>Category</th>\n",
              "      <th>Sales</th>\n",
              "    </tr>\n",
              "    <tr>\n",
              "      <th>Order Date</th>\n",
              "      <th></th>\n",
              "      <th></th>\n",
              "    </tr>\n",
              "  </thead>\n",
              "  <tbody>\n",
              "    <tr>\n",
              "      <th>2011-01-04</th>\n",
              "      <td>Office Supplies</td>\n",
              "      <td>16.448</td>\n",
              "    </tr>\n",
              "    <tr>\n",
              "      <th>2011-01-05</th>\n",
              "      <td>Office Supplies</td>\n",
              "      <td>288.060</td>\n",
              "    </tr>\n",
              "    <tr>\n",
              "      <th>2011-01-06</th>\n",
              "      <td>Office Supplies</td>\n",
              "      <td>19.536</td>\n",
              "    </tr>\n",
              "    <tr>\n",
              "      <th>2011-01-07</th>\n",
              "      <td>Furniture</td>\n",
              "      <td>2573.820</td>\n",
              "    </tr>\n",
              "    <tr>\n",
              "      <th>2011-01-07</th>\n",
              "      <td>Office Supplies</td>\n",
              "      <td>685.340</td>\n",
              "    </tr>\n",
              "  </tbody>\n",
              "</table>\n",
              "</div>\n",
              "    <div class=\"colab-df-buttons\">\n",
              "\n",
              "  <div class=\"colab-df-container\">\n",
              "    <button class=\"colab-df-convert\" onclick=\"convertToInteractive('df-1c4ef70c-993b-47fd-8972-125a3feab299')\"\n",
              "            title=\"Convert this dataframe to an interactive table.\"\n",
              "            style=\"display:none;\">\n",
              "\n",
              "  <svg xmlns=\"http://www.w3.org/2000/svg\" height=\"24px\" viewBox=\"0 -960 960 960\">\n",
              "    <path d=\"M120-120v-720h720v720H120Zm60-500h600v-160H180v160Zm220 220h160v-160H400v160Zm0 220h160v-160H400v160ZM180-400h160v-160H180v160Zm440 0h160v-160H620v160ZM180-180h160v-160H180v160Zm440 0h160v-160H620v160Z\"/>\n",
              "  </svg>\n",
              "    </button>\n",
              "\n",
              "  <style>\n",
              "    .colab-df-container {\n",
              "      display:flex;\n",
              "      gap: 12px;\n",
              "    }\n",
              "\n",
              "    .colab-df-convert {\n",
              "      background-color: #E8F0FE;\n",
              "      border: none;\n",
              "      border-radius: 50%;\n",
              "      cursor: pointer;\n",
              "      display: none;\n",
              "      fill: #1967D2;\n",
              "      height: 32px;\n",
              "      padding: 0 0 0 0;\n",
              "      width: 32px;\n",
              "    }\n",
              "\n",
              "    .colab-df-convert:hover {\n",
              "      background-color: #E2EBFA;\n",
              "      box-shadow: 0px 1px 2px rgba(60, 64, 67, 0.3), 0px 1px 3px 1px rgba(60, 64, 67, 0.15);\n",
              "      fill: #174EA6;\n",
              "    }\n",
              "\n",
              "    .colab-df-buttons div {\n",
              "      margin-bottom: 4px;\n",
              "    }\n",
              "\n",
              "    [theme=dark] .colab-df-convert {\n",
              "      background-color: #3B4455;\n",
              "      fill: #D2E3FC;\n",
              "    }\n",
              "\n",
              "    [theme=dark] .colab-df-convert:hover {\n",
              "      background-color: #434B5C;\n",
              "      box-shadow: 0px 1px 3px 1px rgba(0, 0, 0, 0.15);\n",
              "      filter: drop-shadow(0px 1px 2px rgba(0, 0, 0, 0.3));\n",
              "      fill: #FFFFFF;\n",
              "    }\n",
              "  </style>\n",
              "\n",
              "    <script>\n",
              "      const buttonEl =\n",
              "        document.querySelector('#df-1c4ef70c-993b-47fd-8972-125a3feab299 button.colab-df-convert');\n",
              "      buttonEl.style.display =\n",
              "        google.colab.kernel.accessAllowed ? 'block' : 'none';\n",
              "\n",
              "      async function convertToInteractive(key) {\n",
              "        const element = document.querySelector('#df-1c4ef70c-993b-47fd-8972-125a3feab299');\n",
              "        const dataTable =\n",
              "          await google.colab.kernel.invokeFunction('convertToInteractive',\n",
              "                                                    [key], {});\n",
              "        if (!dataTable) return;\n",
              "\n",
              "        const docLinkHtml = 'Like what you see? Visit the ' +\n",
              "          '<a target=\"_blank\" href=https://colab.research.google.com/notebooks/data_table.ipynb>data table notebook</a>'\n",
              "          + ' to learn more about interactive tables.';\n",
              "        element.innerHTML = '';\n",
              "        dataTable['output_type'] = 'display_data';\n",
              "        await google.colab.output.renderOutput(dataTable, element);\n",
              "        const docLink = document.createElement('div');\n",
              "        docLink.innerHTML = docLinkHtml;\n",
              "        element.appendChild(docLink);\n",
              "      }\n",
              "    </script>\n",
              "  </div>\n",
              "\n",
              "\n",
              "<div id=\"df-b4e62623-5f44-4148-a41b-2aef46c858d6\">\n",
              "  <button class=\"colab-df-quickchart\" onclick=\"quickchart('df-b4e62623-5f44-4148-a41b-2aef46c858d6')\"\n",
              "            title=\"Suggest charts\"\n",
              "            style=\"display:none;\">\n",
              "\n",
              "<svg xmlns=\"http://www.w3.org/2000/svg\" height=\"24px\"viewBox=\"0 0 24 24\"\n",
              "     width=\"24px\">\n",
              "    <g>\n",
              "        <path d=\"M19 3H5c-1.1 0-2 .9-2 2v14c0 1.1.9 2 2 2h14c1.1 0 2-.9 2-2V5c0-1.1-.9-2-2-2zM9 17H7v-7h2v7zm4 0h-2V7h2v10zm4 0h-2v-4h2v4z\"/>\n",
              "    </g>\n",
              "</svg>\n",
              "  </button>\n",
              "\n",
              "<style>\n",
              "  .colab-df-quickchart {\n",
              "      --bg-color: #E8F0FE;\n",
              "      --fill-color: #1967D2;\n",
              "      --hover-bg-color: #E2EBFA;\n",
              "      --hover-fill-color: #174EA6;\n",
              "      --disabled-fill-color: #AAA;\n",
              "      --disabled-bg-color: #DDD;\n",
              "  }\n",
              "\n",
              "  [theme=dark] .colab-df-quickchart {\n",
              "      --bg-color: #3B4455;\n",
              "      --fill-color: #D2E3FC;\n",
              "      --hover-bg-color: #434B5C;\n",
              "      --hover-fill-color: #FFFFFF;\n",
              "      --disabled-bg-color: #3B4455;\n",
              "      --disabled-fill-color: #666;\n",
              "  }\n",
              "\n",
              "  .colab-df-quickchart {\n",
              "    background-color: var(--bg-color);\n",
              "    border: none;\n",
              "    border-radius: 50%;\n",
              "    cursor: pointer;\n",
              "    display: none;\n",
              "    fill: var(--fill-color);\n",
              "    height: 32px;\n",
              "    padding: 0;\n",
              "    width: 32px;\n",
              "  }\n",
              "\n",
              "  .colab-df-quickchart:hover {\n",
              "    background-color: var(--hover-bg-color);\n",
              "    box-shadow: 0 1px 2px rgba(60, 64, 67, 0.3), 0 1px 3px 1px rgba(60, 64, 67, 0.15);\n",
              "    fill: var(--button-hover-fill-color);\n",
              "  }\n",
              "\n",
              "  .colab-df-quickchart-complete:disabled,\n",
              "  .colab-df-quickchart-complete:disabled:hover {\n",
              "    background-color: var(--disabled-bg-color);\n",
              "    fill: var(--disabled-fill-color);\n",
              "    box-shadow: none;\n",
              "  }\n",
              "\n",
              "  .colab-df-spinner {\n",
              "    border: 2px solid var(--fill-color);\n",
              "    border-color: transparent;\n",
              "    border-bottom-color: var(--fill-color);\n",
              "    animation:\n",
              "      spin 1s steps(1) infinite;\n",
              "  }\n",
              "\n",
              "  @keyframes spin {\n",
              "    0% {\n",
              "      border-color: transparent;\n",
              "      border-bottom-color: var(--fill-color);\n",
              "      border-left-color: var(--fill-color);\n",
              "    }\n",
              "    20% {\n",
              "      border-color: transparent;\n",
              "      border-left-color: var(--fill-color);\n",
              "      border-top-color: var(--fill-color);\n",
              "    }\n",
              "    30% {\n",
              "      border-color: transparent;\n",
              "      border-left-color: var(--fill-color);\n",
              "      border-top-color: var(--fill-color);\n",
              "      border-right-color: var(--fill-color);\n",
              "    }\n",
              "    40% {\n",
              "      border-color: transparent;\n",
              "      border-right-color: var(--fill-color);\n",
              "      border-top-color: var(--fill-color);\n",
              "    }\n",
              "    60% {\n",
              "      border-color: transparent;\n",
              "      border-right-color: var(--fill-color);\n",
              "    }\n",
              "    80% {\n",
              "      border-color: transparent;\n",
              "      border-right-color: var(--fill-color);\n",
              "      border-bottom-color: var(--fill-color);\n",
              "    }\n",
              "    90% {\n",
              "      border-color: transparent;\n",
              "      border-bottom-color: var(--fill-color);\n",
              "    }\n",
              "  }\n",
              "</style>\n",
              "\n",
              "  <script>\n",
              "    async function quickchart(key) {\n",
              "      const quickchartButtonEl =\n",
              "        document.querySelector('#' + key + ' button');\n",
              "      quickchartButtonEl.disabled = true;  // To prevent multiple clicks.\n",
              "      quickchartButtonEl.classList.add('colab-df-spinner');\n",
              "      try {\n",
              "        const charts = await google.colab.kernel.invokeFunction(\n",
              "            'suggestCharts', [key], {});\n",
              "      } catch (error) {\n",
              "        console.error('Error during call to suggestCharts:', error);\n",
              "      }\n",
              "      quickchartButtonEl.classList.remove('colab-df-spinner');\n",
              "      quickchartButtonEl.classList.add('colab-df-quickchart-complete');\n",
              "    }\n",
              "    (() => {\n",
              "      let quickchartButtonEl =\n",
              "        document.querySelector('#df-b4e62623-5f44-4148-a41b-2aef46c858d6 button');\n",
              "      quickchartButtonEl.style.display =\n",
              "        google.colab.kernel.accessAllowed ? 'block' : 'none';\n",
              "    })();\n",
              "  </script>\n",
              "</div>\n",
              "\n",
              "    </div>\n",
              "  </div>\n"
            ],
            "application/vnd.google.colaboratory.intrinsic+json": {
              "type": "dataframe",
              "variable_name": "sales",
              "summary": "{\n  \"name\": \"sales\",\n  \"rows\": 2864,\n  \"fields\": [\n    {\n      \"column\": \"Order Date\",\n      \"properties\": {\n        \"dtype\": \"date\",\n        \"min\": \"2011-01-04 00:00:00\",\n        \"max\": \"2014-12-31 00:00:00\",\n        \"num_unique_values\": 1238,\n        \"samples\": [\n          \"2013-01-28 00:00:00\",\n          \"2011-08-09 00:00:00\",\n          \"2013-11-13 00:00:00\"\n        ],\n        \"semantic_type\": \"\",\n        \"description\": \"\"\n      }\n    },\n    {\n      \"column\": \"Category\",\n      \"properties\": {\n        \"dtype\": \"category\",\n        \"num_unique_values\": 3,\n        \"samples\": [\n          \"Office Supplies\",\n          \"Furniture\",\n          \"Technology\"\n        ],\n        \"semantic_type\": \"\",\n        \"description\": \"\"\n      }\n    },\n    {\n      \"column\": \"Sales\",\n      \"properties\": {\n        \"dtype\": \"number\",\n        \"std\": 1295.546481836526,\n        \"min\": 1.584,\n        \"max\": 24739.748,\n        \"num_unique_values\": 2792,\n        \"samples\": [\n          623.3219999999999,\n          861.76,\n          152.96599999999998\n        ],\n        \"semantic_type\": \"\",\n        \"description\": \"\"\n      }\n    }\n  ]\n}"
            }
          },
          "metadata": {},
          "execution_count": 38
        }
      ],
      "source": [
        "# Set index using an existing numpy datetime64 format variable\n",
        "sales.set_index('Order Date', inplace=True)\n",
        "\n",
        "'''\n",
        "'Order Date': 인덱스로 설정할 열의 이름입니다. 이 열이 현재 numpy datetime64 형식으로 되어 있어야 합니다.\n",
        "inplace=True: 이 매개변수는 원본 데이터프레임을 직접 수정하여, 새로운 데이터프레임을 반환하지 않고 기존 데이터프레임 sales를 업데이트합니다.\n",
        "즉, 데이터프레임의 Order Date 열이 인덱스로 설정된 상태로 변경됩니다.\n",
        "\n",
        "인덱스 변경: 'Order Date' 열이 이제 데이터프레임의 인덱스가 되었습니다. 기존의 인덱스는 사라지고 'Order Date'가 새로운 인덱스로 설정됩니다.\n",
        "inplace=True: 데이터프레임 sales는 이제 변경된 상태로 유지되며, 이 데이터프레임을 출력할 때 인덱스가 'Order Date'로 설정된 것을 확인할 수 있습니다.\n",
        "'''\n",
        "\n",
        "sales.head()"
      ]
    },
    {
      "cell_type": "code",
      "execution_count": 39,
      "metadata": {
        "colab": {
          "base_uri": "https://localhost:8080/"
        },
        "id": "JtYutG-6yKrW",
        "outputId": "e3ddc530-39a0-4590-e3cf-39cdda459d0e"
      },
      "outputs": [
        {
          "output_type": "execute_result",
          "data": {
            "text/plain": [
              "DatetimeIndex(['2011-01-04', '2011-01-05', '2011-01-06', '2011-01-07',\n",
              "               '2011-01-07', '2011-01-07', '2011-01-08', '2011-01-08',\n",
              "               '2011-01-10', '2011-01-10',\n",
              "               ...\n",
              "               '2014-12-28', '2014-12-29', '2014-12-29', '2014-12-29',\n",
              "               '2014-12-30', '2014-12-30', '2014-12-30', '2014-12-31',\n",
              "               '2014-12-31', '2014-12-31'],\n",
              "              dtype='datetime64[ns]', name='Order Date', length=2864, freq=None)"
            ]
          },
          "metadata": {},
          "execution_count": 39
        }
      ],
      "source": [
        "sales.index"
      ]
    },
    {
      "cell_type": "markdown",
      "metadata": {
        "id": "RWb-DE3pyMp8"
      },
      "source": [
        "### Subsetting data\n",
        "\n",
        "You can now select subsets of data using the DatetimeIndex. The following code selects data from the 'sales' DataFrame where the index corresponds to the year '2011'."
      ]
    },
    {
      "cell_type": "code",
      "execution_count": 40,
      "metadata": {
        "colab": {
          "base_uri": "https://localhost:8080/",
          "height": 238
        },
        "id": "_0hM6mymyPBn",
        "outputId": "cf0e5eaf-636c-492b-940d-cda5af704fd6"
      },
      "outputs": [
        {
          "output_type": "execute_result",
          "data": {
            "text/plain": [
              "                   Category     Sales\n",
              "Order Date                           \n",
              "2011-01-04  Office Supplies    16.448\n",
              "2011-01-05  Office Supplies   288.060\n",
              "2011-01-06  Office Supplies    19.536\n",
              "2011-01-07        Furniture  2573.820\n",
              "2011-01-07  Office Supplies   685.340"
            ],
            "text/html": [
              "\n",
              "  <div id=\"df-3cda79d7-0006-4978-8a8c-e892d3ca79c8\" class=\"colab-df-container\">\n",
              "    <div>\n",
              "<style scoped>\n",
              "    .dataframe tbody tr th:only-of-type {\n",
              "        vertical-align: middle;\n",
              "    }\n",
              "\n",
              "    .dataframe tbody tr th {\n",
              "        vertical-align: top;\n",
              "    }\n",
              "\n",
              "    .dataframe thead th {\n",
              "        text-align: right;\n",
              "    }\n",
              "</style>\n",
              "<table border=\"1\" class=\"dataframe\">\n",
              "  <thead>\n",
              "    <tr style=\"text-align: right;\">\n",
              "      <th></th>\n",
              "      <th>Category</th>\n",
              "      <th>Sales</th>\n",
              "    </tr>\n",
              "    <tr>\n",
              "      <th>Order Date</th>\n",
              "      <th></th>\n",
              "      <th></th>\n",
              "    </tr>\n",
              "  </thead>\n",
              "  <tbody>\n",
              "    <tr>\n",
              "      <th>2011-01-04</th>\n",
              "      <td>Office Supplies</td>\n",
              "      <td>16.448</td>\n",
              "    </tr>\n",
              "    <tr>\n",
              "      <th>2011-01-05</th>\n",
              "      <td>Office Supplies</td>\n",
              "      <td>288.060</td>\n",
              "    </tr>\n",
              "    <tr>\n",
              "      <th>2011-01-06</th>\n",
              "      <td>Office Supplies</td>\n",
              "      <td>19.536</td>\n",
              "    </tr>\n",
              "    <tr>\n",
              "      <th>2011-01-07</th>\n",
              "      <td>Furniture</td>\n",
              "      <td>2573.820</td>\n",
              "    </tr>\n",
              "    <tr>\n",
              "      <th>2011-01-07</th>\n",
              "      <td>Office Supplies</td>\n",
              "      <td>685.340</td>\n",
              "    </tr>\n",
              "  </tbody>\n",
              "</table>\n",
              "</div>\n",
              "    <div class=\"colab-df-buttons\">\n",
              "\n",
              "  <div class=\"colab-df-container\">\n",
              "    <button class=\"colab-df-convert\" onclick=\"convertToInteractive('df-3cda79d7-0006-4978-8a8c-e892d3ca79c8')\"\n",
              "            title=\"Convert this dataframe to an interactive table.\"\n",
              "            style=\"display:none;\">\n",
              "\n",
              "  <svg xmlns=\"http://www.w3.org/2000/svg\" height=\"24px\" viewBox=\"0 -960 960 960\">\n",
              "    <path d=\"M120-120v-720h720v720H120Zm60-500h600v-160H180v160Zm220 220h160v-160H400v160Zm0 220h160v-160H400v160ZM180-400h160v-160H180v160Zm440 0h160v-160H620v160ZM180-180h160v-160H180v160Zm440 0h160v-160H620v160Z\"/>\n",
              "  </svg>\n",
              "    </button>\n",
              "\n",
              "  <style>\n",
              "    .colab-df-container {\n",
              "      display:flex;\n",
              "      gap: 12px;\n",
              "    }\n",
              "\n",
              "    .colab-df-convert {\n",
              "      background-color: #E8F0FE;\n",
              "      border: none;\n",
              "      border-radius: 50%;\n",
              "      cursor: pointer;\n",
              "      display: none;\n",
              "      fill: #1967D2;\n",
              "      height: 32px;\n",
              "      padding: 0 0 0 0;\n",
              "      width: 32px;\n",
              "    }\n",
              "\n",
              "    .colab-df-convert:hover {\n",
              "      background-color: #E2EBFA;\n",
              "      box-shadow: 0px 1px 2px rgba(60, 64, 67, 0.3), 0px 1px 3px 1px rgba(60, 64, 67, 0.15);\n",
              "      fill: #174EA6;\n",
              "    }\n",
              "\n",
              "    .colab-df-buttons div {\n",
              "      margin-bottom: 4px;\n",
              "    }\n",
              "\n",
              "    [theme=dark] .colab-df-convert {\n",
              "      background-color: #3B4455;\n",
              "      fill: #D2E3FC;\n",
              "    }\n",
              "\n",
              "    [theme=dark] .colab-df-convert:hover {\n",
              "      background-color: #434B5C;\n",
              "      box-shadow: 0px 1px 3px 1px rgba(0, 0, 0, 0.15);\n",
              "      filter: drop-shadow(0px 1px 2px rgba(0, 0, 0, 0.3));\n",
              "      fill: #FFFFFF;\n",
              "    }\n",
              "  </style>\n",
              "\n",
              "    <script>\n",
              "      const buttonEl =\n",
              "        document.querySelector('#df-3cda79d7-0006-4978-8a8c-e892d3ca79c8 button.colab-df-convert');\n",
              "      buttonEl.style.display =\n",
              "        google.colab.kernel.accessAllowed ? 'block' : 'none';\n",
              "\n",
              "      async function convertToInteractive(key) {\n",
              "        const element = document.querySelector('#df-3cda79d7-0006-4978-8a8c-e892d3ca79c8');\n",
              "        const dataTable =\n",
              "          await google.colab.kernel.invokeFunction('convertToInteractive',\n",
              "                                                    [key], {});\n",
              "        if (!dataTable) return;\n",
              "\n",
              "        const docLinkHtml = 'Like what you see? Visit the ' +\n",
              "          '<a target=\"_blank\" href=https://colab.research.google.com/notebooks/data_table.ipynb>data table notebook</a>'\n",
              "          + ' to learn more about interactive tables.';\n",
              "        element.innerHTML = '';\n",
              "        dataTable['output_type'] = 'display_data';\n",
              "        await google.colab.output.renderOutput(dataTable, element);\n",
              "        const docLink = document.createElement('div');\n",
              "        docLink.innerHTML = docLinkHtml;\n",
              "        element.appendChild(docLink);\n",
              "      }\n",
              "    </script>\n",
              "  </div>\n",
              "\n",
              "\n",
              "<div id=\"df-1fbe7309-f9f6-485f-b63f-d2f31ede85aa\">\n",
              "  <button class=\"colab-df-quickchart\" onclick=\"quickchart('df-1fbe7309-f9f6-485f-b63f-d2f31ede85aa')\"\n",
              "            title=\"Suggest charts\"\n",
              "            style=\"display:none;\">\n",
              "\n",
              "<svg xmlns=\"http://www.w3.org/2000/svg\" height=\"24px\"viewBox=\"0 0 24 24\"\n",
              "     width=\"24px\">\n",
              "    <g>\n",
              "        <path d=\"M19 3H5c-1.1 0-2 .9-2 2v14c0 1.1.9 2 2 2h14c1.1 0 2-.9 2-2V5c0-1.1-.9-2-2-2zM9 17H7v-7h2v7zm4 0h-2V7h2v10zm4 0h-2v-4h2v4z\"/>\n",
              "    </g>\n",
              "</svg>\n",
              "  </button>\n",
              "\n",
              "<style>\n",
              "  .colab-df-quickchart {\n",
              "      --bg-color: #E8F0FE;\n",
              "      --fill-color: #1967D2;\n",
              "      --hover-bg-color: #E2EBFA;\n",
              "      --hover-fill-color: #174EA6;\n",
              "      --disabled-fill-color: #AAA;\n",
              "      --disabled-bg-color: #DDD;\n",
              "  }\n",
              "\n",
              "  [theme=dark] .colab-df-quickchart {\n",
              "      --bg-color: #3B4455;\n",
              "      --fill-color: #D2E3FC;\n",
              "      --hover-bg-color: #434B5C;\n",
              "      --hover-fill-color: #FFFFFF;\n",
              "      --disabled-bg-color: #3B4455;\n",
              "      --disabled-fill-color: #666;\n",
              "  }\n",
              "\n",
              "  .colab-df-quickchart {\n",
              "    background-color: var(--bg-color);\n",
              "    border: none;\n",
              "    border-radius: 50%;\n",
              "    cursor: pointer;\n",
              "    display: none;\n",
              "    fill: var(--fill-color);\n",
              "    height: 32px;\n",
              "    padding: 0;\n",
              "    width: 32px;\n",
              "  }\n",
              "\n",
              "  .colab-df-quickchart:hover {\n",
              "    background-color: var(--hover-bg-color);\n",
              "    box-shadow: 0 1px 2px rgba(60, 64, 67, 0.3), 0 1px 3px 1px rgba(60, 64, 67, 0.15);\n",
              "    fill: var(--button-hover-fill-color);\n",
              "  }\n",
              "\n",
              "  .colab-df-quickchart-complete:disabled,\n",
              "  .colab-df-quickchart-complete:disabled:hover {\n",
              "    background-color: var(--disabled-bg-color);\n",
              "    fill: var(--disabled-fill-color);\n",
              "    box-shadow: none;\n",
              "  }\n",
              "\n",
              "  .colab-df-spinner {\n",
              "    border: 2px solid var(--fill-color);\n",
              "    border-color: transparent;\n",
              "    border-bottom-color: var(--fill-color);\n",
              "    animation:\n",
              "      spin 1s steps(1) infinite;\n",
              "  }\n",
              "\n",
              "  @keyframes spin {\n",
              "    0% {\n",
              "      border-color: transparent;\n",
              "      border-bottom-color: var(--fill-color);\n",
              "      border-left-color: var(--fill-color);\n",
              "    }\n",
              "    20% {\n",
              "      border-color: transparent;\n",
              "      border-left-color: var(--fill-color);\n",
              "      border-top-color: var(--fill-color);\n",
              "    }\n",
              "    30% {\n",
              "      border-color: transparent;\n",
              "      border-left-color: var(--fill-color);\n",
              "      border-top-color: var(--fill-color);\n",
              "      border-right-color: var(--fill-color);\n",
              "    }\n",
              "    40% {\n",
              "      border-color: transparent;\n",
              "      border-right-color: var(--fill-color);\n",
              "      border-top-color: var(--fill-color);\n",
              "    }\n",
              "    60% {\n",
              "      border-color: transparent;\n",
              "      border-right-color: var(--fill-color);\n",
              "    }\n",
              "    80% {\n",
              "      border-color: transparent;\n",
              "      border-right-color: var(--fill-color);\n",
              "      border-bottom-color: var(--fill-color);\n",
              "    }\n",
              "    90% {\n",
              "      border-color: transparent;\n",
              "      border-bottom-color: var(--fill-color);\n",
              "    }\n",
              "  }\n",
              "</style>\n",
              "\n",
              "  <script>\n",
              "    async function quickchart(key) {\n",
              "      const quickchartButtonEl =\n",
              "        document.querySelector('#' + key + ' button');\n",
              "      quickchartButtonEl.disabled = true;  // To prevent multiple clicks.\n",
              "      quickchartButtonEl.classList.add('colab-df-spinner');\n",
              "      try {\n",
              "        const charts = await google.colab.kernel.invokeFunction(\n",
              "            'suggestCharts', [key], {});\n",
              "      } catch (error) {\n",
              "        console.error('Error during call to suggestCharts:', error);\n",
              "      }\n",
              "      quickchartButtonEl.classList.remove('colab-df-spinner');\n",
              "      quickchartButtonEl.classList.add('colab-df-quickchart-complete');\n",
              "    }\n",
              "    (() => {\n",
              "      let quickchartButtonEl =\n",
              "        document.querySelector('#df-1fbe7309-f9f6-485f-b63f-d2f31ede85aa button');\n",
              "      quickchartButtonEl.style.display =\n",
              "        google.colab.kernel.accessAllowed ? 'block' : 'none';\n",
              "    })();\n",
              "  </script>\n",
              "</div>\n",
              "\n",
              "    </div>\n",
              "  </div>\n"
            ],
            "application/vnd.google.colaboratory.intrinsic+json": {
              "type": "dataframe",
              "summary": "{\n  \"name\": \"sales\",\n  \"rows\": 5,\n  \"fields\": [\n    {\n      \"column\": \"Order Date\",\n      \"properties\": {\n        \"dtype\": \"date\",\n        \"min\": \"2011-01-04 00:00:00\",\n        \"max\": \"2011-01-07 00:00:00\",\n        \"num_unique_values\": 4,\n        \"samples\": [\n          \"2011-01-05 00:00:00\",\n          \"2011-01-07 00:00:00\",\n          \"2011-01-04 00:00:00\"\n        ],\n        \"semantic_type\": \"\",\n        \"description\": \"\"\n      }\n    },\n    {\n      \"column\": \"Category\",\n      \"properties\": {\n        \"dtype\": \"category\",\n        \"num_unique_values\": 2,\n        \"samples\": [\n          \"Furniture\",\n          \"Office Supplies\"\n        ],\n        \"semantic_type\": \"\",\n        \"description\": \"\"\n      }\n    },\n    {\n      \"column\": \"Sales\",\n      \"properties\": {\n        \"dtype\": \"number\",\n        \"std\": 1073.545630431795,\n        \"min\": 16.448,\n        \"max\": 2573.82,\n        \"num_unique_values\": 5,\n        \"samples\": [\n          288.06,\n          685.34\n        ],\n        \"semantic_type\": \"\",\n        \"description\": \"\"\n      }\n    }\n  ]\n}"
            }
          },
          "metadata": {},
          "execution_count": 40
        }
      ],
      "source": [
        "sales.loc['2011'].head()"
      ]
    },
    {
      "cell_type": "markdown",
      "metadata": {
        "id": "6DqghUPeyQwL"
      },
      "source": [
        "The following code selects data from the 'sales' DataFrame where the 'Category' is 'Office Supplies' and the dates range from January to February 2012."
      ]
    },
    {
      "cell_type": "code",
      "execution_count": 41,
      "metadata": {
        "colab": {
          "base_uri": "https://localhost:8080/",
          "height": 238
        },
        "id": "QTGKogD8yTRt",
        "outputId": "c4ce5173-74e3-4871-9bfa-dfae0ddd36b9"
      },
      "outputs": [
        {
          "output_type": "execute_result",
          "data": {
            "text/plain": [
              "                   Category    Sales\n",
              "Order Date                          \n",
              "2012-01-02  Office Supplies  139.080\n",
              "2012-01-03  Office Supplies   17.424\n",
              "2012-01-04  Office Supplies   72.240\n",
              "2012-01-05  Office Supplies  233.688\n",
              "2012-01-06  Office Supplies   31.538"
            ],
            "text/html": [
              "\n",
              "  <div id=\"df-e4262882-b32f-41ba-9330-eb16f220513c\" class=\"colab-df-container\">\n",
              "    <div>\n",
              "<style scoped>\n",
              "    .dataframe tbody tr th:only-of-type {\n",
              "        vertical-align: middle;\n",
              "    }\n",
              "\n",
              "    .dataframe tbody tr th {\n",
              "        vertical-align: top;\n",
              "    }\n",
              "\n",
              "    .dataframe thead th {\n",
              "        text-align: right;\n",
              "    }\n",
              "</style>\n",
              "<table border=\"1\" class=\"dataframe\">\n",
              "  <thead>\n",
              "    <tr style=\"text-align: right;\">\n",
              "      <th></th>\n",
              "      <th>Category</th>\n",
              "      <th>Sales</th>\n",
              "    </tr>\n",
              "    <tr>\n",
              "      <th>Order Date</th>\n",
              "      <th></th>\n",
              "      <th></th>\n",
              "    </tr>\n",
              "  </thead>\n",
              "  <tbody>\n",
              "    <tr>\n",
              "      <th>2012-01-02</th>\n",
              "      <td>Office Supplies</td>\n",
              "      <td>139.080</td>\n",
              "    </tr>\n",
              "    <tr>\n",
              "      <th>2012-01-03</th>\n",
              "      <td>Office Supplies</td>\n",
              "      <td>17.424</td>\n",
              "    </tr>\n",
              "    <tr>\n",
              "      <th>2012-01-04</th>\n",
              "      <td>Office Supplies</td>\n",
              "      <td>72.240</td>\n",
              "    </tr>\n",
              "    <tr>\n",
              "      <th>2012-01-05</th>\n",
              "      <td>Office Supplies</td>\n",
              "      <td>233.688</td>\n",
              "    </tr>\n",
              "    <tr>\n",
              "      <th>2012-01-06</th>\n",
              "      <td>Office Supplies</td>\n",
              "      <td>31.538</td>\n",
              "    </tr>\n",
              "  </tbody>\n",
              "</table>\n",
              "</div>\n",
              "    <div class=\"colab-df-buttons\">\n",
              "\n",
              "  <div class=\"colab-df-container\">\n",
              "    <button class=\"colab-df-convert\" onclick=\"convertToInteractive('df-e4262882-b32f-41ba-9330-eb16f220513c')\"\n",
              "            title=\"Convert this dataframe to an interactive table.\"\n",
              "            style=\"display:none;\">\n",
              "\n",
              "  <svg xmlns=\"http://www.w3.org/2000/svg\" height=\"24px\" viewBox=\"0 -960 960 960\">\n",
              "    <path d=\"M120-120v-720h720v720H120Zm60-500h600v-160H180v160Zm220 220h160v-160H400v160Zm0 220h160v-160H400v160ZM180-400h160v-160H180v160Zm440 0h160v-160H620v160ZM180-180h160v-160H180v160Zm440 0h160v-160H620v160Z\"/>\n",
              "  </svg>\n",
              "    </button>\n",
              "\n",
              "  <style>\n",
              "    .colab-df-container {\n",
              "      display:flex;\n",
              "      gap: 12px;\n",
              "    }\n",
              "\n",
              "    .colab-df-convert {\n",
              "      background-color: #E8F0FE;\n",
              "      border: none;\n",
              "      border-radius: 50%;\n",
              "      cursor: pointer;\n",
              "      display: none;\n",
              "      fill: #1967D2;\n",
              "      height: 32px;\n",
              "      padding: 0 0 0 0;\n",
              "      width: 32px;\n",
              "    }\n",
              "\n",
              "    .colab-df-convert:hover {\n",
              "      background-color: #E2EBFA;\n",
              "      box-shadow: 0px 1px 2px rgba(60, 64, 67, 0.3), 0px 1px 3px 1px rgba(60, 64, 67, 0.15);\n",
              "      fill: #174EA6;\n",
              "    }\n",
              "\n",
              "    .colab-df-buttons div {\n",
              "      margin-bottom: 4px;\n",
              "    }\n",
              "\n",
              "    [theme=dark] .colab-df-convert {\n",
              "      background-color: #3B4455;\n",
              "      fill: #D2E3FC;\n",
              "    }\n",
              "\n",
              "    [theme=dark] .colab-df-convert:hover {\n",
              "      background-color: #434B5C;\n",
              "      box-shadow: 0px 1px 3px 1px rgba(0, 0, 0, 0.15);\n",
              "      filter: drop-shadow(0px 1px 2px rgba(0, 0, 0, 0.3));\n",
              "      fill: #FFFFFF;\n",
              "    }\n",
              "  </style>\n",
              "\n",
              "    <script>\n",
              "      const buttonEl =\n",
              "        document.querySelector('#df-e4262882-b32f-41ba-9330-eb16f220513c button.colab-df-convert');\n",
              "      buttonEl.style.display =\n",
              "        google.colab.kernel.accessAllowed ? 'block' : 'none';\n",
              "\n",
              "      async function convertToInteractive(key) {\n",
              "        const element = document.querySelector('#df-e4262882-b32f-41ba-9330-eb16f220513c');\n",
              "        const dataTable =\n",
              "          await google.colab.kernel.invokeFunction('convertToInteractive',\n",
              "                                                    [key], {});\n",
              "        if (!dataTable) return;\n",
              "\n",
              "        const docLinkHtml = 'Like what you see? Visit the ' +\n",
              "          '<a target=\"_blank\" href=https://colab.research.google.com/notebooks/data_table.ipynb>data table notebook</a>'\n",
              "          + ' to learn more about interactive tables.';\n",
              "        element.innerHTML = '';\n",
              "        dataTable['output_type'] = 'display_data';\n",
              "        await google.colab.output.renderOutput(dataTable, element);\n",
              "        const docLink = document.createElement('div');\n",
              "        docLink.innerHTML = docLinkHtml;\n",
              "        element.appendChild(docLink);\n",
              "      }\n",
              "    </script>\n",
              "  </div>\n",
              "\n",
              "\n",
              "<div id=\"df-d3a87d74-beb1-454e-8391-6c355d00dfbe\">\n",
              "  <button class=\"colab-df-quickchart\" onclick=\"quickchart('df-d3a87d74-beb1-454e-8391-6c355d00dfbe')\"\n",
              "            title=\"Suggest charts\"\n",
              "            style=\"display:none;\">\n",
              "\n",
              "<svg xmlns=\"http://www.w3.org/2000/svg\" height=\"24px\"viewBox=\"0 0 24 24\"\n",
              "     width=\"24px\">\n",
              "    <g>\n",
              "        <path d=\"M19 3H5c-1.1 0-2 .9-2 2v14c0 1.1.9 2 2 2h14c1.1 0 2-.9 2-2V5c0-1.1-.9-2-2-2zM9 17H7v-7h2v7zm4 0h-2V7h2v10zm4 0h-2v-4h2v4z\"/>\n",
              "    </g>\n",
              "</svg>\n",
              "  </button>\n",
              "\n",
              "<style>\n",
              "  .colab-df-quickchart {\n",
              "      --bg-color: #E8F0FE;\n",
              "      --fill-color: #1967D2;\n",
              "      --hover-bg-color: #E2EBFA;\n",
              "      --hover-fill-color: #174EA6;\n",
              "      --disabled-fill-color: #AAA;\n",
              "      --disabled-bg-color: #DDD;\n",
              "  }\n",
              "\n",
              "  [theme=dark] .colab-df-quickchart {\n",
              "      --bg-color: #3B4455;\n",
              "      --fill-color: #D2E3FC;\n",
              "      --hover-bg-color: #434B5C;\n",
              "      --hover-fill-color: #FFFFFF;\n",
              "      --disabled-bg-color: #3B4455;\n",
              "      --disabled-fill-color: #666;\n",
              "  }\n",
              "\n",
              "  .colab-df-quickchart {\n",
              "    background-color: var(--bg-color);\n",
              "    border: none;\n",
              "    border-radius: 50%;\n",
              "    cursor: pointer;\n",
              "    display: none;\n",
              "    fill: var(--fill-color);\n",
              "    height: 32px;\n",
              "    padding: 0;\n",
              "    width: 32px;\n",
              "  }\n",
              "\n",
              "  .colab-df-quickchart:hover {\n",
              "    background-color: var(--hover-bg-color);\n",
              "    box-shadow: 0 1px 2px rgba(60, 64, 67, 0.3), 0 1px 3px 1px rgba(60, 64, 67, 0.15);\n",
              "    fill: var(--button-hover-fill-color);\n",
              "  }\n",
              "\n",
              "  .colab-df-quickchart-complete:disabled,\n",
              "  .colab-df-quickchart-complete:disabled:hover {\n",
              "    background-color: var(--disabled-bg-color);\n",
              "    fill: var(--disabled-fill-color);\n",
              "    box-shadow: none;\n",
              "  }\n",
              "\n",
              "  .colab-df-spinner {\n",
              "    border: 2px solid var(--fill-color);\n",
              "    border-color: transparent;\n",
              "    border-bottom-color: var(--fill-color);\n",
              "    animation:\n",
              "      spin 1s steps(1) infinite;\n",
              "  }\n",
              "\n",
              "  @keyframes spin {\n",
              "    0% {\n",
              "      border-color: transparent;\n",
              "      border-bottom-color: var(--fill-color);\n",
              "      border-left-color: var(--fill-color);\n",
              "    }\n",
              "    20% {\n",
              "      border-color: transparent;\n",
              "      border-left-color: var(--fill-color);\n",
              "      border-top-color: var(--fill-color);\n",
              "    }\n",
              "    30% {\n",
              "      border-color: transparent;\n",
              "      border-left-color: var(--fill-color);\n",
              "      border-top-color: var(--fill-color);\n",
              "      border-right-color: var(--fill-color);\n",
              "    }\n",
              "    40% {\n",
              "      border-color: transparent;\n",
              "      border-right-color: var(--fill-color);\n",
              "      border-top-color: var(--fill-color);\n",
              "    }\n",
              "    60% {\n",
              "      border-color: transparent;\n",
              "      border-right-color: var(--fill-color);\n",
              "    }\n",
              "    80% {\n",
              "      border-color: transparent;\n",
              "      border-right-color: var(--fill-color);\n",
              "      border-bottom-color: var(--fill-color);\n",
              "    }\n",
              "    90% {\n",
              "      border-color: transparent;\n",
              "      border-bottom-color: var(--fill-color);\n",
              "    }\n",
              "  }\n",
              "</style>\n",
              "\n",
              "  <script>\n",
              "    async function quickchart(key) {\n",
              "      const quickchartButtonEl =\n",
              "        document.querySelector('#' + key + ' button');\n",
              "      quickchartButtonEl.disabled = true;  // To prevent multiple clicks.\n",
              "      quickchartButtonEl.classList.add('colab-df-spinner');\n",
              "      try {\n",
              "        const charts = await google.colab.kernel.invokeFunction(\n",
              "            'suggestCharts', [key], {});\n",
              "      } catch (error) {\n",
              "        console.error('Error during call to suggestCharts:', error);\n",
              "      }\n",
              "      quickchartButtonEl.classList.remove('colab-df-spinner');\n",
              "      quickchartButtonEl.classList.add('colab-df-quickchart-complete');\n",
              "    }\n",
              "    (() => {\n",
              "      let quickchartButtonEl =\n",
              "        document.querySelector('#df-d3a87d74-beb1-454e-8391-6c355d00dfbe button');\n",
              "      quickchartButtonEl.style.display =\n",
              "        google.colab.kernel.accessAllowed ? 'block' : 'none';\n",
              "    })();\n",
              "  </script>\n",
              "</div>\n",
              "\n",
              "    </div>\n",
              "  </div>\n"
            ],
            "application/vnd.google.colaboratory.intrinsic+json": {
              "type": "dataframe",
              "summary": "{\n  \"name\": \"#\\uc778\\ub371\\uc2a4\\uac00 datetime \\ud615\\uc2dd\\uc774\\uc5b4\\uc57c\\ub9cc \\ub3d9\\uc791\",\n  \"rows\": 5,\n  \"fields\": [\n    {\n      \"column\": \"Order Date\",\n      \"properties\": {\n        \"dtype\": \"date\",\n        \"min\": \"2012-01-02 00:00:00\",\n        \"max\": \"2012-01-06 00:00:00\",\n        \"num_unique_values\": 5,\n        \"samples\": [\n          \"2012-01-03 00:00:00\",\n          \"2012-01-06 00:00:00\",\n          \"2012-01-04 00:00:00\"\n        ],\n        \"semantic_type\": \"\",\n        \"description\": \"\"\n      }\n    },\n    {\n      \"column\": \"Category\",\n      \"properties\": {\n        \"dtype\": \"category\",\n        \"num_unique_values\": 1,\n        \"samples\": [\n          \"Office Supplies\"\n        ],\n        \"semantic_type\": \"\",\n        \"description\": \"\"\n      }\n    },\n    {\n      \"column\": \"Sales\",\n      \"properties\": {\n        \"dtype\": \"number\",\n        \"std\": 88.97880981447211,\n        \"min\": 17.424,\n        \"max\": 233.688,\n        \"num_unique_values\": 5,\n        \"samples\": [\n          17.424\n        ],\n        \"semantic_type\": \"\",\n        \"description\": \"\"\n      }\n    }\n  ]\n}"
            }
          },
          "metadata": {},
          "execution_count": 41
        }
      ],
      "source": [
        "sales[sales['Category'] == 'Office Supplies']['2012-01':'2012-02'].head()\n",
        "#인덱스가 datetime 형식이어야만 동작"
      ]
    },
    {
      "cell_type": "markdown",
      "metadata": {
        "id": "gHt0fHdvyU_E"
      },
      "source": [
        "### Datetime Components\n",
        "\n",
        "Pandas Datetime variables have several useful components. You can extract elements such as month, year, day of the week, quarter, etc., using DatetimeIndex."
      ]
    },
    {
      "cell_type": "markdown",
      "metadata": {
        "id": "-JrCUvOAyXRZ"
      },
      "source": [
        "The following code extracts the day information from the index of the 'sales' DataFrame."
      ]
    },
    {
      "cell_type": "code",
      "execution_count": 42,
      "metadata": {
        "colab": {
          "base_uri": "https://localhost:8080/"
        },
        "id": "eGQOi6GwyZyc",
        "outputId": "a7c93d7a-b3f4-4b4e-91c5-98fb2e4bdf35"
      },
      "outputs": [
        {
          "output_type": "execute_result",
          "data": {
            "text/plain": [
              "Index([ 4,  5,  6,  7,  7,  7,  8,  8, 10, 10,\n",
              "       ...\n",
              "       28, 29, 29, 29, 30, 30, 30, 31, 31, 31],\n",
              "      dtype='int32', name='Order Date', length=2864)"
            ]
          },
          "metadata": {},
          "execution_count": 42
        }
      ],
      "source": [
        "sales.index.day"
      ]
    },
    {
      "cell_type": "markdown",
      "metadata": {
        "id": "ad6Asxffybn8"
      },
      "source": [
        "The following code is an example of getting the day of the week information from the index of the 'sales' DataFrame."
      ]
    },
    {
      "cell_type": "code",
      "execution_count": 43,
      "metadata": {
        "colab": {
          "base_uri": "https://localhost:8080/"
        },
        "id": "HDSHxJpTyfKK",
        "outputId": "d5946820-1687-435f-efd9-85598d277011"
      },
      "outputs": [
        {
          "output_type": "execute_result",
          "data": {
            "text/plain": [
              "Index([1, 2, 3, 4, 4, 4, 5, 5, 0, 0,\n",
              "       ...\n",
              "       6, 0, 0, 0, 1, 1, 1, 2, 2, 2],\n",
              "      dtype='int32', name='Order Date', length=2864)"
            ]
          },
          "metadata": {},
          "execution_count": 43
        }
      ],
      "source": [
        "sales.index.dayofweek   # Day of Week: Monday=0, Sunday=6"
      ]
    },
    {
      "cell_type": "markdown",
      "metadata": {
        "id": "AosnnXvsyph8"
      },
      "source": [
        "This code adds a new column 'DayofWeek' to the 'sales' DataFrame, assigning each row's index date's day of the week information to this column."
      ]
    },
    {
      "cell_type": "code",
      "execution_count": 44,
      "metadata": {
        "colab": {
          "base_uri": "https://localhost:8080/",
          "height": 238
        },
        "id": "KTlyVcTOyrbK",
        "outputId": "98d07933-7b57-44eb-83a1-1fc1b3ea16fd"
      },
      "outputs": [
        {
          "output_type": "execute_result",
          "data": {
            "text/plain": [
              "                   Category     Sales  DayofWeek\n",
              "Order Date                                      \n",
              "2011-01-04  Office Supplies    16.448    Tuesday\n",
              "2011-01-05  Office Supplies   288.060  Wednesday\n",
              "2011-01-06  Office Supplies    19.536   Thursday\n",
              "2011-01-07        Furniture  2573.820     Friday\n",
              "2011-01-07  Office Supplies   685.340     Friday"
            ],
            "text/html": [
              "\n",
              "  <div id=\"df-ace74ebc-ad21-4445-bb7d-b94191f8d168\" class=\"colab-df-container\">\n",
              "    <div>\n",
              "<style scoped>\n",
              "    .dataframe tbody tr th:only-of-type {\n",
              "        vertical-align: middle;\n",
              "    }\n",
              "\n",
              "    .dataframe tbody tr th {\n",
              "        vertical-align: top;\n",
              "    }\n",
              "\n",
              "    .dataframe thead th {\n",
              "        text-align: right;\n",
              "    }\n",
              "</style>\n",
              "<table border=\"1\" class=\"dataframe\">\n",
              "  <thead>\n",
              "    <tr style=\"text-align: right;\">\n",
              "      <th></th>\n",
              "      <th>Category</th>\n",
              "      <th>Sales</th>\n",
              "      <th>DayofWeek</th>\n",
              "    </tr>\n",
              "    <tr>\n",
              "      <th>Order Date</th>\n",
              "      <th></th>\n",
              "      <th></th>\n",
              "      <th></th>\n",
              "    </tr>\n",
              "  </thead>\n",
              "  <tbody>\n",
              "    <tr>\n",
              "      <th>2011-01-04</th>\n",
              "      <td>Office Supplies</td>\n",
              "      <td>16.448</td>\n",
              "      <td>Tuesday</td>\n",
              "    </tr>\n",
              "    <tr>\n",
              "      <th>2011-01-05</th>\n",
              "      <td>Office Supplies</td>\n",
              "      <td>288.060</td>\n",
              "      <td>Wednesday</td>\n",
              "    </tr>\n",
              "    <tr>\n",
              "      <th>2011-01-06</th>\n",
              "      <td>Office Supplies</td>\n",
              "      <td>19.536</td>\n",
              "      <td>Thursday</td>\n",
              "    </tr>\n",
              "    <tr>\n",
              "      <th>2011-01-07</th>\n",
              "      <td>Furniture</td>\n",
              "      <td>2573.820</td>\n",
              "      <td>Friday</td>\n",
              "    </tr>\n",
              "    <tr>\n",
              "      <th>2011-01-07</th>\n",
              "      <td>Office Supplies</td>\n",
              "      <td>685.340</td>\n",
              "      <td>Friday</td>\n",
              "    </tr>\n",
              "  </tbody>\n",
              "</table>\n",
              "</div>\n",
              "    <div class=\"colab-df-buttons\">\n",
              "\n",
              "  <div class=\"colab-df-container\">\n",
              "    <button class=\"colab-df-convert\" onclick=\"convertToInteractive('df-ace74ebc-ad21-4445-bb7d-b94191f8d168')\"\n",
              "            title=\"Convert this dataframe to an interactive table.\"\n",
              "            style=\"display:none;\">\n",
              "\n",
              "  <svg xmlns=\"http://www.w3.org/2000/svg\" height=\"24px\" viewBox=\"0 -960 960 960\">\n",
              "    <path d=\"M120-120v-720h720v720H120Zm60-500h600v-160H180v160Zm220 220h160v-160H400v160Zm0 220h160v-160H400v160ZM180-400h160v-160H180v160Zm440 0h160v-160H620v160ZM180-180h160v-160H180v160Zm440 0h160v-160H620v160Z\"/>\n",
              "  </svg>\n",
              "    </button>\n",
              "\n",
              "  <style>\n",
              "    .colab-df-container {\n",
              "      display:flex;\n",
              "      gap: 12px;\n",
              "    }\n",
              "\n",
              "    .colab-df-convert {\n",
              "      background-color: #E8F0FE;\n",
              "      border: none;\n",
              "      border-radius: 50%;\n",
              "      cursor: pointer;\n",
              "      display: none;\n",
              "      fill: #1967D2;\n",
              "      height: 32px;\n",
              "      padding: 0 0 0 0;\n",
              "      width: 32px;\n",
              "    }\n",
              "\n",
              "    .colab-df-convert:hover {\n",
              "      background-color: #E2EBFA;\n",
              "      box-shadow: 0px 1px 2px rgba(60, 64, 67, 0.3), 0px 1px 3px 1px rgba(60, 64, 67, 0.15);\n",
              "      fill: #174EA6;\n",
              "    }\n",
              "\n",
              "    .colab-df-buttons div {\n",
              "      margin-bottom: 4px;\n",
              "    }\n",
              "\n",
              "    [theme=dark] .colab-df-convert {\n",
              "      background-color: #3B4455;\n",
              "      fill: #D2E3FC;\n",
              "    }\n",
              "\n",
              "    [theme=dark] .colab-df-convert:hover {\n",
              "      background-color: #434B5C;\n",
              "      box-shadow: 0px 1px 3px 1px rgba(0, 0, 0, 0.15);\n",
              "      filter: drop-shadow(0px 1px 2px rgba(0, 0, 0, 0.3));\n",
              "      fill: #FFFFFF;\n",
              "    }\n",
              "  </style>\n",
              "\n",
              "    <script>\n",
              "      const buttonEl =\n",
              "        document.querySelector('#df-ace74ebc-ad21-4445-bb7d-b94191f8d168 button.colab-df-convert');\n",
              "      buttonEl.style.display =\n",
              "        google.colab.kernel.accessAllowed ? 'block' : 'none';\n",
              "\n",
              "      async function convertToInteractive(key) {\n",
              "        const element = document.querySelector('#df-ace74ebc-ad21-4445-bb7d-b94191f8d168');\n",
              "        const dataTable =\n",
              "          await google.colab.kernel.invokeFunction('convertToInteractive',\n",
              "                                                    [key], {});\n",
              "        if (!dataTable) return;\n",
              "\n",
              "        const docLinkHtml = 'Like what you see? Visit the ' +\n",
              "          '<a target=\"_blank\" href=https://colab.research.google.com/notebooks/data_table.ipynb>data table notebook</a>'\n",
              "          + ' to learn more about interactive tables.';\n",
              "        element.innerHTML = '';\n",
              "        dataTable['output_type'] = 'display_data';\n",
              "        await google.colab.output.renderOutput(dataTable, element);\n",
              "        const docLink = document.createElement('div');\n",
              "        docLink.innerHTML = docLinkHtml;\n",
              "        element.appendChild(docLink);\n",
              "      }\n",
              "    </script>\n",
              "  </div>\n",
              "\n",
              "\n",
              "<div id=\"df-d161b9b4-9840-49da-adcf-23b502d96f0f\">\n",
              "  <button class=\"colab-df-quickchart\" onclick=\"quickchart('df-d161b9b4-9840-49da-adcf-23b502d96f0f')\"\n",
              "            title=\"Suggest charts\"\n",
              "            style=\"display:none;\">\n",
              "\n",
              "<svg xmlns=\"http://www.w3.org/2000/svg\" height=\"24px\"viewBox=\"0 0 24 24\"\n",
              "     width=\"24px\">\n",
              "    <g>\n",
              "        <path d=\"M19 3H5c-1.1 0-2 .9-2 2v14c0 1.1.9 2 2 2h14c1.1 0 2-.9 2-2V5c0-1.1-.9-2-2-2zM9 17H7v-7h2v7zm4 0h-2V7h2v10zm4 0h-2v-4h2v4z\"/>\n",
              "    </g>\n",
              "</svg>\n",
              "  </button>\n",
              "\n",
              "<style>\n",
              "  .colab-df-quickchart {\n",
              "      --bg-color: #E8F0FE;\n",
              "      --fill-color: #1967D2;\n",
              "      --hover-bg-color: #E2EBFA;\n",
              "      --hover-fill-color: #174EA6;\n",
              "      --disabled-fill-color: #AAA;\n",
              "      --disabled-bg-color: #DDD;\n",
              "  }\n",
              "\n",
              "  [theme=dark] .colab-df-quickchart {\n",
              "      --bg-color: #3B4455;\n",
              "      --fill-color: #D2E3FC;\n",
              "      --hover-bg-color: #434B5C;\n",
              "      --hover-fill-color: #FFFFFF;\n",
              "      --disabled-bg-color: #3B4455;\n",
              "      --disabled-fill-color: #666;\n",
              "  }\n",
              "\n",
              "  .colab-df-quickchart {\n",
              "    background-color: var(--bg-color);\n",
              "    border: none;\n",
              "    border-radius: 50%;\n",
              "    cursor: pointer;\n",
              "    display: none;\n",
              "    fill: var(--fill-color);\n",
              "    height: 32px;\n",
              "    padding: 0;\n",
              "    width: 32px;\n",
              "  }\n",
              "\n",
              "  .colab-df-quickchart:hover {\n",
              "    background-color: var(--hover-bg-color);\n",
              "    box-shadow: 0 1px 2px rgba(60, 64, 67, 0.3), 0 1px 3px 1px rgba(60, 64, 67, 0.15);\n",
              "    fill: var(--button-hover-fill-color);\n",
              "  }\n",
              "\n",
              "  .colab-df-quickchart-complete:disabled,\n",
              "  .colab-df-quickchart-complete:disabled:hover {\n",
              "    background-color: var(--disabled-bg-color);\n",
              "    fill: var(--disabled-fill-color);\n",
              "    box-shadow: none;\n",
              "  }\n",
              "\n",
              "  .colab-df-spinner {\n",
              "    border: 2px solid var(--fill-color);\n",
              "    border-color: transparent;\n",
              "    border-bottom-color: var(--fill-color);\n",
              "    animation:\n",
              "      spin 1s steps(1) infinite;\n",
              "  }\n",
              "\n",
              "  @keyframes spin {\n",
              "    0% {\n",
              "      border-color: transparent;\n",
              "      border-bottom-color: var(--fill-color);\n",
              "      border-left-color: var(--fill-color);\n",
              "    }\n",
              "    20% {\n",
              "      border-color: transparent;\n",
              "      border-left-color: var(--fill-color);\n",
              "      border-top-color: var(--fill-color);\n",
              "    }\n",
              "    30% {\n",
              "      border-color: transparent;\n",
              "      border-left-color: var(--fill-color);\n",
              "      border-top-color: var(--fill-color);\n",
              "      border-right-color: var(--fill-color);\n",
              "    }\n",
              "    40% {\n",
              "      border-color: transparent;\n",
              "      border-right-color: var(--fill-color);\n",
              "      border-top-color: var(--fill-color);\n",
              "    }\n",
              "    60% {\n",
              "      border-color: transparent;\n",
              "      border-right-color: var(--fill-color);\n",
              "    }\n",
              "    80% {\n",
              "      border-color: transparent;\n",
              "      border-right-color: var(--fill-color);\n",
              "      border-bottom-color: var(--fill-color);\n",
              "    }\n",
              "    90% {\n",
              "      border-color: transparent;\n",
              "      border-bottom-color: var(--fill-color);\n",
              "    }\n",
              "  }\n",
              "</style>\n",
              "\n",
              "  <script>\n",
              "    async function quickchart(key) {\n",
              "      const quickchartButtonEl =\n",
              "        document.querySelector('#' + key + ' button');\n",
              "      quickchartButtonEl.disabled = true;  // To prevent multiple clicks.\n",
              "      quickchartButtonEl.classList.add('colab-df-spinner');\n",
              "      try {\n",
              "        const charts = await google.colab.kernel.invokeFunction(\n",
              "            'suggestCharts', [key], {});\n",
              "      } catch (error) {\n",
              "        console.error('Error during call to suggestCharts:', error);\n",
              "      }\n",
              "      quickchartButtonEl.classList.remove('colab-df-spinner');\n",
              "      quickchartButtonEl.classList.add('colab-df-quickchart-complete');\n",
              "    }\n",
              "    (() => {\n",
              "      let quickchartButtonEl =\n",
              "        document.querySelector('#df-d161b9b4-9840-49da-adcf-23b502d96f0f button');\n",
              "      quickchartButtonEl.style.display =\n",
              "        google.colab.kernel.accessAllowed ? 'block' : 'none';\n",
              "    })();\n",
              "  </script>\n",
              "</div>\n",
              "\n",
              "    </div>\n",
              "  </div>\n"
            ],
            "application/vnd.google.colaboratory.intrinsic+json": {
              "type": "dataframe",
              "variable_name": "sales",
              "summary": "{\n  \"name\": \"sales\",\n  \"rows\": 2864,\n  \"fields\": [\n    {\n      \"column\": \"Order Date\",\n      \"properties\": {\n        \"dtype\": \"date\",\n        \"min\": \"2011-01-04 00:00:00\",\n        \"max\": \"2014-12-31 00:00:00\",\n        \"num_unique_values\": 1238,\n        \"samples\": [\n          \"2013-01-28 00:00:00\",\n          \"2011-08-09 00:00:00\",\n          \"2013-11-13 00:00:00\"\n        ],\n        \"semantic_type\": \"\",\n        \"description\": \"\"\n      }\n    },\n    {\n      \"column\": \"Category\",\n      \"properties\": {\n        \"dtype\": \"category\",\n        \"num_unique_values\": 3,\n        \"samples\": [\n          \"Office Supplies\",\n          \"Furniture\",\n          \"Technology\"\n        ],\n        \"semantic_type\": \"\",\n        \"description\": \"\"\n      }\n    },\n    {\n      \"column\": \"Sales\",\n      \"properties\": {\n        \"dtype\": \"number\",\n        \"std\": 1295.546481836526,\n        \"min\": 1.584,\n        \"max\": 24739.748,\n        \"num_unique_values\": 2792,\n        \"samples\": [\n          623.3219999999999,\n          861.76,\n          152.96599999999998\n        ],\n        \"semantic_type\": \"\",\n        \"description\": \"\"\n      }\n    },\n    {\n      \"column\": \"DayofWeek\",\n      \"properties\": {\n        \"dtype\": \"category\",\n        \"num_unique_values\": 7,\n        \"samples\": [\n          \"Tuesday\",\n          \"Wednesday\",\n          \"Monday\"\n        ],\n        \"semantic_type\": \"\",\n        \"description\": \"\"\n      }\n    }\n  ]\n}"
            }
          },
          "metadata": {},
          "execution_count": 44
        }
      ],
      "source": [
        "sales['DayofWeek'] = sales.index.day_name()\n",
        "sales.head()"
      ]
    },
    {
      "cell_type": "markdown",
      "metadata": {
        "id": "eGJz2c_Oyugt"
      },
      "source": [
        "## Resample\n",
        "\n",
        "- Adjust the time interval.\n",
        "- Since the original data is grouped, you need to compute a representative value for each group."
      ]
    },
    {
      "cell_type": "markdown",
      "metadata": {
        "id": "XctbpMjlywO-"
      },
      "source": [
        "This code generates a random series of length 100 using NumPy's randn() function, converts it to a pandas Series, and sets the index using the pd.date_range() function for a period of 100 months starting from January 1, 2018. The frequency is set to \"M\" to specify monthly intervals.\n",
        "\n",
        "A time series of 100 random values from January 1, 2018, at monthly intervals is created, allowing the use of various pandas functions and methods for handling time series data."
      ]
    },
    {
      "cell_type": "code",
      "execution_count": 45,
      "metadata": {
        "colab": {
          "base_uri": "https://localhost:8080/",
          "height": 294
        },
        "id": "b2I4Gj5Xy7SE",
        "outputId": "da82f0ff-3cfd-4ce9-8e50-3877fc8424ae"
      },
      "outputs": [
        {
          "output_type": "stream",
          "name": "stdout",
          "text": [
            "(100,)\n"
          ]
        },
        {
          "output_type": "stream",
          "name": "stderr",
          "text": [
            "<ipython-input-45-cd2b059f5661>:2: FutureWarning: 'M' is deprecated and will be removed in a future version, please use 'ME' instead.\n",
            "  index=pd.date_range(\"2018-1-1\", periods=100, freq=\"M\"))\n"
          ]
        },
        {
          "output_type": "execute_result",
          "data": {
            "text/plain": [
              "2018-01-31   -0.386345\n",
              "2018-02-28   -0.648123\n",
              "2018-03-31   -1.583748\n",
              "2018-04-30   -0.989344\n",
              "2018-05-31   -0.069826\n",
              "Freq: ME, dtype: float64"
            ],
            "text/html": [
              "<div>\n",
              "<style scoped>\n",
              "    .dataframe tbody tr th:only-of-type {\n",
              "        vertical-align: middle;\n",
              "    }\n",
              "\n",
              "    .dataframe tbody tr th {\n",
              "        vertical-align: top;\n",
              "    }\n",
              "\n",
              "    .dataframe thead th {\n",
              "        text-align: right;\n",
              "    }\n",
              "</style>\n",
              "<table border=\"1\" class=\"dataframe\">\n",
              "  <thead>\n",
              "    <tr style=\"text-align: right;\">\n",
              "      <th></th>\n",
              "      <th>0</th>\n",
              "    </tr>\n",
              "  </thead>\n",
              "  <tbody>\n",
              "    <tr>\n",
              "      <th>2018-01-31</th>\n",
              "      <td>-0.386345</td>\n",
              "    </tr>\n",
              "    <tr>\n",
              "      <th>2018-02-28</th>\n",
              "      <td>-0.648123</td>\n",
              "    </tr>\n",
              "    <tr>\n",
              "      <th>2018-03-31</th>\n",
              "      <td>-1.583748</td>\n",
              "    </tr>\n",
              "    <tr>\n",
              "      <th>2018-04-30</th>\n",
              "      <td>-0.989344</td>\n",
              "    </tr>\n",
              "    <tr>\n",
              "      <th>2018-05-31</th>\n",
              "      <td>-0.069826</td>\n",
              "    </tr>\n",
              "  </tbody>\n",
              "</table>\n",
              "</div><br><label><b>dtype:</b> float64</label>"
            ]
          },
          "metadata": {},
          "execution_count": 45
        }
      ],
      "source": [
        "tms = pd.Series(np.random.randn(100),\n",
        "               index=pd.date_range(\"2018-1-1\", periods=100, freq=\"M\"))\n",
        "\n",
        "print(tms.shape)\n",
        "tms.head()"
      ]
    },
    {
      "cell_type": "code",
      "execution_count": 46,
      "metadata": {
        "colab": {
          "base_uri": "https://localhost:8080/",
          "height": 241
        },
        "id": "a4QASd9MzHUv",
        "outputId": "bf3793cc-8fe4-40ff-fcc8-062f9c28cc9b"
      },
      "outputs": [
        {
          "output_type": "execute_result",
          "data": {
            "text/plain": [
              "2025-12-31   -0.470650\n",
              "2026-01-31   -0.715466\n",
              "2026-02-28   -0.019061\n",
              "2026-03-31    1.065882\n",
              "2026-04-30   -0.835136\n",
              "Freq: ME, dtype: float64"
            ],
            "text/html": [
              "<div>\n",
              "<style scoped>\n",
              "    .dataframe tbody tr th:only-of-type {\n",
              "        vertical-align: middle;\n",
              "    }\n",
              "\n",
              "    .dataframe tbody tr th {\n",
              "        vertical-align: top;\n",
              "    }\n",
              "\n",
              "    .dataframe thead th {\n",
              "        text-align: right;\n",
              "    }\n",
              "</style>\n",
              "<table border=\"1\" class=\"dataframe\">\n",
              "  <thead>\n",
              "    <tr style=\"text-align: right;\">\n",
              "      <th></th>\n",
              "      <th>0</th>\n",
              "    </tr>\n",
              "  </thead>\n",
              "  <tbody>\n",
              "    <tr>\n",
              "      <th>2025-12-31</th>\n",
              "      <td>-0.470650</td>\n",
              "    </tr>\n",
              "    <tr>\n",
              "      <th>2026-01-31</th>\n",
              "      <td>-0.715466</td>\n",
              "    </tr>\n",
              "    <tr>\n",
              "      <th>2026-02-28</th>\n",
              "      <td>-0.019061</td>\n",
              "    </tr>\n",
              "    <tr>\n",
              "      <th>2026-03-31</th>\n",
              "      <td>1.065882</td>\n",
              "    </tr>\n",
              "    <tr>\n",
              "      <th>2026-04-30</th>\n",
              "      <td>-0.835136</td>\n",
              "    </tr>\n",
              "  </tbody>\n",
              "</table>\n",
              "</div><br><label><b>dtype:</b> float64</label>"
            ]
          },
          "metadata": {},
          "execution_count": 46
        }
      ],
      "source": [
        "tms.tail()"
      ]
    },
    {
      "cell_type": "markdown",
      "metadata": {
        "id": "WCX7RviczJhd"
      },
      "source": [
        "The following code demonstrates down-sampling a pandas Series to a weekly interval."
      ]
    },
    {
      "cell_type": "code",
      "execution_count": 47,
      "metadata": {
        "colab": {
          "base_uri": "https://localhost:8080/",
          "height": 458
        },
        "id": "NVva2DHtzLxL",
        "outputId": "68d7de89-a78f-434b-fef1-54ded542e425"
      },
      "outputs": [
        {
          "output_type": "execute_result",
          "data": {
            "text/plain": [
              "2018-02-04   -0.386345\n",
              "2018-02-11         NaN\n",
              "2018-02-18         NaN\n",
              "2018-02-25         NaN\n",
              "2018-03-04   -0.648123\n",
              "                ...   \n",
              "2026-04-05    1.065882\n",
              "2026-04-12         NaN\n",
              "2026-04-19         NaN\n",
              "2026-04-26         NaN\n",
              "2026-05-03   -0.835136\n",
              "Freq: W-SUN, Length: 431, dtype: float64"
            ],
            "text/html": [
              "<div>\n",
              "<style scoped>\n",
              "    .dataframe tbody tr th:only-of-type {\n",
              "        vertical-align: middle;\n",
              "    }\n",
              "\n",
              "    .dataframe tbody tr th {\n",
              "        vertical-align: top;\n",
              "    }\n",
              "\n",
              "    .dataframe thead th {\n",
              "        text-align: right;\n",
              "    }\n",
              "</style>\n",
              "<table border=\"1\" class=\"dataframe\">\n",
              "  <thead>\n",
              "    <tr style=\"text-align: right;\">\n",
              "      <th></th>\n",
              "      <th>0</th>\n",
              "    </tr>\n",
              "  </thead>\n",
              "  <tbody>\n",
              "    <tr>\n",
              "      <th>2018-02-04</th>\n",
              "      <td>-0.386345</td>\n",
              "    </tr>\n",
              "    <tr>\n",
              "      <th>2018-02-11</th>\n",
              "      <td>NaN</td>\n",
              "    </tr>\n",
              "    <tr>\n",
              "      <th>2018-02-18</th>\n",
              "      <td>NaN</td>\n",
              "    </tr>\n",
              "    <tr>\n",
              "      <th>2018-02-25</th>\n",
              "      <td>NaN</td>\n",
              "    </tr>\n",
              "    <tr>\n",
              "      <th>2018-03-04</th>\n",
              "      <td>-0.648123</td>\n",
              "    </tr>\n",
              "    <tr>\n",
              "      <th>...</th>\n",
              "      <td>...</td>\n",
              "    </tr>\n",
              "    <tr>\n",
              "      <th>2026-04-05</th>\n",
              "      <td>1.065882</td>\n",
              "    </tr>\n",
              "    <tr>\n",
              "      <th>2026-04-12</th>\n",
              "      <td>NaN</td>\n",
              "    </tr>\n",
              "    <tr>\n",
              "      <th>2026-04-19</th>\n",
              "      <td>NaN</td>\n",
              "    </tr>\n",
              "    <tr>\n",
              "      <th>2026-04-26</th>\n",
              "      <td>NaN</td>\n",
              "    </tr>\n",
              "    <tr>\n",
              "      <th>2026-05-03</th>\n",
              "      <td>-0.835136</td>\n",
              "    </tr>\n",
              "  </tbody>\n",
              "</table>\n",
              "<p>431 rows × 1 columns</p>\n",
              "</div><br><label><b>dtype:</b> float64</label>"
            ]
          },
          "metadata": {},
          "execution_count": 47
        }
      ],
      "source": [
        "# Down-sampling to weekly\n",
        "new_tms = tms.resample('W').max()\n",
        "new_tms"
      ]
    },
    {
      "cell_type": "markdown",
      "metadata": {
        "id": "PtDOfzoxzcd5"
      },
      "source": [
        "The following code calculates the average of a pandas Series at weekly and monthly intervals."
      ]
    },
    {
      "cell_type": "code",
      "execution_count": 48,
      "metadata": {
        "colab": {
          "base_uri": "https://localhost:8080/",
          "height": 259
        },
        "id": "lYpyZC7nPXNk",
        "outputId": "73df68c6-c78b-4e13-f2a6-379b02760593"
      },
      "outputs": [
        {
          "output_type": "stream",
          "name": "stdout",
          "text": [
            "(100,)\n"
          ]
        },
        {
          "output_type": "execute_result",
          "data": {
            "text/plain": [
              "2018-01-07   -0.554336\n",
              "2018-01-14    0.427291\n",
              "2018-01-21   -0.468667\n",
              "2018-01-28    0.059974\n",
              "2018-02-04    1.115033\n",
              "Freq: W-SUN, dtype: float64"
            ],
            "text/html": [
              "<div>\n",
              "<style scoped>\n",
              "    .dataframe tbody tr th:only-of-type {\n",
              "        vertical-align: middle;\n",
              "    }\n",
              "\n",
              "    .dataframe tbody tr th {\n",
              "        vertical-align: top;\n",
              "    }\n",
              "\n",
              "    .dataframe thead th {\n",
              "        text-align: right;\n",
              "    }\n",
              "</style>\n",
              "<table border=\"1\" class=\"dataframe\">\n",
              "  <thead>\n",
              "    <tr style=\"text-align: right;\">\n",
              "      <th></th>\n",
              "      <th>0</th>\n",
              "    </tr>\n",
              "  </thead>\n",
              "  <tbody>\n",
              "    <tr>\n",
              "      <th>2018-01-07</th>\n",
              "      <td>-0.554336</td>\n",
              "    </tr>\n",
              "    <tr>\n",
              "      <th>2018-01-14</th>\n",
              "      <td>0.427291</td>\n",
              "    </tr>\n",
              "    <tr>\n",
              "      <th>2018-01-21</th>\n",
              "      <td>-0.468667</td>\n",
              "    </tr>\n",
              "    <tr>\n",
              "      <th>2018-01-28</th>\n",
              "      <td>0.059974</td>\n",
              "    </tr>\n",
              "    <tr>\n",
              "      <th>2018-02-04</th>\n",
              "      <td>1.115033</td>\n",
              "    </tr>\n",
              "  </tbody>\n",
              "</table>\n",
              "</div><br><label><b>dtype:</b> float64</label>"
            ]
          },
          "metadata": {},
          "execution_count": 48
        }
      ],
      "source": [
        "tws = pd.Series(np.random.randn(100),\n",
        "               index=pd.date_range(\"2018-1-1\", periods=100, freq=\"W\"))\n",
        "\n",
        "print(tws.shape)\n",
        "tws.head()"
      ]
    },
    {
      "cell_type": "code",
      "execution_count": 49,
      "metadata": {
        "colab": {
          "base_uri": "https://localhost:8080/",
          "height": 872
        },
        "id": "x4kwNZl0zgiO",
        "outputId": "db8f826f-7d8d-4278-e6d8-cd39edf37a41"
      },
      "outputs": [
        {
          "output_type": "stream",
          "name": "stderr",
          "text": [
            "<ipython-input-49-d4c431791397>:1: FutureWarning: 'M' is deprecated and will be removed in a future version, please use 'ME' instead.\n",
            "  new_tws = tws.resample('M').mean() # Monthly Average\n"
          ]
        },
        {
          "output_type": "execute_result",
          "data": {
            "text/plain": [
              "2018-01-31   -0.133934\n",
              "2018-02-28    0.548462\n",
              "2018-03-31   -0.282485\n",
              "2018-04-30   -0.576157\n",
              "2018-05-31   -0.141378\n",
              "2018-06-30    0.389004\n",
              "2018-07-31   -0.010609\n",
              "2018-08-31    0.090037\n",
              "2018-09-30   -0.298896\n",
              "2018-10-31    0.131029\n",
              "2018-11-30    0.974372\n",
              "2018-12-31    0.695939\n",
              "2019-01-31   -0.278778\n",
              "2019-02-28    0.022958\n",
              "2019-03-31    0.137042\n",
              "2019-04-30    0.103628\n",
              "2019-05-31    0.288521\n",
              "2019-06-30   -0.215639\n",
              "2019-07-31   -0.555357\n",
              "2019-08-31   -0.858234\n",
              "2019-09-30    0.489036\n",
              "2019-10-31    0.738210\n",
              "2019-11-30   -0.235220\n",
              "2019-12-31   -1.075901\n",
              "Freq: ME, dtype: float64"
            ],
            "text/html": [
              "<div>\n",
              "<style scoped>\n",
              "    .dataframe tbody tr th:only-of-type {\n",
              "        vertical-align: middle;\n",
              "    }\n",
              "\n",
              "    .dataframe tbody tr th {\n",
              "        vertical-align: top;\n",
              "    }\n",
              "\n",
              "    .dataframe thead th {\n",
              "        text-align: right;\n",
              "    }\n",
              "</style>\n",
              "<table border=\"1\" class=\"dataframe\">\n",
              "  <thead>\n",
              "    <tr style=\"text-align: right;\">\n",
              "      <th></th>\n",
              "      <th>0</th>\n",
              "    </tr>\n",
              "  </thead>\n",
              "  <tbody>\n",
              "    <tr>\n",
              "      <th>2018-01-31</th>\n",
              "      <td>-0.133934</td>\n",
              "    </tr>\n",
              "    <tr>\n",
              "      <th>2018-02-28</th>\n",
              "      <td>0.548462</td>\n",
              "    </tr>\n",
              "    <tr>\n",
              "      <th>2018-03-31</th>\n",
              "      <td>-0.282485</td>\n",
              "    </tr>\n",
              "    <tr>\n",
              "      <th>2018-04-30</th>\n",
              "      <td>-0.576157</td>\n",
              "    </tr>\n",
              "    <tr>\n",
              "      <th>2018-05-31</th>\n",
              "      <td>-0.141378</td>\n",
              "    </tr>\n",
              "    <tr>\n",
              "      <th>2018-06-30</th>\n",
              "      <td>0.389004</td>\n",
              "    </tr>\n",
              "    <tr>\n",
              "      <th>2018-07-31</th>\n",
              "      <td>-0.010609</td>\n",
              "    </tr>\n",
              "    <tr>\n",
              "      <th>2018-08-31</th>\n",
              "      <td>0.090037</td>\n",
              "    </tr>\n",
              "    <tr>\n",
              "      <th>2018-09-30</th>\n",
              "      <td>-0.298896</td>\n",
              "    </tr>\n",
              "    <tr>\n",
              "      <th>2018-10-31</th>\n",
              "      <td>0.131029</td>\n",
              "    </tr>\n",
              "    <tr>\n",
              "      <th>2018-11-30</th>\n",
              "      <td>0.974372</td>\n",
              "    </tr>\n",
              "    <tr>\n",
              "      <th>2018-12-31</th>\n",
              "      <td>0.695939</td>\n",
              "    </tr>\n",
              "    <tr>\n",
              "      <th>2019-01-31</th>\n",
              "      <td>-0.278778</td>\n",
              "    </tr>\n",
              "    <tr>\n",
              "      <th>2019-02-28</th>\n",
              "      <td>0.022958</td>\n",
              "    </tr>\n",
              "    <tr>\n",
              "      <th>2019-03-31</th>\n",
              "      <td>0.137042</td>\n",
              "    </tr>\n",
              "    <tr>\n",
              "      <th>2019-04-30</th>\n",
              "      <td>0.103628</td>\n",
              "    </tr>\n",
              "    <tr>\n",
              "      <th>2019-05-31</th>\n",
              "      <td>0.288521</td>\n",
              "    </tr>\n",
              "    <tr>\n",
              "      <th>2019-06-30</th>\n",
              "      <td>-0.215639</td>\n",
              "    </tr>\n",
              "    <tr>\n",
              "      <th>2019-07-31</th>\n",
              "      <td>-0.555357</td>\n",
              "    </tr>\n",
              "    <tr>\n",
              "      <th>2019-08-31</th>\n",
              "      <td>-0.858234</td>\n",
              "    </tr>\n",
              "    <tr>\n",
              "      <th>2019-09-30</th>\n",
              "      <td>0.489036</td>\n",
              "    </tr>\n",
              "    <tr>\n",
              "      <th>2019-10-31</th>\n",
              "      <td>0.738210</td>\n",
              "    </tr>\n",
              "    <tr>\n",
              "      <th>2019-11-30</th>\n",
              "      <td>-0.235220</td>\n",
              "    </tr>\n",
              "    <tr>\n",
              "      <th>2019-12-31</th>\n",
              "      <td>-1.075901</td>\n",
              "    </tr>\n",
              "  </tbody>\n",
              "</table>\n",
              "</div><br><label><b>dtype:</b> float64</label>"
            ]
          },
          "metadata": {},
          "execution_count": 49
        }
      ],
      "source": [
        "new_tws = tws.resample('M').mean() # Monthly Average\n",
        "new_tws"
      ]
    }
  ],
  "metadata": {
    "colab": {
      "collapsed_sections": [
        "JY4F2ZiHpXbd",
        "Eoqmn1QYqLG6"
      ],
      "provenance": [],
      "include_colab_link": true
    },
    "kernelspec": {
      "display_name": "Python 3 (ipykernel)",
      "language": "python",
      "name": "python3"
    },
    "language_info": {
      "codemirror_mode": {
        "name": "ipython",
        "version": 3
      },
      "file_extension": ".py",
      "mimetype": "text/x-python",
      "name": "python",
      "nbconvert_exporter": "python",
      "pygments_lexer": "ipython3",
      "version": "3.11.7"
    }
  },
  "nbformat": 4,
  "nbformat_minor": 0
}